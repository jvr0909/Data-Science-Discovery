{
 "cells": [
  {
   "cell_type": "markdown",
   "source": [
    "# Lab: Regression\n",
    "\n",
    "## Group\n",
    "Enter the next Python cell to add information about who you’re working with within your lab section."
   ],
   "metadata": {
    "id": "Dc2p7M-MSuih"
   }
  },
  {
   "cell_type": "code",
   "execution_count": 1,
   "source": [
    "# First, meet your CAs and TA if you haven't already!\n",
    "# ...first name is enough, we'll know who they are! :)\n",
    "ta_name = \"Heman\"\n",
    "ca1_name = \"Justin\"\n",
    "ca2_name = \"Jessica\"\n",
    "ca3_name = \"\"\n",
    "\n",
    "#Also, make sure to meet your team for this lab! Find out their name, what major they're in,\n",
    "#and learn something new about them that you never knew before!\n",
    "\n",
    "partner1_name = \"\"\n",
    "partner1_netid = \"\"\n",
    "partner1_major = \"\"\n",
    " \n",
    "partner2_name = \"\"\n",
    "partner2_netid = \"\"\n",
    "partner2_major = \"\"\n",
    " \n",
    "partner3_name = \"\"\n",
    "partner3_netid = \"\"\n",
    "partner3_major = \"\""
   ],
   "outputs": [],
   "metadata": {
    "id": "2VV0rXy2S0lK"
   }
  },
  {
   "cell_type": "markdown",
   "source": [
    "## Table of Contents <a id='toc'></a>\n",
    "\n",
    "**Use the Outline view (View > Command Palette > Type \"outline\") for navigation.**\n",
    "\n",
    "* Puzzle 1\n",
    "    * Puzzle 1.1\n",
    "    * Puzzle 1.2a\n",
    "    * Puzzle 1.2b\n",
    "    * Puzzle 1.2c\n",
    "    * Puzzle 1.2d\n",
    "* Puzzle 2\n",
    "    * Puzzle 2.1\n",
    "    * Puzzle 2.2\n",
    "    * Puzzle 2.3\n",
    "    * Puzzle 2.4\n",
    "* Puzzle 3\n",
    "    * Puzzle 3.1\n",
    "    * Puzzle 3.2\n",
    "    * Puzzle 3.3\n",
    "    * Puzzle 3.4"
   ],
   "metadata": {}
  },
  {
   "cell_type": "markdown",
   "source": [
    "In this lab, you will:\n",
    "\n",
    "- Do basic linear regression diagnostics.\n",
    "- Create simple and multiple linear regression models.\n",
    "- Interpret your models.\n",
    "\n",
    "As you go through the lab:\n",
    "\n",
    "- Make sure to run every cell with Python code and observe the output.\n",
    "- Complete all puzzles and submit this lab before Monday evening at 11:59 PM.\n",
    "\n",
    "# Setup\n",
    "\n",
    "\n",
    "At the beginning of this lab, make sure you:\n",
    "1. Make sure the `MLB.csv` data set is in **your working directory**. If not, download it from your personal GitHub repository.\n",
    "2. Import the following libraries:\n",
    "- `pandas` as `pd`\n",
    "- `matplotlib.pyplot` as `plt`\n",
    "- `seaborn` as `sns`\n",
    "- `from sklearn.linear_model import LinearRegression`\n",
    "- `import scipy.stats`\n",
    "- `from scipy import stats`\n",
    "3. Read the date sets into a data frame using `pd.read.csv()`\n",
    "\n",
    "**If you do NOT have `seaborn`/`sklearn` installed, please run the following lines:**\n",
    "- **PC Only**\n",
    "  - `py -m pip install seaborn`\n",
    "  - `py -m pip install scikit-learn`\n",
    "- **MacOS Only**\n",
    "  - `python3 -m pip install seaborn`\n",
    "  - `python3 -m pip install scikit-learn`"
   ],
   "metadata": {
    "id": "oJc0cAjFS9sq"
   }
  },
  {
   "cell_type": "code",
   "execution_count": 4,
   "source": [
    "#Import the Libraries\n",
    "\n",
    "import pandas as pd\n",
    "import matplotlib.pyplot as plt\n",
    "import seaborn as sns\n",
    "from sklearn.linear_model import LinearRegression\n",
    "import scipy.stats\n",
    "from scipy import stats"
   ],
   "outputs": [],
   "metadata": {
    "id": "nKR9XXpyWUws"
   }
  },
  {
   "cell_type": "markdown",
   "source": [
    "# Intro\n",
    "\n",
    "Linear regression is a useful tool in statistics. The purpose of it is to study how one or more predictors influence a response. We do this by fitting a line as close as possible to as many points as possible. The most common method, and the one that will be used in this lab, will be the Ordinary Least Squares Regression Method (OLS). This method tries to fit a line that minimizes the squared distance to each point in the data set. This lab will walk you through the process of creating a regression model and some basic analysis.\n",
    "In this lab, we will analyze some data from Major League Baseball. We will look at the relationship (if there is any) between a team’s season win total (W) against a team’s [Earned Run Average](https://library.fangraphs.com/pitching/era/) (ERA) and [Wins Above Replacement](https://library.fangraphs.com/misc/war/) (WAR).\n",
    "\n",
    "# Puzzle 1: Exploratory Data Analysis\n",
    "Exploratory data analysis is the first step when working with linear regression. Before you can begin making regression models, you have to check that making a linear model is a good idea for your data. First, let’s import the data and make some summaries.\n",
    "\n",
    "## Read the CSV File\n",
    "In the following cell, read the `MLB.csv` file."
   ],
   "metadata": {
    "id": "12c2KXoFWaDV"
   }
  },
  {
   "cell_type": "code",
   "execution_count": 5,
   "source": [
    "MLB = pd.read_csv(\"MLB.csv\")\n",
    "MLB"
   ],
   "outputs": [
    {
     "output_type": "execute_result",
     "data": {
      "text/plain": [
       "     Unnamed: 0  Season Team    W    L  SV      IP   ERA   FIP   WAR\n",
       "0             2    2015  STL  100   62  62  1464.2  2.94  3.48  20.6\n",
       "1             3    2018  HOU  103   59  46  1455.0  3.11  3.23  28.6\n",
       "2             4    2016  CHC  103   58  38  1459.2  3.15  3.77  18.8\n",
       "3             5    2015  PIT   98   64  54  1489.2  3.23  3.36  19.5\n",
       "4             6    2017  CLE  102   60  37  1440.2  3.30  3.33  30.4\n",
       "..          ...     ...  ...  ...  ...  ..     ...   ...   ...   ...\n",
       "145         147    2019  KCR   59  103  37  1425.0  5.20  4.90   7.9\n",
       "146         148    2019  DET   47  114  31  1433.0  5.26  4.84  11.6\n",
       "147         149    2017  DET   64   98  32  1420.1  5.36  4.73  11.5\n",
       "148         150    2019  COL   71   91  28  1448.2  5.58  5.23   6.3\n",
       "149         151    2019  BAL   54  108  27  1443.0  5.67  5.56   5.3\n",
       "\n",
       "[150 rows x 10 columns]"
      ],
      "text/html": [
       "<div>\n",
       "<style scoped>\n",
       "    .dataframe tbody tr th:only-of-type {\n",
       "        vertical-align: middle;\n",
       "    }\n",
       "\n",
       "    .dataframe tbody tr th {\n",
       "        vertical-align: top;\n",
       "    }\n",
       "\n",
       "    .dataframe thead th {\n",
       "        text-align: right;\n",
       "    }\n",
       "</style>\n",
       "<table border=\"1\" class=\"dataframe\">\n",
       "  <thead>\n",
       "    <tr style=\"text-align: right;\">\n",
       "      <th></th>\n",
       "      <th>Unnamed: 0</th>\n",
       "      <th>Season</th>\n",
       "      <th>Team</th>\n",
       "      <th>W</th>\n",
       "      <th>L</th>\n",
       "      <th>SV</th>\n",
       "      <th>IP</th>\n",
       "      <th>ERA</th>\n",
       "      <th>FIP</th>\n",
       "      <th>WAR</th>\n",
       "    </tr>\n",
       "  </thead>\n",
       "  <tbody>\n",
       "    <tr>\n",
       "      <th>0</th>\n",
       "      <td>2</td>\n",
       "      <td>2015</td>\n",
       "      <td>STL</td>\n",
       "      <td>100</td>\n",
       "      <td>62</td>\n",
       "      <td>62</td>\n",
       "      <td>1464.2</td>\n",
       "      <td>2.94</td>\n",
       "      <td>3.48</td>\n",
       "      <td>20.6</td>\n",
       "    </tr>\n",
       "    <tr>\n",
       "      <th>1</th>\n",
       "      <td>3</td>\n",
       "      <td>2018</td>\n",
       "      <td>HOU</td>\n",
       "      <td>103</td>\n",
       "      <td>59</td>\n",
       "      <td>46</td>\n",
       "      <td>1455.0</td>\n",
       "      <td>3.11</td>\n",
       "      <td>3.23</td>\n",
       "      <td>28.6</td>\n",
       "    </tr>\n",
       "    <tr>\n",
       "      <th>2</th>\n",
       "      <td>4</td>\n",
       "      <td>2016</td>\n",
       "      <td>CHC</td>\n",
       "      <td>103</td>\n",
       "      <td>58</td>\n",
       "      <td>38</td>\n",
       "      <td>1459.2</td>\n",
       "      <td>3.15</td>\n",
       "      <td>3.77</td>\n",
       "      <td>18.8</td>\n",
       "    </tr>\n",
       "    <tr>\n",
       "      <th>3</th>\n",
       "      <td>5</td>\n",
       "      <td>2015</td>\n",
       "      <td>PIT</td>\n",
       "      <td>98</td>\n",
       "      <td>64</td>\n",
       "      <td>54</td>\n",
       "      <td>1489.2</td>\n",
       "      <td>3.23</td>\n",
       "      <td>3.36</td>\n",
       "      <td>19.5</td>\n",
       "    </tr>\n",
       "    <tr>\n",
       "      <th>4</th>\n",
       "      <td>6</td>\n",
       "      <td>2017</td>\n",
       "      <td>CLE</td>\n",
       "      <td>102</td>\n",
       "      <td>60</td>\n",
       "      <td>37</td>\n",
       "      <td>1440.2</td>\n",
       "      <td>3.30</td>\n",
       "      <td>3.33</td>\n",
       "      <td>30.4</td>\n",
       "    </tr>\n",
       "    <tr>\n",
       "      <th>...</th>\n",
       "      <td>...</td>\n",
       "      <td>...</td>\n",
       "      <td>...</td>\n",
       "      <td>...</td>\n",
       "      <td>...</td>\n",
       "      <td>...</td>\n",
       "      <td>...</td>\n",
       "      <td>...</td>\n",
       "      <td>...</td>\n",
       "      <td>...</td>\n",
       "    </tr>\n",
       "    <tr>\n",
       "      <th>145</th>\n",
       "      <td>147</td>\n",
       "      <td>2019</td>\n",
       "      <td>KCR</td>\n",
       "      <td>59</td>\n",
       "      <td>103</td>\n",
       "      <td>37</td>\n",
       "      <td>1425.0</td>\n",
       "      <td>5.20</td>\n",
       "      <td>4.90</td>\n",
       "      <td>7.9</td>\n",
       "    </tr>\n",
       "    <tr>\n",
       "      <th>146</th>\n",
       "      <td>148</td>\n",
       "      <td>2019</td>\n",
       "      <td>DET</td>\n",
       "      <td>47</td>\n",
       "      <td>114</td>\n",
       "      <td>31</td>\n",
       "      <td>1433.0</td>\n",
       "      <td>5.26</td>\n",
       "      <td>4.84</td>\n",
       "      <td>11.6</td>\n",
       "    </tr>\n",
       "    <tr>\n",
       "      <th>147</th>\n",
       "      <td>149</td>\n",
       "      <td>2017</td>\n",
       "      <td>DET</td>\n",
       "      <td>64</td>\n",
       "      <td>98</td>\n",
       "      <td>32</td>\n",
       "      <td>1420.1</td>\n",
       "      <td>5.36</td>\n",
       "      <td>4.73</td>\n",
       "      <td>11.5</td>\n",
       "    </tr>\n",
       "    <tr>\n",
       "      <th>148</th>\n",
       "      <td>150</td>\n",
       "      <td>2019</td>\n",
       "      <td>COL</td>\n",
       "      <td>71</td>\n",
       "      <td>91</td>\n",
       "      <td>28</td>\n",
       "      <td>1448.2</td>\n",
       "      <td>5.58</td>\n",
       "      <td>5.23</td>\n",
       "      <td>6.3</td>\n",
       "    </tr>\n",
       "    <tr>\n",
       "      <th>149</th>\n",
       "      <td>151</td>\n",
       "      <td>2019</td>\n",
       "      <td>BAL</td>\n",
       "      <td>54</td>\n",
       "      <td>108</td>\n",
       "      <td>27</td>\n",
       "      <td>1443.0</td>\n",
       "      <td>5.67</td>\n",
       "      <td>5.56</td>\n",
       "      <td>5.3</td>\n",
       "    </tr>\n",
       "  </tbody>\n",
       "</table>\n",
       "<p>150 rows × 10 columns</p>\n",
       "</div>"
      ]
     },
     "metadata": {},
     "execution_count": 5
    }
   ],
   "metadata": {
    "id": "wFwOgpzUYpTN"
   }
  },
  {
   "cell_type": "code",
   "execution_count": 6,
   "source": [
    "#TEST CASE\n",
    "## == TEST CASES for Data ==\n",
    "# - This read-only cell contains test cases for your previous cell.\n",
    "# - If this cell runs without any error our output, you PASSED all test cases!\n",
    "# - If this cell results in any errors, check you previous cell, make changes, and RE-RUN your code and then this cell.\n",
    "\n",
    "\n",
    "assert(len(MLB) == 150), \"The dataframe does not appear to have correct dataset loaded.\"\n",
    "\n",
    "## == SUCCESS MESSAGE ==\n",
    "# You will only see this message (with the emoji showing) if you passed all test cases:\n",
    "tada = \"\\N{PARTY POPPER}\"\n",
    "print(f\"{tada} All tests passed! {tada}\")\n",
    "print()"
   ],
   "outputs": [
    {
     "output_type": "stream",
     "name": "stdout",
     "text": [
      "🎉 All tests passed! 🎉\n",
      "\n"
     ]
    }
   ],
   "metadata": {
    "id": "AoGORAAfZAUP"
   }
  },
  {
   "cell_type": "markdown",
   "source": [
    "## Puzzle 1.1: Numerical Summary\n",
    "\n",
    "Use the `.describe()` function to print out summary information your data."
   ],
   "metadata": {
    "id": "ad-gJGfhZENP"
   }
  },
  {
   "cell_type": "code",
   "execution_count": 7,
   "source": [
    "description = MLB.describe()\n",
    "description"
   ],
   "outputs": [
    {
     "output_type": "execute_result",
     "data": {
      "text/plain": [
       "       Unnamed: 0       Season           W           L          SV  \\\n",
       "count  150.000000   150.000000  150.000000  150.000000  150.000000   \n",
       "mean    76.500000  2017.000000   80.973333   80.973333   41.140000   \n",
       "std     43.445368     1.418951   12.675054   12.628904    7.530725   \n",
       "min      2.000000  2015.000000   47.000000   54.000000   25.000000   \n",
       "25%     39.250000  2016.000000   71.000000   71.250000   36.000000   \n",
       "50%     76.500000  2017.000000   81.000000   81.000000   41.000000   \n",
       "75%    113.750000  2018.000000   91.000000   91.000000   46.000000   \n",
       "max    151.000000  2019.000000  108.000000  115.000000   62.000000   \n",
       "\n",
       "                IP        ERA         FIP         WAR  \n",
       "count   150.000000  150.00000  150.000000  150.000000  \n",
       "mean   1445.677333    4.23500    4.234933   14.330667  \n",
       "std      13.224459    0.53391    0.437348    5.476612  \n",
       "min    1412.200000    2.94000    3.230000    1.000000  \n",
       "25%    1437.125000    3.82000    3.970000   10.025000  \n",
       "50%    1443.550000    4.18000    4.220000   14.150000  \n",
       "75%    1454.550000    4.63000    4.525000   18.475000  \n",
       "max    1489.200000    5.67000    5.560000   30.400000  "
      ],
      "text/html": [
       "<div>\n",
       "<style scoped>\n",
       "    .dataframe tbody tr th:only-of-type {\n",
       "        vertical-align: middle;\n",
       "    }\n",
       "\n",
       "    .dataframe tbody tr th {\n",
       "        vertical-align: top;\n",
       "    }\n",
       "\n",
       "    .dataframe thead th {\n",
       "        text-align: right;\n",
       "    }\n",
       "</style>\n",
       "<table border=\"1\" class=\"dataframe\">\n",
       "  <thead>\n",
       "    <tr style=\"text-align: right;\">\n",
       "      <th></th>\n",
       "      <th>Unnamed: 0</th>\n",
       "      <th>Season</th>\n",
       "      <th>W</th>\n",
       "      <th>L</th>\n",
       "      <th>SV</th>\n",
       "      <th>IP</th>\n",
       "      <th>ERA</th>\n",
       "      <th>FIP</th>\n",
       "      <th>WAR</th>\n",
       "    </tr>\n",
       "  </thead>\n",
       "  <tbody>\n",
       "    <tr>\n",
       "      <th>count</th>\n",
       "      <td>150.000000</td>\n",
       "      <td>150.000000</td>\n",
       "      <td>150.000000</td>\n",
       "      <td>150.000000</td>\n",
       "      <td>150.000000</td>\n",
       "      <td>150.000000</td>\n",
       "      <td>150.00000</td>\n",
       "      <td>150.000000</td>\n",
       "      <td>150.000000</td>\n",
       "    </tr>\n",
       "    <tr>\n",
       "      <th>mean</th>\n",
       "      <td>76.500000</td>\n",
       "      <td>2017.000000</td>\n",
       "      <td>80.973333</td>\n",
       "      <td>80.973333</td>\n",
       "      <td>41.140000</td>\n",
       "      <td>1445.677333</td>\n",
       "      <td>4.23500</td>\n",
       "      <td>4.234933</td>\n",
       "      <td>14.330667</td>\n",
       "    </tr>\n",
       "    <tr>\n",
       "      <th>std</th>\n",
       "      <td>43.445368</td>\n",
       "      <td>1.418951</td>\n",
       "      <td>12.675054</td>\n",
       "      <td>12.628904</td>\n",
       "      <td>7.530725</td>\n",
       "      <td>13.224459</td>\n",
       "      <td>0.53391</td>\n",
       "      <td>0.437348</td>\n",
       "      <td>5.476612</td>\n",
       "    </tr>\n",
       "    <tr>\n",
       "      <th>min</th>\n",
       "      <td>2.000000</td>\n",
       "      <td>2015.000000</td>\n",
       "      <td>47.000000</td>\n",
       "      <td>54.000000</td>\n",
       "      <td>25.000000</td>\n",
       "      <td>1412.200000</td>\n",
       "      <td>2.94000</td>\n",
       "      <td>3.230000</td>\n",
       "      <td>1.000000</td>\n",
       "    </tr>\n",
       "    <tr>\n",
       "      <th>25%</th>\n",
       "      <td>39.250000</td>\n",
       "      <td>2016.000000</td>\n",
       "      <td>71.000000</td>\n",
       "      <td>71.250000</td>\n",
       "      <td>36.000000</td>\n",
       "      <td>1437.125000</td>\n",
       "      <td>3.82000</td>\n",
       "      <td>3.970000</td>\n",
       "      <td>10.025000</td>\n",
       "    </tr>\n",
       "    <tr>\n",
       "      <th>50%</th>\n",
       "      <td>76.500000</td>\n",
       "      <td>2017.000000</td>\n",
       "      <td>81.000000</td>\n",
       "      <td>81.000000</td>\n",
       "      <td>41.000000</td>\n",
       "      <td>1443.550000</td>\n",
       "      <td>4.18000</td>\n",
       "      <td>4.220000</td>\n",
       "      <td>14.150000</td>\n",
       "    </tr>\n",
       "    <tr>\n",
       "      <th>75%</th>\n",
       "      <td>113.750000</td>\n",
       "      <td>2018.000000</td>\n",
       "      <td>91.000000</td>\n",
       "      <td>91.000000</td>\n",
       "      <td>46.000000</td>\n",
       "      <td>1454.550000</td>\n",
       "      <td>4.63000</td>\n",
       "      <td>4.525000</td>\n",
       "      <td>18.475000</td>\n",
       "    </tr>\n",
       "    <tr>\n",
       "      <th>max</th>\n",
       "      <td>151.000000</td>\n",
       "      <td>2019.000000</td>\n",
       "      <td>108.000000</td>\n",
       "      <td>115.000000</td>\n",
       "      <td>62.000000</td>\n",
       "      <td>1489.200000</td>\n",
       "      <td>5.67000</td>\n",
       "      <td>5.560000</td>\n",
       "      <td>30.400000</td>\n",
       "    </tr>\n",
       "  </tbody>\n",
       "</table>\n",
       "</div>"
      ]
     },
     "metadata": {},
     "execution_count": 7
    }
   ],
   "metadata": {
    "id": "0K-fFzZaZMVI"
   }
  },
  {
   "cell_type": "code",
   "execution_count": 8,
   "source": [
    "## == TEST CASES for description ==\n",
    "# - This read-only cell contains test cases for your previous cell.\n",
    "# - If this cell runs without any error our output, you PASSED all test cases!\n",
    "# - If this cell results in any errors, check you previous cell, make changes, and RE-RUN your code and then this cell.\n",
    "assert(len(description)==8), \"Your description does not appear to be correct. Please make sure you used the correct function.\"\n",
    "\n",
    "## == SUCCESS MESSAGE ==\n",
    "# You will only see this message (with the emoji showing) if you passed all test cases:\n",
    "tada = \"\\N{PARTY POPPER}\"\n",
    "print(f\"{tada} All tests passed! {tada}\")"
   ],
   "outputs": [
    {
     "output_type": "stream",
     "name": "stdout",
     "text": [
      "🎉 All tests passed! 🎉\n"
     ]
    }
   ],
   "metadata": {
    "id": "BfAcPnmWZQpp"
   }
  },
  {
   "cell_type": "markdown",
   "source": [
    "The numerical summary above gives us a basic understanding of how our data looks. However, that does not mean you should skim over it. The numeric summary will be the quickest way to know if there is something unusual about the variables. If you had looked at the number of innings pitched by a team, the minimum value is 1,412, and the maximum value is 1,489. The low variation with 150 observations (30 teams over 5 seasons) should put up a red flag in the eyes of a statistician. The variable will be either crucial in the model or completely useless. If you are not familiar with baseball, IP will be practically useless because of how low the correlation (about 0.5) between wins is.\n",
    "\n",
    "## Puzzle 1.2: Graphical Summaries\n",
    "\n",
    "Now we are going to do graphical summaries of the variables we want to explore. Using graphical summaries will help us visualize the variable we want to potentially use in the regression models. Histograms will show us the distribution of the random variable, while scatter plots will show us general trends and the correlation between two variables.\n",
    "\n",
    "### Puzzle 1.2a: Histograms\n",
    "Create histograms for the variables listed below.\n",
    "\n",
    "Wins(W)"
   ],
   "metadata": {
    "id": "noaVT0gRZThw"
   }
  },
  {
   "cell_type": "code",
   "execution_count": 10,
   "source": [
    "#Code for Histogram\n",
    "MLB[\"W\"].hist()"
   ],
   "outputs": [
    {
     "output_type": "execute_result",
     "data": {
      "text/plain": [
       "<AxesSubplot:>"
      ]
     },
     "metadata": {},
     "execution_count": 10
    },
    {
     "output_type": "display_data",
     "data": {
      "text/plain": [
       "<Figure size 432x288 with 1 Axes>"
      ],
      "image/png": "[encoded data removed]"
     },
     "metadata": {
      "needs_background": "light"
     }
    }
   ],
   "metadata": {
    "id": "acMNMo98Zi9i"
   }
  },
  {
   "cell_type": "markdown",
   "source": [
    "Earned Run Average (ERA)"
   ],
   "metadata": {
    "id": "RbxEwHNLZock"
   }
  },
  {
   "cell_type": "code",
   "execution_count": 11,
   "source": [
    "#Code for Histogram\n",
    "MLB[\"ERA\"].hist()"
   ],
   "outputs": [
    {
     "output_type": "execute_result",
     "data": {
      "text/plain": [
       "<AxesSubplot:>"
      ]
     },
     "metadata": {},
     "execution_count": 11
    },
    {
     "output_type": "display_data",
     "data": {
      "text/plain": [
       "<Figure size 432x288 with 1 Axes>"
      ],
      "image/png": "[encoded data removed]"
     },
     "metadata": {
      "needs_background": "light"
     }
    }
   ],
   "metadata": {
    "id": "S1eYAEQFZq1L"
   }
  },
  {
   "cell_type": "markdown",
   "source": [
    "Wins Above Replacement (WAR)"
   ],
   "metadata": {
    "id": "HhhcBnqlZtl-"
   }
  },
  {
   "cell_type": "code",
   "execution_count": 12,
   "source": [
    "#Code for Histogram\n",
    "MLB[\"WAR\"].hist()"
   ],
   "outputs": [
    {
     "output_type": "execute_result",
     "data": {
      "text/plain": [
       "<AxesSubplot:>"
      ]
     },
     "metadata": {},
     "execution_count": 12
    },
    {
     "output_type": "display_data",
     "data": {
      "text/plain": [
       "<Figure size 432x288 with 1 Axes>"
      ],
      "image/png": "[encoded data removed]"
     },
     "metadata": {
      "needs_background": "light"
     }
    }
   ],
   "metadata": {
    "id": "qU-4NKUHZvv0"
   }
  },
  {
   "cell_type": "markdown",
   "source": [
    "### Puzzle 1.2b: Scatter Plots\n",
    "\n",
    "Create scatter plots for the variables listed below.\n",
    "\n",
    "Make sure that `ERA` is on the $x-axis$ and `W` is on the $y-axis$.\n",
    " \n",
    "Wins (W) vs. Earned Run Average (ERA)"
   ],
   "metadata": {
    "id": "zXoiuIAdZyyN"
   }
  },
  {
   "cell_type": "code",
   "execution_count": 17,
   "source": [
    "#Code for Scatter Plot\n",
    "plt.scatter(MLB[\"ERA\"], MLB[\"W\"])"
   ],
   "outputs": [
    {
     "output_type": "execute_result",
     "data": {
      "text/plain": [
       "<matplotlib.collections.PathCollection at 0x7fc3f0174ee0>"
      ]
     },
     "metadata": {},
     "execution_count": 17
    },
    {
     "output_type": "display_data",
     "data": {
      "text/plain": [
       "<Figure size 432x288 with 1 Axes>"
      ],
      "image/png": "[encoded data removed]"
     },
     "metadata": {
      "needs_background": "light"
     }
    }
   ],
   "metadata": {
    "id": "rHDwf5zNZ5au"
   }
  },
  {
   "cell_type": "markdown",
   "source": [
    "Make sure `WAR` is on the $x-axis$ and `W` is on the $y-axis$.\n",
    "\n",
    "Wins (W) vs. Wins Above Replacement (WAR)"
   ],
   "metadata": {
    "id": "6c9xPXFFaEAf"
   }
  },
  {
   "cell_type": "code",
   "execution_count": 16,
   "source": [
    "#Code for Scatter Plot\n",
    "plt.scatter(MLB[\"WAR\"], MLB[\"W\"])"
   ],
   "outputs": [
    {
     "output_type": "execute_result",
     "data": {
      "text/plain": [
       "<matplotlib.collections.PathCollection at 0x7fc40916a430>"
      ]
     },
     "metadata": {},
     "execution_count": 16
    },
    {
     "output_type": "display_data",
     "data": {
      "text/plain": [
       "<Figure size 432x288 with 1 Axes>"
      ],
      "image/png": "[encoded data removed]"
     },
     "metadata": {
      "needs_background": "light"
     }
    }
   ],
   "metadata": {
    "id": "7vuCpdrHaFjx"
   }
  },
  {
   "cell_type": "markdown",
   "source": [
    "### Puzzle 1.2c: ❓ Group Discussion ❓\n",
    "\n",
    "1. To create a linear regression model, our variables must have a normal or approximately normal distribution. Are the histograms of the three variables normal or approximately normal? "
   ],
   "metadata": {
    "id": "yiL-zxQOaJEo"
   }
  },
  {
   "cell_type": "markdown",
   "source": [
    "The histograms of the 3 variables seem to be approcimately normal. While the histogram of the \"WAR\" seems bimodal it is still approximately normal. "
   ],
   "metadata": {
    "id": "JARZlDvDaO_E"
   }
  },
  {
   "cell_type": "markdown",
   "source": [
    "2. Look at the two scatter plots. Is there a correlation between Wins and ERA? What about Wins and WAR? If so, are the correlations positive or negative?"
   ],
   "metadata": {
    "id": "brFAf-JFaWaL"
   }
  },
  {
   "cell_type": "markdown",
   "source": [
    "There is a correlation between wins and ERA. This correlation is negative. Similarly there is correclation between Wins and WAR and this correlation is positive. "
   ],
   "metadata": {
    "id": "F-U-Kr_IaZce"
   }
  },
  {
   "cell_type": "markdown",
   "source": [
    "3. What do the correlations between Wins versus ERA and Wins versus WAR tell us? Use **NON-STATISTICAL** terminology to explain."
   ],
   "metadata": {
    "id": "9M3S-tnUaeKQ"
   }
  },
  {
   "cell_type": "markdown",
   "source": [
    "The correlation between wins and ERA tells us as ERA increases the amount of wins decrease. Alternatively the correlation between wins and WAR tells us as WAR increases wins also increase. "
   ],
   "metadata": {
    "id": "7O1xz7gmamS7"
   }
  },
  {
   "cell_type": "markdown",
   "source": [
    "### Puzzle 1.2d: Correlation matrix\n",
    "\n",
    "Now that you have made predictions about the correlation based on the scatter plots, let’s see the actual values. Create a correlation matrix.  Think about what you can see between the pairs. You will notice that the diagonals of the correlation matrix are all 1. This is because what the matrix is saying is the correlation between the variable and itself is 1."
   ],
   "metadata": {
    "id": "z21uVESsaom8"
   }
  },
  {
   "cell_type": "code",
   "execution_count": 18,
   "source": [
    "#Code for Correlation Matrix\n",
    "cor = MLB.corr()\n",
    "cor"
   ],
   "outputs": [
    {
     "output_type": "execute_result",
     "data": {
      "text/plain": [
       "            Unnamed: 0    Season         W         L        SV        IP  \\\n",
       "Unnamed: 0    1.000000  0.258563 -0.769663  0.769858 -0.592083 -0.514336   \n",
       "Season        0.258563  1.000000  0.001493  0.001498 -0.160786  0.078542   \n",
       "W            -0.769663  0.001493  1.000000 -0.999680  0.633547  0.501172   \n",
       "L             0.769858  0.001498 -0.999680  1.000000 -0.632396 -0.496348   \n",
       "SV           -0.592083 -0.160786  0.633547 -0.632396  1.000000  0.348657   \n",
       "IP           -0.514336  0.078542  0.501172 -0.496348  0.348657  1.000000   \n",
       "ERA           0.980132  0.279497 -0.780843  0.781417 -0.620801 -0.506675   \n",
       "FIP           0.891618  0.340558 -0.678682  0.679728 -0.574121 -0.471604   \n",
       "WAR          -0.745739 -0.000173  0.753243 -0.754419  0.514135  0.385179   \n",
       "\n",
       "                 ERA       FIP       WAR  \n",
       "Unnamed: 0  0.980132  0.891618 -0.745739  \n",
       "Season      0.279497  0.340558 -0.000173  \n",
       "W          -0.780843 -0.678682  0.753243  \n",
       "L           0.781417  0.679728 -0.754419  \n",
       "SV         -0.620801 -0.574121  0.514135  \n",
       "IP         -0.506675 -0.471604  0.385179  \n",
       "ERA         1.000000  0.904599 -0.742999  \n",
       "FIP         0.904599  1.000000 -0.811927  \n",
       "WAR        -0.742999 -0.811927  1.000000  "
      ],
      "text/html": [
       "<div>\n",
       "<style scoped>\n",
       "    .dataframe tbody tr th:only-of-type {\n",
       "        vertical-align: middle;\n",
       "    }\n",
       "\n",
       "    .dataframe tbody tr th {\n",
       "        vertical-align: top;\n",
       "    }\n",
       "\n",
       "    .dataframe thead th {\n",
       "        text-align: right;\n",
       "    }\n",
       "</style>\n",
       "<table border=\"1\" class=\"dataframe\">\n",
       "  <thead>\n",
       "    <tr style=\"text-align: right;\">\n",
       "      <th></th>\n",
       "      <th>Unnamed: 0</th>\n",
       "      <th>Season</th>\n",
       "      <th>W</th>\n",
       "      <th>L</th>\n",
       "      <th>SV</th>\n",
       "      <th>IP</th>\n",
       "      <th>ERA</th>\n",
       "      <th>FIP</th>\n",
       "      <th>WAR</th>\n",
       "    </tr>\n",
       "  </thead>\n",
       "  <tbody>\n",
       "    <tr>\n",
       "      <th>Unnamed: 0</th>\n",
       "      <td>1.000000</td>\n",
       "      <td>0.258563</td>\n",
       "      <td>-0.769663</td>\n",
       "      <td>0.769858</td>\n",
       "      <td>-0.592083</td>\n",
       "      <td>-0.514336</td>\n",
       "      <td>0.980132</td>\n",
       "      <td>0.891618</td>\n",
       "      <td>-0.745739</td>\n",
       "    </tr>\n",
       "    <tr>\n",
       "      <th>Season</th>\n",
       "      <td>0.258563</td>\n",
       "      <td>1.000000</td>\n",
       "      <td>0.001493</td>\n",
       "      <td>0.001498</td>\n",
       "      <td>-0.160786</td>\n",
       "      <td>0.078542</td>\n",
       "      <td>0.279497</td>\n",
       "      <td>0.340558</td>\n",
       "      <td>-0.000173</td>\n",
       "    </tr>\n",
       "    <tr>\n",
       "      <th>W</th>\n",
       "      <td>-0.769663</td>\n",
       "      <td>0.001493</td>\n",
       "      <td>1.000000</td>\n",
       "      <td>-0.999680</td>\n",
       "      <td>0.633547</td>\n",
       "      <td>0.501172</td>\n",
       "      <td>-0.780843</td>\n",
       "      <td>-0.678682</td>\n",
       "      <td>0.753243</td>\n",
       "    </tr>\n",
       "    <tr>\n",
       "      <th>L</th>\n",
       "      <td>0.769858</td>\n",
       "      <td>0.001498</td>\n",
       "      <td>-0.999680</td>\n",
       "      <td>1.000000</td>\n",
       "      <td>-0.632396</td>\n",
       "      <td>-0.496348</td>\n",
       "      <td>0.781417</td>\n",
       "      <td>0.679728</td>\n",
       "      <td>-0.754419</td>\n",
       "    </tr>\n",
       "    <tr>\n",
       "      <th>SV</th>\n",
       "      <td>-0.592083</td>\n",
       "      <td>-0.160786</td>\n",
       "      <td>0.633547</td>\n",
       "      <td>-0.632396</td>\n",
       "      <td>1.000000</td>\n",
       "      <td>0.348657</td>\n",
       "      <td>-0.620801</td>\n",
       "      <td>-0.574121</td>\n",
       "      <td>0.514135</td>\n",
       "    </tr>\n",
       "    <tr>\n",
       "      <th>IP</th>\n",
       "      <td>-0.514336</td>\n",
       "      <td>0.078542</td>\n",
       "      <td>0.501172</td>\n",
       "      <td>-0.496348</td>\n",
       "      <td>0.348657</td>\n",
       "      <td>1.000000</td>\n",
       "      <td>-0.506675</td>\n",
       "      <td>-0.471604</td>\n",
       "      <td>0.385179</td>\n",
       "    </tr>\n",
       "    <tr>\n",
       "      <th>ERA</th>\n",
       "      <td>0.980132</td>\n",
       "      <td>0.279497</td>\n",
       "      <td>-0.780843</td>\n",
       "      <td>0.781417</td>\n",
       "      <td>-0.620801</td>\n",
       "      <td>-0.506675</td>\n",
       "      <td>1.000000</td>\n",
       "      <td>0.904599</td>\n",
       "      <td>-0.742999</td>\n",
       "    </tr>\n",
       "    <tr>\n",
       "      <th>FIP</th>\n",
       "      <td>0.891618</td>\n",
       "      <td>0.340558</td>\n",
       "      <td>-0.678682</td>\n",
       "      <td>0.679728</td>\n",
       "      <td>-0.574121</td>\n",
       "      <td>-0.471604</td>\n",
       "      <td>0.904599</td>\n",
       "      <td>1.000000</td>\n",
       "      <td>-0.811927</td>\n",
       "    </tr>\n",
       "    <tr>\n",
       "      <th>WAR</th>\n",
       "      <td>-0.745739</td>\n",
       "      <td>-0.000173</td>\n",
       "      <td>0.753243</td>\n",
       "      <td>-0.754419</td>\n",
       "      <td>0.514135</td>\n",
       "      <td>0.385179</td>\n",
       "      <td>-0.742999</td>\n",
       "      <td>-0.811927</td>\n",
       "      <td>1.000000</td>\n",
       "    </tr>\n",
       "  </tbody>\n",
       "</table>\n",
       "</div>"
      ]
     },
     "metadata": {},
     "execution_count": 18
    }
   ],
   "metadata": {
    "id": "nRzVqg7dattc"
   }
  },
  {
   "cell_type": "code",
   "execution_count": 19,
   "source": [
    "#TEST CASE\n",
    "# - This read-only cell contains test cases for your previous cell.\n",
    "# - If this cell runs without any error our output, you PASSED all test cases!\n",
    "# - If this cell results in any errors, check you previous cell, make changes, and RE-RUN your code and then this cell.\n",
    "assert(cor[\"Unnamed: 0\"][\"Unnamed: 0\"] == cor['Season'][\"Season\"] == cor['W'][\"W\"] == cor['L'][\"L\"] == cor['SV'][\"SV\"] == cor['IP'][\"IP\"] == cor['ERA'][\"ERA\"] == cor['FIP'][\"FIP\"] == cor['WAR'][\"WAR\"]),\"Are you sure the correlations are correct?\"\n",
    "\n",
    "## == SUCCESS MESSAGE ==\n",
    "# You will only see this message (with the emoji showing) if you passed all test cases:\n",
    "tada = \"\\N{PARTY POPPER}\"\n",
    "print(f\"{tada} All tests passed! {tada}\")"
   ],
   "outputs": [
    {
     "output_type": "stream",
     "name": "stdout",
     "text": [
      "🎉 All tests passed! 🎉\n"
     ]
    }
   ],
   "metadata": {
    "id": "FOOCUDUEawka"
   }
  },
  {
   "cell_type": "markdown",
   "source": [
    "# Puzzle 2: Simple Linear Regression\n",
    "\n",
    "Checking the descriptive statistics is useful and gives us a basic idea of the data. If we want to use the data to make predictions, we can use a simple linear regression model.\n",
    "The equation for a simple linear regression model is $y = \\beta_0 + \\beta_1x$.\n",
    "\n",
    "## Puzzle 2.1: Models\n",
    "In the following cells, write the Python code to create a simple linear regression model to predict the average number of wins for an MLB team using ERA and WAR as the independent variable $x$."
   ],
   "metadata": {
    "id": "apBGgVDxa0AF"
   }
  },
  {
   "cell_type": "code",
   "execution_count": 36,
   "source": [
    "#Creation of Model using ERA as the x-variable to predict wins.\n",
    "model = LinearRegression()\n",
    "model = model.fit(MLB[[\"ERA\"]], MLB[\"W\"])\n",
    "b0_ERA = model.intercept_\n",
    "b1_ERA = model.coef_\n",
    "\n",
    "print(\"The intercept (ß0) = \" + str(b0_ERA) + \".\")\n",
    "print(\"The slope (ß1) = \" + str(b1_ERA) + \".\")"
   ],
   "outputs": [
    {
     "output_type": "stream",
     "name": "stdout",
     "text": [
      "The intercept (ß0) = 159.4785641865975.\n",
      "The slope (ß1) = [-18.53724459].\n"
     ]
    }
   ],
   "metadata": {
    "id": "iBd89TeXbW8p"
   }
  },
  {
   "cell_type": "markdown",
   "source": [
    "❓ **Write out the model formula in the cell below replacing $\\beta_0$ and $\\beta_1$ with the slope and y-intercept that you found.** ❓"
   ],
   "metadata": {
    "id": "EuFuyoJsbZ5h"
   }
  },
  {
   "cell_type": "markdown",
   "source": [
    "### $W = 159.4785641865975 + -18.53724459(ERA)$"
   ],
   "metadata": {
    "id": "TtSoOE1Gbo2T"
   }
  },
  {
   "cell_type": "code",
   "execution_count": 37,
   "source": [
    "#Creation of Model using WAR as the x-varaible to predict wins.\n",
    "model = LinearRegression()\n",
    "model = model.fit(MLB[[\"WAR\"]], MLB[\"W\"])\n",
    "\n",
    "b0_WAR = model.intercept_\n",
    "b1_WAR = model.coef_\n",
    "\n",
    "print(\"The intercept (ß0) = \" + str(b0_WAR) + \".\")\n",
    "print(\"The slope (ß1) = \" + str(b1_WAR) + \".\")"
   ],
   "outputs": [
    {
     "output_type": "stream",
     "name": "stdout",
     "text": [
      "The intercept (ß0) = 55.99062817707244.\n",
      "The slope (ß1) = [1.74330377].\n"
     ]
    }
   ],
   "metadata": {
    "id": "5ls9u9S0b3Uu"
   }
  },
  {
   "cell_type": "markdown",
   "source": [
    "❓ **Write out the model formula in the cell below replacing $\\beta_0$ and $\\beta_1$ with the slope and y-intercept that you found.** ❓"
   ],
   "metadata": {
    "id": "vybENLh1b8ZW"
   }
  },
  {
   "cell_type": "markdown",
   "source": [
    "### $W = 55.99062817707244 + 1.74330377(WAR)$"
   ],
   "metadata": {
    "id": "UYv5Vj_xb-KK"
   }
  },
  {
   "cell_type": "markdown",
   "source": [
    "## Puzzle 2.2: Significance\n",
    "\n",
    "You have now made two simple linear regression models. However, we need to check to see if the coefficient estimates ($\\hat{\\beta_0}$, $\\hat{\\beta_1}$) are significant. In other words, are the intercept and the slope significant in predicting the total amount of wins in a season? To do this, we can run a hypothesis test on the coefficients. We have done z tests and t tests and this will be very similar.  We will not make you do the detailed outline as in the previous lab, but it may help you to look back at it. The null hypothesis and alternative hypothesis are listed below.\n",
    "\n",
    "$H_0$: $\\beta_i$ = 0\n",
    "\n",
    "$H_a$: $\\beta_i$ $\\neq$ 0\n",
    "\n",
    "To conduct the test, you will first have to find the Test Statistic. We will use t, which will have a slightly different formula than we are used to! To do this, you simply use the following formula.\n",
    "\n",
    "### $t_{TS}$ = $\\frac{\\hat{\\beta_i}}{SE{\\hat{(\\beta_i)}}}$\n",
    "\n",
    "When conducting the actual test though, use $|t_{TS}|$.\n",
    "\n",
    "\n",
    "Since calculating the Standard Errors, $SE{\\hat{(\\beta_i)}}$ , for all four coefficients will be too time consuming, we will give them to you below.  Find the p-values for the slope and intercept in both models. You'll want to use `n - 2` degrees of freedom in your p-value calculations. \n",
    "\n",
    "- ERA\n",
    "\n",
    "  -$SE{\\hat{(\\beta_0)}}$ = 5.204\n",
    "  \n",
    "  -$SE{\\hat{(\\beta_1)}}$ = 1.219\n",
    "  \n",
    "\n",
    "- WAR\n",
    "\n",
    "  -$SE{\\hat{(\\beta_0)}}$ = 1.9189\n",
    "\n",
    "  -$SE{\\hat{(\\beta_1)}}$ = 0.1251"
   ],
   "metadata": {
    "id": "iDoJCL_4cA9J"
   }
  },
  {
   "cell_type": "code",
   "execution_count": 45,
   "source": [
    "#t-Test Statistic and p-value calculations for ERA to predict wins.\n",
    "ts_b0_ERA = b0_ERA/5.204\n",
    "ts_b1_ERA = b1_ERA/1.219\n",
    "MLB_df = len(MLB) - 2\n",
    "p_value_b0_ERA = 2*scipy.stats.t.sf(abs(ts_b0_ERA), MLB_df)\n",
    "p_value_b1_ERA = 2*scipy.stats.t.sf(abs(ts_b1_ERA), MLB_df)\n",
    "\n",
    "print(\"The t-Test Statistic for ß0 in W~ERA is \" + str(ts_b0_ERA) + \".\")\n",
    "print(\"The t-Test Statistic for ß1 in W~ERA is \" + str(ts_b1_ERA) + \".\")\n",
    "print(\"The p-value for ß0 in W~ERA is \" + str(p_value_b0_ERA) + \".\")\n",
    "print(\"The p-value for ß1 in W~ERA is \" + str(p_value_b1_ERA) + \".\")"
   ],
   "outputs": [
    {
     "output_type": "stream",
     "name": "stdout",
     "text": [
      "The t-Test Statistic for ß0 in W~ERA is 30.645381281052558.\n",
      "The t-Test Statistic for ß1 in W~ERA is [-15.20692748].\n",
      "The p-value for ß0 in W~ERA is 5.776406818103569e-66.\n",
      "The p-value for ß1 in W~ERA is [4.79161795e-32].\n"
     ]
    }
   ],
   "metadata": {
    "id": "uR37dfUadz-D"
   }
  },
  {
   "cell_type": "code",
   "execution_count": 47,
   "source": [
    "#TEST CASE\n",
    "import math\n",
    "# - This read-only cell contains test cases for your previous cell.\n",
    "# - If this cell runs without any error our output, you PASSED all test cases!\n",
    "# - If this cell results in any errors, check you previous cell, make changes, and RE-RUN your code and then this cell.\n",
    "assert(math.isclose(ts_b0_ERA,30.645381281052558)), \"Your t-Test Statistic for ß0 in W~ERA doesn't seem correct\"\n",
    "assert(math.isclose(ts_b1_ERA,-15.20692748)), \"Your t-Test Statistic for ß1 in W~ERA doesn't seem correct\"\n",
    "assert(math.isclose(p_value_b0_ERA,5.776406818103569e-66, abs_tol=0.0001)), \"Your p-value for ß0 in W~ERA doesn't seem correct\"\n",
    "assert(math.isclose(p_value_b1_ERA,4.79161795e-32, abs_tol=0.0001)), \"Your p-value for ß1 in W~ERA doesn't seem correct\"\n",
    "\n",
    "## == SUCCESS MESSAGE ==\n",
    "# You will only see this message (with the emoji showing) if you passed all test cases:\n",
    "tada = \"\\N{PARTY POPPER}\"\n",
    "print(f\"{tada} All tests passed! {tada}\")\n"
   ],
   "outputs": [
    {
     "output_type": "stream",
     "name": "stdout",
     "text": [
      "🎉 All tests passed! 🎉\n"
     ]
    }
   ],
   "metadata": {
    "id": "zI31hJ5Fd4lM"
   }
  },
  {
   "cell_type": "code",
   "execution_count": 48,
   "source": [
    "#t-Test Statistic and p-value calculations for WAR to predict wins.\n",
    "\n",
    "ts_b0_WAR = b0_WAR/1.9189 \n",
    "ts_b1_WAR = b1_WAR/0.1251\n",
    "\n",
    "p_value_b0_WAR = 2*scipy.stats.t.sf(abs(ts_b0_WAR), MLB_df)\n",
    "p_value_b1_WAR = 2*scipy.stats.t.sf(abs(ts_b1_WAR), MLB_df)\n",
    "\n",
    "print(\"The t-Test Statistic for ß0 in W~WAR is \" + str(ts_b0_WAR) + \".\")\n",
    "print(\"The t-Test Statistic for ß1 in W~WAR is \" + str(ts_b1_WAR) + \".\")\n",
    "print(\"The p-value for ß0 in W~ERA is \" + str(p_value_b0_WAR) + \".\")\n",
    "print(\"The p-value for ß1 in W~ERA is \" + str(p_value_b1_WAR) + \".\")"
   ],
   "outputs": [
    {
     "output_type": "stream",
     "name": "stdout",
     "text": [
      "The t-Test Statistic for ß0 in W~WAR is 29.178502359201854.\n",
      "The t-Test Statistic for ß1 in W~WAR is [13.9352819].\n",
      "The p-value for ß0 in W~ERA is 2.947914672952363e-63.\n",
      "The p-value for ß1 in W~ERA is [1.00070344e-28].\n"
     ]
    }
   ],
   "metadata": {
    "id": "R8W0lC2Md9GE"
   }
  },
  {
   "cell_type": "code",
   "execution_count": 49,
   "source": [
    "#TEST CASE\n",
    "import math\n",
    "# - This read-only cell contains test cases for your previous cell.\n",
    "# - If this cell runs without any error our output, you PASSED all test cases!\n",
    "# - If this cell results in any errors, check you previous cell, make changes, and RE-RUN your code and then this cell.\n",
    "assert(math.isclose(ts_b0_WAR,29.178502359201847)), \"Your t-Test Statistic for ß0 in W~WAR doesn't seem correct\"\n",
    "assert(math.isclose(ts_b1_WAR,13.9352819)), \"Your t-Test Statistic for ß1 in W~WAR doesn't seem correct\"\n",
    "assert(math.isclose(p_value_b0_WAR,2.9479146729524473e-63, abs_tol=0.0001)), \"Your p-value for ß0 in W~WAR doesn't seem correct\"\n",
    "assert(math.isclose(p_value_b1_WAR,1.00070344e-28, abs_tol=0.0001)), \"Your p-value for ß1 in W~WAR doesn't seem correct\"\n",
    "\n",
    "## == SUCCESS MESSAGE ==\n",
    "# You will only see this message (with the emoji showing) if you passed all test cases:\n",
    "tada = \"\\N{PARTY POPPER}\"\n",
    "print(f\"{tada} All tests passed! {tada}\")"
   ],
   "outputs": [
    {
     "output_type": "stream",
     "name": "stdout",
     "text": [
      "🎉 All tests passed! 🎉\n"
     ]
    }
   ],
   "metadata": {
    "id": "8Ni-4Yd5d_fV"
   }
  },
  {
   "cell_type": "markdown",
   "source": [
    "## Puzzle 2.3: ❓ Individual Reflection❓\n",
    "\n",
    "Using $\\alpha$ = 0.05 for all of the tests, interpret the results of your hypothesis tests. From both models, which coefficient estimates are significant and which ones are not significant? Explain why. Make sure you talk about all **four** coefficient estimates."
   ],
   "metadata": {
    "id": "7VF5WdXHeCDN"
   }
  },
  {
   "cell_type": "markdown",
   "source": [
    "***Double click this cell and type which coefficient estimates are significant here.***\n",
    "\n",
    "ERA Model:\n",
    "- $\\beta_0$: This is significant because the p value is less than the alpha\n",
    "- $\\beta_1$: This is significant because the p value is less than the alpha\n",
    "\n",
    "WAR Model:\n",
    "- $\\beta_0$: This is significant because the p value is less than the alpha\n",
    "- $\\beta_1$: This is significant because the p value is less than the alpha"
   ],
   "metadata": {
    "id": "amwn-Sn8eNRn"
   }
  },
  {
   "cell_type": "markdown",
   "source": [
    "***Double click this cell and type your explanation here.***"
   ],
   "metadata": {}
  },
  {
   "cell_type": "markdown",
   "source": [
    "## Puzzle 2.4: Visual Fun\n",
    "Now that you have made your regression models, let’s see how it looks when put on a scatter plot of the original data. Create a scatter plot with the simple linear regression model for both models. Make sure your scatter plots have `W` on the $y-axis$ and `ERA` and `WAR` are on the $x-axis$.\n",
    "\n",
    "Hint: Use `sns.regplot()`\n"
   ],
   "metadata": {
    "id": "-TT5ZnkjePln"
   }
  },
  {
   "cell_type": "code",
   "execution_count": 55,
   "source": [
    "#Scatter Plot of W~ERA with SLR\n",
    "sns.regplot(MLB[\"ERA\"], MLB[\"W\"])"
   ],
   "outputs": [
    {
     "output_type": "stream",
     "name": "stderr",
     "text": [
      "/Users/vishalrajpal/opt/anaconda3/lib/python3.8/site-packages/seaborn/_decorators.py:36: FutureWarning: Pass the following variables as keyword args: x, y. From version 0.12, the only valid positional argument will be `data`, and passing other arguments without an explicit keyword will result in an error or misinterpretation.\n",
      "  warnings.warn(\n"
     ]
    },
    {
     "output_type": "execute_result",
     "data": {
      "text/plain": [
       "<AxesSubplot:xlabel='ERA', ylabel='W'>"
      ]
     },
     "metadata": {},
     "execution_count": 55
    },
    {
     "output_type": "display_data",
     "data": {
      "text/plain": [
       "<Figure size 432x288 with 1 Axes>"
      ],
      "image/png": "[encoded data removed]"
     },
     "metadata": {
      "needs_background": "light"
     }
    }
   ],
   "metadata": {
    "id": "2gi5u16ZeWhw"
   }
  },
  {
   "cell_type": "code",
   "execution_count": 56,
   "source": [
    "#Scatter Plot of W~WAR with SLR\n",
    "sns.regplot(MLB[\"WAR\"], MLB[\"W\"])"
   ],
   "outputs": [
    {
     "output_type": "stream",
     "name": "stderr",
     "text": [
      "/Users/vishalrajpal/opt/anaconda3/lib/python3.8/site-packages/seaborn/_decorators.py:36: FutureWarning: Pass the following variables as keyword args: x, y. From version 0.12, the only valid positional argument will be `data`, and passing other arguments without an explicit keyword will result in an error or misinterpretation.\n",
      "  warnings.warn(\n"
     ]
    },
    {
     "output_type": "execute_result",
     "data": {
      "text/plain": [
       "<AxesSubplot:xlabel='WAR', ylabel='W'>"
      ]
     },
     "metadata": {},
     "execution_count": 56
    },
    {
     "output_type": "display_data",
     "data": {
      "text/plain": [
       "<Figure size 432x288 with 1 Axes>"
      ],
      "image/png": "[encoded data removed]"
     },
     "metadata": {
      "needs_background": "light"
     }
    }
   ],
   "metadata": {
    "id": "wkO2M5DUeZF4"
   }
  },
  {
   "cell_type": "markdown",
   "source": [
    "# Puzzle 3: Multiple Linear Regression\n",
    "\n",
    "Now say we want to use both ERA and WAR in a linear regression model at the same time. This is called a multiple linear regression model. The equation for the multiple linear regression model is:\n",
    "\n",
    "### $y = \\beta_0 + \\beta_1x_{1i} + \\beta_2x_{2i}$\n",
    "\n",
    "## Puzzle 3.1: Model\n",
    "In the following cells, write the Python code to create a multiple linear regression model to predict the average number of wins for an MLB team using both ERA and WAR as the predictors."
   ],
   "metadata": {
    "id": "6YHFYKgledo6"
   }
  },
  {
   "cell_type": "code",
   "execution_count": 60,
   "source": [
    "#Creation of Model using ERA+WAR to predict wins\n",
    "model = LinearRegression()\n",
    "model = model.fit(MLB[[\"ERA\", \"WAR\"]], MLB[\"W\"])\n",
    "\n",
    "\n",
    "MLR_b0 = model.intercept_\n",
    "MLR_bi = model.coef_\n",
    "\n",
    "print(\"The intercept (ß0) = \" + str(MLR_b0) + \".\")\n",
    "print(\"The coefficient estimates (ß1 & ß2) are \" + str(MLR_bi) + \".\")"
   ],
   "outputs": [
    {
     "output_type": "stream",
     "name": "stdout",
     "text": [
      "The intercept (ß0) = 117.80127404374933.\n",
      "The coefficient estimates (ß1 & ß2) are [-11.72203031   0.8942262 ].\n"
     ]
    }
   ],
   "metadata": {
    "id": "deNvxmOXfDAO"
   }
  },
  {
   "cell_type": "markdown",
   "source": [
    "❓ **Write out the model formula in the cell below replacing the coefficient estimates $\\beta_0$, $\\beta_1$, and $\\beta_2$.** ❓"
   ],
   "metadata": {
    "id": "k_DTScnMfGQ9"
   }
  },
  {
   "cell_type": "markdown",
   "source": [
    "### $W = 117.80127404374933 + -11.72203031(ERA) + 0.8942262(WAR)$"
   ],
   "metadata": {
    "id": "bMjvV2dcfR2P"
   }
  },
  {
   "cell_type": "markdown",
   "source": [
    "## Puzzle 3.2: Residuals\n",
    "When you made the scatter plots with the simple linear regression models on them, notice how the regression lines do not perfectly predict the data. The distance that each point is from the regression line is called the residual or prediction error. Unless we have a perfect correlation, we will have some errors. The regression models you created earlier are done using a method that minimizes the squares of the residuals called the Ordinary Least Squares (OLS) method.\n",
    "\n",
    "**Residuals are the difference between the observed value of y and the predicted value $\\hat{y}$.**\n",
    "\n",
    "In the following cell, write the Python code to calculate the residuals."
   ],
   "metadata": {
    "id": "v5bgRC2TfgSh"
   }
  },
  {
   "cell_type": "code",
   "execution_count": 62,
   "source": [
    "#Code for computing the residuals.\n",
    "# residuls  = predicted wins - actual wins\n",
    "MLB[\"multiple_regression\"] = model.predict(MLB[[\"ERA\", \"WAR\"]]) \n",
    "residual = MLB[\"W\"] - MLB[\"multiple_regression\"]"
   ],
   "outputs": [],
   "metadata": {
    "id": "iqWdoNWsgCGH"
   }
  },
  {
   "cell_type": "code",
   "execution_count": 63,
   "source": [
    "#TEST CASE\n",
    "## == TEST CASES for Residuals ==\n",
    "# - This read-only cell contains test cases for your previous cell.\n",
    "# - If this cell runs without any error our output, you PASSED all test cases!\n",
    "# - If this cell results in any errors, check you previous cell, make changes, and RE-RUN your code and then this cell.\n",
    "\n",
    "#assert(math.isclose(MLB[\"residuals\"].sum(), 6.395884621840902e-14)), \"The residuals might not be correct. Please check again!\"\n",
    "assert(math.isclose(MLR_b0, 117.80127404374933)), \"Your ß0 intercept seems to be incorrect.\"\n",
    "assert(round(MLR_bi[0],2)== -11.72), \"The ß1 coefficent estimate doesn't seem correct\"\n",
    "assert(round(MLR_bi[1],2)== 0.89), \"The ß2 coefficent estimate doesn't seem correct\"\n",
    "\n",
    "## == SUCCESS MESSAGE ==\n",
    "# You will only see this message (with the emoji showing) if you passed all test cases:\n",
    "tada = \"\\N{PARTY POPPER}\"\n",
    "print(f\"{tada} All tests passed! {tada}\")\n",
    "print()"
   ],
   "outputs": [
    {
     "output_type": "stream",
     "name": "stdout",
     "text": [
      "🎉 All tests passed! 🎉\n",
      "\n"
     ]
    }
   ],
   "metadata": {
    "id": "0QqMcrNGgFYt"
   }
  },
  {
   "cell_type": "markdown",
   "source": [
    "## Puzzle 3.3: Evaluation\n",
    "Using Python, evaluate $ERA = 3.21$ and $WAR = 25.24$ in your multiple linear regression model. Please use the `round()` function to round your estimate to the closest whole number because `W` (wins) is a *discrete* variable."
   ],
   "metadata": {
    "id": "jXuadjZbgHee"
   }
  },
  {
   "cell_type": "code",
   "execution_count": 69,
   "source": [
    "#Code for Calculation\n",
    "win_prediction = model.predict([[3.21, 25.24]]).round()\n",
    "\n",
    "print(\"The predicted win total with a team ERA of 3.21 and a team WAR of 25.24 is \" + str(win_prediction) + \" wins.\")\n"
   ],
   "outputs": [
    {
     "output_type": "stream",
     "name": "stdout",
     "text": [
      "The predicted win total with a team ERA of 3.21 and a team WAR of 25.24 is [103.] wins.\n"
     ]
    }
   ],
   "metadata": {
    "id": "2jzOCxF3gM_W"
   }
  },
  {
   "cell_type": "code",
   "execution_count": 70,
   "source": [
    "#TEST CASE\n",
    "# - This read-only cell contains test cases for your previous cell.\n",
    "# - If this cell runs without any error our output, you PASSED all test cases!\n",
    "# - If this cell results in any errors, check you previous cell, make changes, and RE-RUN your code and then this cell.\n",
    "\n",
    "assert(math.isclose(win_prediction, 103)), \"Your win_prediction calculation seems to be incorrect.\"\n",
    "\n",
    "## == SUCCESS MESSAGE ==\n",
    "# You will only see this message (with the emoji showing) if you passed all test cases:\n",
    "tada = \"\\N{PARTY POPPER}\"\n",
    "print(f\"{tada} All tests passed! {tada}\")\n",
    "print()"
   ],
   "outputs": [
    {
     "output_type": "stream",
     "name": "stdout",
     "text": [
      "🎉 All tests passed! 🎉\n",
      "\n"
     ]
    }
   ],
   "metadata": {
    "id": "h3zxFzO5gPJn"
   }
  },
  {
   "cell_type": "markdown",
   "source": [
    "## Puzzle 3.4: ❓Individual Reflection❓\n",
    "\n",
    "If we input ERA = 3.21 into its simple linear regression model, we get the estimated average win total for a team is about 100 wins. If we input WAR = 25.24 into its simple linear regression model, we also get the estimated average win total for a team to be about 100 wins. When you input both into the multiple linear regression model, we get a different estimated average win total. Why do you think this is? This question is a bit beyond the scope of the course, so you will be given points just for giving a logical answer.\n"
   ],
   "metadata": {
    "id": "VcT2GjN1ga1_"
   }
  },
  {
   "cell_type": "markdown",
   "source": [
    "Using 2 variables for to predict the number of wins should output a more accurate number of wins rather than just using 1 variable. "
   ],
   "metadata": {
    "id": "dWPwFgRag1zy"
   }
  },
  {
   "cell_type": "markdown",
   "source": [
    "# Submit Your Work\n",
    "\n",
    "You are now done with the last lab of the semester. Congratulations on surviving.\n",
    " \n",
    "You need to do two more things before you can go back to studying for finals:\n",
    "1. Save your work. To do this, go to  **File -> Save All**.\n",
    "2. After you have saved it, exit this notebook and return to the Data Science Discovery page for the Git commands to submit this lab.\n",
    "\n",
    "# Good luck with your finals!"
   ],
   "metadata": {
    "id": "xA79uXXlg5oc"
   }
  }
 ],
 "metadata": {
  "colab": {
   "collapsed_sections": [],
   "name": "regression.ipynb",
   "provenance": []
  },
  "kernelspec": {
   "name": "python3",
   "display_name": "Python 3.8.5 64-bit ('base': conda)"
  },
  "language_info": {
   "codemirror_mode": {
    "name": "ipython",
    "version": 3
   },
   "file_extension": ".py",
   "mimetype": "text/x-python",
   "name": "python",
   "nbconvert_exporter": "python",
   "pygments_lexer": "ipython3",
   "version": "3.8.5"
  },
  "interpreter": {
   "hash": "c0b4b332f31a7ee7ec5b55d27ae6e5e906d5b533d204d9e51c2cddbfabeeb3e3"
  }
 },
 "nbformat": 4,
 "nbformat_minor": 4
}