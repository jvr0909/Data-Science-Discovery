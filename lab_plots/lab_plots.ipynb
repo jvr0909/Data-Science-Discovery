{
 "cells": [
  {
   "cell_type": "markdown",
   "source": [
    "# Lab: Plots\n",
    "\n",
    "You may not know this, but the salaries of the employees at the University of Illinois are publicly available! We have curated this data in a nice, structured dataset called `graybook.csv` for you to explore.  The goal of this lab is to work with real UIUC salary data to explore its properties, answer important questions, and to think about the implications of collecting and analyzing this data.  Throughout the lab, it is important to think about being a critical consumer of data who can not only use statistics and programming to analyze data but can also think about the \"why\" part of data science both in the classroom and in the world, as well how you can use what you learn in class to answer real questions that you have. Let’s get started!\n",
    "\n",
    "In this lab, you will:\n",
    "\n",
    "- Work with real UIUC salary data to explore some of the statistics that we talked about in class: mean, median, standard deviation, etc.\n",
    "- Practice creating plots to visualize quantitative data: boxplots and histograms.\n",
    "- See how data science can be used in the real world to think about important social justice issues through individual reflection and discussions with your group.\n",
    "\n",
    "## PRE-LAB SURVEY\n",
    "\n",
    "We are doing a pre and post lab survey this week! Please complete this survey BEFORE you start the lab to get +2 extra credit points! Who doesn't want extra credit?!  This will help us make the labs better and should take about 5 minutes :) Click the link below to access the survey.\n",
    "\n",
    "[Click Here for the Pre-Lab Survey](https://docs.google.com/forms/d/e/1FAIpQLSck64etK3BifqID33YNDyv0qRE_gXA8xd56tNSYzVDng9i53Q/viewform?usp=sf_link)\n",
    "\n",
    "## Group\n",
    "\n",
    "Edit the next Python cell to add information about who you're working within your lab section:"
   ],
   "metadata": {}
  },
  {
   "cell_type": "code",
   "execution_count": null,
   "source": [
    "# First, meet your CAs and TA if you haven't already!\n",
    "# ...first name is enough, we'll know who they are! :)\n",
    "ta_name = \"Hemon\"\n",
    "ca1_name = \"Justin\"\n",
    "ca2_name = \"Jessica\"\n",
    "ca3_name = \"\"\n",
    "\n",
    "# Also, make sure to meet your team for this Lab! Find out their name, what major they're in,\n",
    "# and learn something new about them that you never knew before!\n",
    "partner1_name = \"Azeem\"\n",
    "partner1_netid = \"ANewaz2\"\n",
    "partner1_major = \"Information Systems\"\n",
    "\n",
    "partner2_name = \"\"\n",
    "partner2_netid = \"\"\n",
    "partner2_major = \"\"\n",
    "\n",
    "partner3_name = \"\"\n",
    "partner3_netid = \"\"\n",
    "partner3_major = \"\""
   ],
   "outputs": [],
   "metadata": {}
  },
  {
   "cell_type": "markdown",
   "source": [
    "## Table of Contents <a id='toc'></a>\n",
    "\n",
    "**Use the Outline view (View > Command Palette > Type \"outline\") for navigation.**\n",
    "\n",
    "* Puzzle 1\n",
    "    * Puzzle 1.1\n",
    "    * Puzzle 1.2\n",
    "    * Puzzle 1.3\n",
    "    * Puzzle 1.4\n",
    "    * Puzzle 1.5\n",
    "* Puzzle 2\n",
    "    * Puzzle 2.1\n",
    "    * Puzzle 2.2\n",
    "    * Puzzle 2.3 \n",
    "* Puzzle 3\n",
    "    * Puzzle 3.1\n",
    "    * Puzzle 3.2\n",
    "* Puzzle 4\n",
    "    * Puzzle 4.1\n",
    "    * Puzzle 4.2\n",
    "* Puzzle 5"
   ],
   "metadata": {}
  },
  {
   "cell_type": "markdown",
   "source": [
    "## Getting Help\n",
    "Remember, there are a lot of ways to get help if you find yourself stuck:\n",
    "\n",
    "1. In your lab section, you can ask your TA or CAs.\n",
    "2. Post your question in the course Discord.\n",
    "3. Office Hours:\n",
    "  - In-person office hours **every Monday, Wednesday, Thursday, and Friday** from 4:00 PM - 6:00 PM in Siebel Center for Design (SCD) Rm. 0060\n",
    "  - Zoom office hours **every Tuesday** from 5:00 PM - 6:30 PM (see the course website for links).\n",
    "\n",
    "## Install MatPlotLib\n",
    "\n",
    "In this lab, we will be creating two types of simple visualizations: Histograms and Box Plots.  To do this, we need to make sure `matplotlib` is installed.\n",
    "\n",
    "Pull up your terminal and run the following code:\n",
    "\n",
    "WINDOWS USERS: \n",
    "\n",
    "`py -m pip install matplotlib`\n",
    "\n",
    "MacOS USERS: \n",
    "\n",
    "`python3 -m pip install matplotlib`\n",
    "\n",
    "## Import the Data\n",
    "\n",
    "In the same directory as this notebook, find the dataset called `graybook.csv` that is provided.  We will use the other dataset later on ;) You know what to do to import the libraries and read in the data! :)\n",
    "\n",
    "Look at the variable names, how many rows and columns there, and anything else you may notice!"
   ],
   "metadata": {}
  },
  {
   "cell_type": "code",
   "execution_count": 17,
   "source": [
    "#import the graybook.csv dataset below \n",
    "import pandas as pd\n",
    "df = pd.read_csv(\"graybook.csv\")\n",
    "df"
   ],
   "outputs": [
    {
     "output_type": "execute_result",
     "data": {
      "text/plain": [
       "                   Employee Name Academic Title  \\\n",
       "0                Edakara, Manu I            NaN   \n",
       "1           Quarton, John Edward            NaN   \n",
       "2          Werpetinski, Valeri A            NaN   \n",
       "3     Abdel-Khalik, Ahmed Rashad           PROF   \n",
       "4                   Ahmed, Waqar       LECTURER   \n",
       "...                          ...            ...   \n",
       "3550               Wolfson, Ouri           PROF   \n",
       "3551             Wu, Maryalice S  ADJ ASST PROF   \n",
       "3552                Yau, Peter M  RES ASST PROF   \n",
       "3553                Yodh, Jaya G  RES ASST PROF   \n",
       "3554               Zerai, Assata           PROF   \n",
       "\n",
       "                  Primary Job Title Primary College  \\\n",
       "0         ASSOC DIR ENTREPRNRL CMTY        Business   \n",
       "1      SR DIR INNOVA ENTRPRNRL PRGM        Business   \n",
       "2     VST ASSOC DIR, ENTRPRNRL EDUC        Business   \n",
       "3                              PROF        Business   \n",
       "4                          LECTURER        Business   \n",
       "...                             ...             ...   \n",
       "3550                            ???             ???   \n",
       "3551                            ???             ???   \n",
       "3552                            ???             ???   \n",
       "3553                            ???             ???   \n",
       "3554                            ???             ???   \n",
       "\n",
       "                  Primary Department     Salary  PrevFTE  FTE  \\\n",
       "0     Academy Entrepreneurial Ldrshp   66300.00      1.0  1.0   \n",
       "1     Academy Entrepreneurial Ldrshp  150480.70      1.0  1.0   \n",
       "2     Academy Entrepreneurial Ldrshp   71400.00      1.0  1.0   \n",
       "3                        Accountancy  318007.00      1.0  1.0   \n",
       "4                        Accountancy   96691.00      1.0  1.0   \n",
       "...                              ...        ...      ...  ...   \n",
       "3550                             ???  200456.78      0.0  0.0   \n",
       "3551                             ???   81962.71      0.0  0.0   \n",
       "3552                             ???  131447.50      0.0  0.0   \n",
       "3553                             ???  112200.00      0.0  0.0   \n",
       "3554                             ???  187530.00      0.0  0.0   \n",
       "\n",
       "                                             All Titles   Empl Class  \\\n",
       "0                         ['ASSOC DIR ENTREPRNRL CMTY']       ['BA']   \n",
       "1     ['SR DIR INNOVA ENTRPRNRL PRGM' 'DIR HOEFT T&M...       ['BA']   \n",
       "2                     ['VST ASSOC DIR, ENTRPRNRL EDUC']       ['BA']   \n",
       "3             ['DIR CIERA' 'PROF' 'V K ZIMMERMAN PROF']  ['BC' 'AA']   \n",
       "4                                          ['LECTURER']       ['AA']   \n",
       "...                                                 ...          ...   \n",
       "3550                                           ['PROF']       ['AA']   \n",
       "3551                                  ['ADJ ASST PROF']       ['AA']   \n",
       "3552                                  ['RES ASST PROF']       ['AL']   \n",
       "3553                                  ['RES ASST PROF']       ['AL']   \n",
       "3554                                           ['PROF']       ['AA']   \n",
       "\n",
       "      PrevSalary  \n",
       "0       65000.00  \n",
       "1      147530.00  \n",
       "2       70000.00  \n",
       "3      312556.00  \n",
       "4       96691.00  \n",
       "...          ...  \n",
       "3550   200456.78  \n",
       "3551    80355.60  \n",
       "3552   128617.91  \n",
       "3553   110000.00  \n",
       "3554   184441.29  \n",
       "\n",
       "[3555 rows x 11 columns]"
      ],
      "text/html": [
       "<div>\n",
       "<style scoped>\n",
       "    .dataframe tbody tr th:only-of-type {\n",
       "        vertical-align: middle;\n",
       "    }\n",
       "\n",
       "    .dataframe tbody tr th {\n",
       "        vertical-align: top;\n",
       "    }\n",
       "\n",
       "    .dataframe thead th {\n",
       "        text-align: right;\n",
       "    }\n",
       "</style>\n",
       "<table border=\"1\" class=\"dataframe\">\n",
       "  <thead>\n",
       "    <tr style=\"text-align: right;\">\n",
       "      <th></th>\n",
       "      <th>Employee Name</th>\n",
       "      <th>Academic Title</th>\n",
       "      <th>Primary Job Title</th>\n",
       "      <th>Primary College</th>\n",
       "      <th>Primary Department</th>\n",
       "      <th>Salary</th>\n",
       "      <th>PrevFTE</th>\n",
       "      <th>FTE</th>\n",
       "      <th>All Titles</th>\n",
       "      <th>Empl Class</th>\n",
       "      <th>PrevSalary</th>\n",
       "    </tr>\n",
       "  </thead>\n",
       "  <tbody>\n",
       "    <tr>\n",
       "      <th>0</th>\n",
       "      <td>Edakara, Manu I</td>\n",
       "      <td>NaN</td>\n",
       "      <td>ASSOC DIR ENTREPRNRL CMTY</td>\n",
       "      <td>Business</td>\n",
       "      <td>Academy Entrepreneurial Ldrshp</td>\n",
       "      <td>66300.00</td>\n",
       "      <td>1.0</td>\n",
       "      <td>1.0</td>\n",
       "      <td>['ASSOC DIR ENTREPRNRL CMTY']</td>\n",
       "      <td>['BA']</td>\n",
       "      <td>65000.00</td>\n",
       "    </tr>\n",
       "    <tr>\n",
       "      <th>1</th>\n",
       "      <td>Quarton, John Edward</td>\n",
       "      <td>NaN</td>\n",
       "      <td>SR DIR INNOVA ENTRPRNRL PRGM</td>\n",
       "      <td>Business</td>\n",
       "      <td>Academy Entrepreneurial Ldrshp</td>\n",
       "      <td>150480.70</td>\n",
       "      <td>1.0</td>\n",
       "      <td>1.0</td>\n",
       "      <td>['SR DIR INNOVA ENTRPRNRL PRGM' 'DIR HOEFT T&amp;M...</td>\n",
       "      <td>['BA']</td>\n",
       "      <td>147530.00</td>\n",
       "    </tr>\n",
       "    <tr>\n",
       "      <th>2</th>\n",
       "      <td>Werpetinski, Valeri A</td>\n",
       "      <td>NaN</td>\n",
       "      <td>VST ASSOC DIR, ENTRPRNRL EDUC</td>\n",
       "      <td>Business</td>\n",
       "      <td>Academy Entrepreneurial Ldrshp</td>\n",
       "      <td>71400.00</td>\n",
       "      <td>1.0</td>\n",
       "      <td>1.0</td>\n",
       "      <td>['VST ASSOC DIR, ENTRPRNRL EDUC']</td>\n",
       "      <td>['BA']</td>\n",
       "      <td>70000.00</td>\n",
       "    </tr>\n",
       "    <tr>\n",
       "      <th>3</th>\n",
       "      <td>Abdel-Khalik, Ahmed Rashad</td>\n",
       "      <td>PROF</td>\n",
       "      <td>PROF</td>\n",
       "      <td>Business</td>\n",
       "      <td>Accountancy</td>\n",
       "      <td>318007.00</td>\n",
       "      <td>1.0</td>\n",
       "      <td>1.0</td>\n",
       "      <td>['DIR CIERA' 'PROF' 'V K ZIMMERMAN PROF']</td>\n",
       "      <td>['BC' 'AA']</td>\n",
       "      <td>312556.00</td>\n",
       "    </tr>\n",
       "    <tr>\n",
       "      <th>4</th>\n",
       "      <td>Ahmed, Waqar</td>\n",
       "      <td>LECTURER</td>\n",
       "      <td>LECTURER</td>\n",
       "      <td>Business</td>\n",
       "      <td>Accountancy</td>\n",
       "      <td>96691.00</td>\n",
       "      <td>1.0</td>\n",
       "      <td>1.0</td>\n",
       "      <td>['LECTURER']</td>\n",
       "      <td>['AA']</td>\n",
       "      <td>96691.00</td>\n",
       "    </tr>\n",
       "    <tr>\n",
       "      <th>...</th>\n",
       "      <td>...</td>\n",
       "      <td>...</td>\n",
       "      <td>...</td>\n",
       "      <td>...</td>\n",
       "      <td>...</td>\n",
       "      <td>...</td>\n",
       "      <td>...</td>\n",
       "      <td>...</td>\n",
       "      <td>...</td>\n",
       "      <td>...</td>\n",
       "      <td>...</td>\n",
       "    </tr>\n",
       "    <tr>\n",
       "      <th>3550</th>\n",
       "      <td>Wolfson, Ouri</td>\n",
       "      <td>PROF</td>\n",
       "      <td>???</td>\n",
       "      <td>???</td>\n",
       "      <td>???</td>\n",
       "      <td>200456.78</td>\n",
       "      <td>0.0</td>\n",
       "      <td>0.0</td>\n",
       "      <td>['PROF']</td>\n",
       "      <td>['AA']</td>\n",
       "      <td>200456.78</td>\n",
       "    </tr>\n",
       "    <tr>\n",
       "      <th>3551</th>\n",
       "      <td>Wu, Maryalice S</td>\n",
       "      <td>ADJ ASST PROF</td>\n",
       "      <td>???</td>\n",
       "      <td>???</td>\n",
       "      <td>???</td>\n",
       "      <td>81962.71</td>\n",
       "      <td>0.0</td>\n",
       "      <td>0.0</td>\n",
       "      <td>['ADJ ASST PROF']</td>\n",
       "      <td>['AA']</td>\n",
       "      <td>80355.60</td>\n",
       "    </tr>\n",
       "    <tr>\n",
       "      <th>3552</th>\n",
       "      <td>Yau, Peter M</td>\n",
       "      <td>RES ASST PROF</td>\n",
       "      <td>???</td>\n",
       "      <td>???</td>\n",
       "      <td>???</td>\n",
       "      <td>131447.50</td>\n",
       "      <td>0.0</td>\n",
       "      <td>0.0</td>\n",
       "      <td>['RES ASST PROF']</td>\n",
       "      <td>['AL']</td>\n",
       "      <td>128617.91</td>\n",
       "    </tr>\n",
       "    <tr>\n",
       "      <th>3553</th>\n",
       "      <td>Yodh, Jaya G</td>\n",
       "      <td>RES ASST PROF</td>\n",
       "      <td>???</td>\n",
       "      <td>???</td>\n",
       "      <td>???</td>\n",
       "      <td>112200.00</td>\n",
       "      <td>0.0</td>\n",
       "      <td>0.0</td>\n",
       "      <td>['RES ASST PROF']</td>\n",
       "      <td>['AL']</td>\n",
       "      <td>110000.00</td>\n",
       "    </tr>\n",
       "    <tr>\n",
       "      <th>3554</th>\n",
       "      <td>Zerai, Assata</td>\n",
       "      <td>PROF</td>\n",
       "      <td>???</td>\n",
       "      <td>???</td>\n",
       "      <td>???</td>\n",
       "      <td>187530.00</td>\n",
       "      <td>0.0</td>\n",
       "      <td>0.0</td>\n",
       "      <td>['PROF']</td>\n",
       "      <td>['AA']</td>\n",
       "      <td>184441.29</td>\n",
       "    </tr>\n",
       "  </tbody>\n",
       "</table>\n",
       "<p>3555 rows × 11 columns</p>\n",
       "</div>"
      ]
     },
     "metadata": {},
     "execution_count": 17
    }
   ],
   "metadata": {
    "deletable": false,
    "nbgrader": {
     "cell_type": "code",
     "checksum": "40a9b55a4721908243d995f8d7f2fbb7",
     "grade": false,
     "grade_id": "cell-27971beecac131cc",
     "locked": false,
     "schema_version": 3,
     "solution": true,
     "task": false
    }
   }
  },
  {
   "cell_type": "markdown",
   "source": [
    "## Puzzle 1: Exploratory Data Analysis (EDA)\n",
    "As we discussed in lecture, the first step of any data analysis is to get familiar with your dataset.  Think about what this data can tell you and what variables are included.  Data scientists always start with this step.\n",
    "\n",
    "\n",
    "Let’s do some overall exploratory data analysis to get some baseline data to compare to.  Before you do the calculations, guess what you think the average salary is at UIUC. Enter your answer below.\n",
    "\n",
    "### Puzzle 1.1: ❓ Individual Reflection ❓ \n",
    "\n",
    "Guess for Overall Average Salary."
   ],
   "metadata": {}
  },
  {
   "cell_type": "markdown",
   "source": [
    "90,000 dollars"
   ],
   "metadata": {}
  },
  {
   "cell_type": "markdown",
   "source": [
    "### Puzzle 1.2: Descriptive Statistics\n",
    "\n",
    "Next, using all of the data, find the following information:\n",
    "\n",
    "1. the number of employees at UIUC\n",
    "2. the mean salary\n",
    "3. the median salary\n",
    "4. the standard deviation"
   ],
   "metadata": {}
  },
  {
   "cell_type": "code",
   "execution_count": 14,
   "source": [
    "university_num_emp = len(df)\n",
    "university_num_emp\n",
    "\n"
   ],
   "outputs": [
    {
     "output_type": "execute_result",
     "data": {
      "text/plain": [
       "3555"
      ]
     },
     "metadata": {},
     "execution_count": 14
    }
   ],
   "metadata": {
    "deletable": false,
    "nbgrader": {
     "cell_type": "code",
     "checksum": "b1bea43f79c33b854e1f15dfe00b180b",
     "grade": false,
     "grade_id": "cell-419796a0b415e588",
     "locked": false,
     "schema_version": 3,
     "solution": true,
     "task": false
    }
   }
  },
  {
   "cell_type": "code",
   "execution_count": 18,
   "source": [
    "university_mean_sal = df[\"Salary\"].mean()\n",
    "university_mean_sal\n",
    "\n"
   ],
   "outputs": [
    {
     "output_type": "execute_result",
     "data": {
      "text/plain": [
       "101284.91668642375"
      ]
     },
     "metadata": {},
     "execution_count": 18
    }
   ],
   "metadata": {
    "deletable": false,
    "nbgrader": {
     "cell_type": "code",
     "checksum": "f86aac497feb3ecd4289626231b44964",
     "grade": false,
     "grade_id": "cell-4dbbeef1022a20e4",
     "locked": false,
     "schema_version": 3,
     "solution": true,
     "task": false
    }
   }
  },
  {
   "cell_type": "code",
   "execution_count": 19,
   "source": [
    "university_median_sal = df[\"Salary\"].median()\n",
    "university_median_sal\n",
    "\n"
   ],
   "outputs": [
    {
     "output_type": "execute_result",
     "data": {
      "text/plain": [
       "86995.0"
      ]
     },
     "metadata": {},
     "execution_count": 19
    }
   ],
   "metadata": {
    "deletable": false,
    "nbgrader": {
     "cell_type": "code",
     "checksum": "e8f355f508ffadd1f9b645c9686c73ea",
     "grade": false,
     "grade_id": "cell-727195c3fef2cf78",
     "locked": false,
     "schema_version": 3,
     "solution": true,
     "task": false
    }
   }
  },
  {
   "cell_type": "code",
   "execution_count": 21,
   "source": [
    "university_std_sal = df[\"Salary\"].std()\n",
    "university_std_sal\n",
    "\n"
   ],
   "outputs": [
    {
     "output_type": "execute_result",
     "data": {
      "text/plain": [
       "55129.29496464768"
      ]
     },
     "metadata": {},
     "execution_count": 21
    }
   ],
   "metadata": {
    "deletable": false,
    "nbgrader": {
     "cell_type": "code",
     "checksum": "3da9719c35e35c72a09a1068d100b0f1",
     "grade": false,
     "grade_id": "cell-35e651d14a628e50",
     "locked": false,
     "schema_version": 3,
     "solution": true,
     "task": false
    }
   }
  },
  {
   "cell_type": "code",
   "execution_count": 22,
   "source": [
    "## == TEST CASES for Puzzle 1.1 ==\n",
    "# - This read-only cell contains test cases for your previous cell.\n",
    "# - If this cell runs with a message (with the emoji showing), you PASSED all test cases!\n",
    "# - If this cell results in any errors, check your previous cell, make changes, and RE-RUN your code and then this cell.\n",
    "x = university_num_emp + university_mean_sal + university_median_sal + university_std_sal\n",
    "y = ((university_mean_sal - university_median_sal) * university_std_sal) / university_num_emp\n",
    "\n",
    "assert( abs(x - 246964.21165107167) < 1 ), \"It looks like your calculations are off?\"\n",
    "assert( abs(y - 221601.415478511) < 1 ), \"It looks like your calculations are off?\"\n",
    "\n",
    "## == SUCCESS MESSAGE ==\n",
    "# You will only see this message (with the emoji showing) if you passed all test cases:\n",
    "tada = \"\\N{PARTY POPPER}\"\n",
    "print(f\"{tada} All tests passed! {tada}\")"
   ],
   "outputs": [
    {
     "output_type": "stream",
     "name": "stdout",
     "text": [
      "🎉 All tests passed! 🎉\n"
     ]
    }
   ],
   "metadata": {
    "deletable": false,
    "editable": false,
    "nbgrader": {
     "cell_type": "code",
     "checksum": "56f09ea04974ac5c89f390a8825daa39",
     "grade": true,
     "grade_id": "cell-04e624817d681f8e",
     "locked": true,
     "points": 1,
     "schema_version": 3,
     "solution": false,
     "task": false
    }
   }
  },
  {
   "cell_type": "markdown",
   "source": [
    "### Visual Displays of Data -- A Key Part of EDA!\n",
    "\n",
    "Now, we are a bit more familiar with the dataset and some summary statistics. Looking at overall descriptive statistics helps us summarize all of the observations in a column, rather than having to scroll through all of the observations!  However, descriptive statistics alone often don’t tell the whole story.  \n",
    "\n",
    "In lecture, we will see Anscombe’s Quartet (a set of 4 datasets with the exact same descriptive statistics that look completely different when graphed). This shows us that visual displays of data are also a necessary and important part of exploratory data analysis. \n",
    "\n",
    "### Puzzle 1.3: Histograms\n",
    "\n",
    "Let’s start by looking at one of the most simple, yet powerful visual displays of data, a histogram.  Histograms are used to show the overall shape of the data and they allow us to see frequencies.  Create a frequency histogram of the salaries at UIUC.\n"
   ],
   "metadata": {}
  },
  {
   "cell_type": "code",
   "execution_count": 23,
   "source": [
    "# create your histogram here\n",
    "df[\"Salary\"].hist()"
   ],
   "outputs": [
    {
     "output_type": "execute_result",
     "data": {
      "text/plain": [
       "<AxesSubplot:>"
      ]
     },
     "metadata": {},
     "execution_count": 23
    },
    {
     "output_type": "display_data",
     "data": {
      "text/plain": [
       "<Figure size 432x288 with 1 Axes>"
      ],
      "image/png": "[encoded data removed]"
     },
     "metadata": {
      "needs_background": "light"
     }
    }
   ],
   "metadata": {}
  },
  {
   "cell_type": "markdown",
   "source": [
    "### Puzzle 1.4: Boxplots\n",
    "\n",
    "Next, let’s look at another simple, yet power visualization: a boxplot! Create a boxplot of the overall salary data at UIUC. "
   ],
   "metadata": {}
  },
  {
   "cell_type": "code",
   "execution_count": 41,
   "source": [
    "df.boxplot(\"Salary\")"
   ],
   "outputs": [
    {
     "output_type": "execute_result",
     "data": {
      "text/plain": [
       "<AxesSubplot:>"
      ]
     },
     "metadata": {},
     "execution_count": 41
    },
    {
     "output_type": "display_data",
     "data": {
      "text/plain": [
       "<Figure size 432x288 with 1 Axes>"
      ],
      "image/png": "[encoded data removed]"
     },
     "metadata": {
      "needs_background": "light"
     }
    }
   ],
   "metadata": {}
  },
  {
   "cell_type": "markdown",
   "source": [
    "### Puzzle 1.5: ❓ Individual Reflection ❓\n",
    "\n",
    "Explain why is it valuable to look at visual displays of salary data in addition to descriptive statistics like the mean, median, and SD. Write at least 3 sentences."
   ],
   "metadata": {}
  },
  {
   "cell_type": "markdown",
   "source": [
    "It is important to look at visual statistics because it is easy to see all the data without looking at a giant data frame. It is important to look at the descripitive statitics to see the overall data trends and see if there any outliers. For example if you compare the mean and median you can see the effect of outliers on the data."
   ],
   "metadata": {}
  },
  {
   "cell_type": "markdown",
   "source": [
    "### ❓ Group Discussion ❓\n",
    "Share what you said with your group members! \n",
    "\n",
    "## Puzzle 2: Department-Level Data\n",
    "\n",
    "One of the interesting properties of the salary dataset is that you can see what department each professor is from and look at the same data at a department level.  In other words, you can calculate descriptive statistics and look at visual displays of data for each department.  Let’s explore whether or not there are salary discrepancies among a few departments.\n",
    "\n",
    "### Puzzle 2.1:\n",
    "There was a certain function you learned that will help you **group** all of the people in each department so you can find departmental aggregates.  In other words, you want to group by `'Primary Department'`.\n",
    "\n",
    "Next, instead of just grouping by a single aggregate, use **Python list syntax** to aggregate by `count`, `mean`, and `median` to find the mean and median salary, as well as the count for how many people are in each department.  \n",
    "\n",
    "*(You can view technical docs here:\n",
    "https://pandas.pydata.org/pandas-docs/stable/reference/groupby.html)*"
   ],
   "metadata": {}
  },
  {
   "cell_type": "code",
   "execution_count": 48,
   "source": [
    "group = df.groupby(\"Primary Department\")\n",
    "agg_df = group.agg([\"count\", \"mean\", \"median\"]).reset_index()\n",
    "\n",
    "\n",
    "# Here, we only care about two columns so we are selecting those columns to be in our dataset\n",
    "agg_df = agg_df[[\"Primary Department\", \"Salary\"]]\n",
    "\n",
    "# Display 5 random rows to make sure it works:\n",
    "agg_df.sample(5)"
   ],
   "outputs": [
    {
     "output_type": "execute_result",
     "data": {
      "text/plain": [
       "                Primary Department Salary                         \n",
       "                                    count          mean     median\n",
       "7         African American Studies     11  98439.847273  106387.86\n",
       "92  Kinesiology & Community Health     47  88118.881702   78963.00\n",
       "61      Engineering Administration     61  84849.803279   69360.00\n",
       "18   Applied Health Sciences Admin     29  81541.862069   58607.00\n",
       "93             Krannert Art Museum     13  63197.692308   60403.00"
      ],
      "text/html": [
       "<div>\n",
       "<style scoped>\n",
       "    .dataframe tbody tr th:only-of-type {\n",
       "        vertical-align: middle;\n",
       "    }\n",
       "\n",
       "    .dataframe tbody tr th {\n",
       "        vertical-align: top;\n",
       "    }\n",
       "\n",
       "    .dataframe thead tr th {\n",
       "        text-align: left;\n",
       "    }\n",
       "</style>\n",
       "<table border=\"1\" class=\"dataframe\">\n",
       "  <thead>\n",
       "    <tr>\n",
       "      <th></th>\n",
       "      <th>Primary Department</th>\n",
       "      <th colspan=\"3\" halign=\"left\">Salary</th>\n",
       "    </tr>\n",
       "    <tr>\n",
       "      <th></th>\n",
       "      <th></th>\n",
       "      <th>count</th>\n",
       "      <th>mean</th>\n",
       "      <th>median</th>\n",
       "    </tr>\n",
       "  </thead>\n",
       "  <tbody>\n",
       "    <tr>\n",
       "      <th>7</th>\n",
       "      <td>African American Studies</td>\n",
       "      <td>11</td>\n",
       "      <td>98439.847273</td>\n",
       "      <td>106387.86</td>\n",
       "    </tr>\n",
       "    <tr>\n",
       "      <th>92</th>\n",
       "      <td>Kinesiology &amp; Community Health</td>\n",
       "      <td>47</td>\n",
       "      <td>88118.881702</td>\n",
       "      <td>78963.00</td>\n",
       "    </tr>\n",
       "    <tr>\n",
       "      <th>61</th>\n",
       "      <td>Engineering Administration</td>\n",
       "      <td>61</td>\n",
       "      <td>84849.803279</td>\n",
       "      <td>69360.00</td>\n",
       "    </tr>\n",
       "    <tr>\n",
       "      <th>18</th>\n",
       "      <td>Applied Health Sciences Admin</td>\n",
       "      <td>29</td>\n",
       "      <td>81541.862069</td>\n",
       "      <td>58607.00</td>\n",
       "    </tr>\n",
       "    <tr>\n",
       "      <th>93</th>\n",
       "      <td>Krannert Art Museum</td>\n",
       "      <td>13</td>\n",
       "      <td>63197.692308</td>\n",
       "      <td>60403.00</td>\n",
       "    </tr>\n",
       "  </tbody>\n",
       "</table>\n",
       "</div>"
      ]
     },
     "metadata": {},
     "execution_count": 48
    }
   ],
   "metadata": {
    "deletable": false,
    "nbgrader": {
     "cell_type": "code",
     "checksum": "912abaecdf749394d0921e160cd15746",
     "grade": false,
     "grade_id": "cell-72189b308296916b",
     "locked": false,
     "schema_version": 3,
     "solution": true,
     "task": false
    }
   }
  },
  {
   "cell_type": "code",
   "execution_count": 50,
   "source": [
    "## == TEST CASES for Puzzle 2.1 ==\n",
    "# - This read-only cell contains test cases for your previous cell.\n",
    "# - If this cell runs with a message (with the emoji showing), you PASSED all test cases!\n",
    "# - If this cell results in any errors, check your previous cell, make changes, and RE-RUN your code and then this cell.\n",
    "assert( len(agg_df) == 140 ), \"You should have 140 different departments.  Check to make sure you grouped the data?\"\n",
    "assert( \"Salary\" in agg_df ), \"You must have a salary output\"\n",
    "assert( \"mean\" in agg_df[\"Salary\"] ), \"Make sure you have a mean in your salary\"\n",
    "assert( \"count\" in agg_df[\"Salary\"] ), \"Make sure you have a count in your salary\"\n",
    "assert( \"median\" in agg_df[\"Salary\"] ), \"Make sure you have a median in your salary\"\n",
    "assert( len(agg_df.columns) == 4 ), \"Make sure you have ONLY the salary data and the department\"\n",
    "\n",
    "## == SUCCESS MESSAGE ==\n",
    "# You will only see this message (with the emoji showing) if you passed all test cases:\n",
    "tada = \"\\N{PARTY POPPER}\"\n",
    "print(f\"{tada} All tests passed! {tada}\")"
   ],
   "outputs": [
    {
     "output_type": "stream",
     "name": "stdout",
     "text": [
      "🎉 All tests passed! 🎉\n"
     ]
    }
   ],
   "metadata": {
    "deletable": false,
    "editable": false,
    "nbgrader": {
     "cell_type": "code",
     "checksum": "0bbf4ebd7bc25281632fc296ffd2b063",
     "grade": true,
     "grade_id": "cell-d4a69c902629304a",
     "locked": true,
     "points": 1,
     "schema_version": 3,
     "solution": false,
     "task": false
    }
   }
  },
  {
   "cell_type": "markdown",
   "source": [
    "### Puzzle 2.2:\n",
    "\n",
    "Create a histogram of the salaries in your home department.  In other words, if your major is Statistics, you should have a histogram of all the salaries in the Statistics Department. Also, find the maximum and minimum salary in your home department. If you're undecided, pick a department you are interested in."
   ],
   "metadata": {}
  },
  {
   "cell_type": "code",
   "execution_count": 59,
   "source": [
    "# histogram of your home department\n",
    "df[df[\"Primary Department\"] == \"Computer Science\"].hist(\"Salary\")"
   ],
   "outputs": [
    {
     "output_type": "execute_result",
     "data": {
      "text/plain": [
       "array([[<AxesSubplot:title={'center':'Salary'}>]], dtype=object)"
      ]
     },
     "metadata": {},
     "execution_count": 59
    },
    {
     "output_type": "display_data",
     "data": {
      "text/plain": [
       "<Figure size 432x288 with 1 Axes>"
      ],
      "image/png": "[encoded data removed]"
     },
     "metadata": {
      "needs_background": "light"
     }
    }
   ],
   "metadata": {}
  },
  {
   "cell_type": "code",
   "execution_count": 67,
   "source": [
    "#find the max and min salary for your home deparment\n",
    "\n",
    "max_salary = df[df[\"Primary Department\"] == \"Computer Science\"][\"Salary\"].max()\n",
    "print(max_salary)\n",
    "\n",
    "min_salary = df[df[\"Primary Department\"] == \"Computer Science\"][\"Salary\"].min()\n",
    "print(min_salary)"
   ],
   "outputs": [
    {
     "output_type": "stream",
     "name": "stdout",
     "text": [
      "265205.0\n",
      "9600.0\n"
     ]
    }
   ],
   "metadata": {}
  },
  {
   "cell_type": "markdown",
   "source": [
    "### ❓ Group Discussion ❓\n",
    "\n",
    "Share the results with the people at your table. Do you notice any similarities or differences between departments?\n",
    "\n",
    "### Puzzle 2.3: ❓ Individual Reflection ❓\n",
    "\n",
    "Write down something you learned from your group discussion! Write at least 3 sentences."
   ],
   "metadata": {}
  },
  {
   "cell_type": "markdown",
   "source": [
    "I learned how to how to aggregate data using multiple different statistics such as mean median and count at the same time. I also learned how to create a histogram of the major I am in. I also learned how to get the min and max value of my majors salary"
   ],
   "metadata": {}
  },
  {
   "cell_type": "markdown",
   "source": [
    "## Puzzle 3: Genders and Salaries\n",
    "\n",
    "Data can often reveal systemic problems or discrimination. For example, in many companies, men and women are promoted at different rates.  Let’s look at a subset of the salary dataset to investigate whether or not there is a difference in salaries between faculty who identify as men and women in two departments. We have this data for the STAT and CS departments (Karle and Wade’s home departments) and have compiled it in a dataset called `statcssalaries.csv`. This data is also located in the same directory as this lab!\n",
    "\n",
    "### Puzzle 3.1:\n",
    "\n",
    "Load the second dataset `statcssalaries.csv` and create two boxplots of the male salaries and female salaries in this dataset.  "
   ],
   "metadata": {}
  },
  {
   "cell_type": "code",
   "execution_count": 84,
   "source": [
    "import matplotlib.pyplot as plt\n",
    "# load the dataset\n",
    "df = pd.read_csv(\"statcssalaries.csv\")\n",
    "\n",
    "# create the two boxplots\n",
    "StatCSMaleBox = df[df[\"Gender\"] == \"M\"].boxplot()\n",
    "plt.show()\n",
    "StatCSFemaleBox = df[df[\"Gender\"] == \"F\"].boxplot()\n",
    "plt.show()\n",
    "df\n"
   ],
   "outputs": [
    {
     "output_type": "display_data",
     "data": {
      "text/plain": [
       "<Figure size 432x288 with 1 Axes>"
      ],
      "image/png": "[encoded data removed]"
     },
     "metadata": {
      "needs_background": "light"
     }
    },
    {
     "output_type": "display_data",
     "data": {
      "text/plain": [
       "<Figure size 432x288 with 1 Axes>"
      ],
      "image/png": "[encoded data removed]"
     },
     "metadata": {
      "needs_background": "light"
     }
    },
    {
     "output_type": "execute_result",
     "data": {
      "text/plain": [
       "                    Employee Name      Academic Title   Primary Job Title  \\\n",
       "0               Abdelzaher, Tarek                PROF                PROF   \n",
       "1                  Adve, Sarita V                PROF                PROF   \n",
       "2           Adve, Vikram Sadanand                PROF                PROF   \n",
       "3                     Agha, Gul A                PROF                PROF   \n",
       "4    Alawini, Abdussalam Alhadi M  TEACHING ASST PROF  TEACHING ASST PROF   \n",
       "..                            ...                 ...                 ...   \n",
       "128            Stepanov, Alexey G         SR LECTURER         SR LECTURER   \n",
       "129                  Unger, David       SR INSTRUCTOR       SR INSTRUCTOR   \n",
       "130                     Yang, Yun           ASST PROF           ASST PROF   \n",
       "131              Zhao, Sihai Dave           ASST PROF           ASST PROF   \n",
       "132                  Zhu, Ruoqing           ASST PROF           ASST PROF   \n",
       "\n",
       "             Primary College Primary Department     Salary Gender  \n",
       "0                Engineering   Computer Science  164851.00      M  \n",
       "1                Engineering   Computer Science  180490.00      F  \n",
       "2                Engineering   Computer Science  186454.00      M  \n",
       "3                Engineering   Computer Science  181124.38      M  \n",
       "4                Engineering   Computer Science   90000.00      M  \n",
       "..                       ...                ...        ...    ...  \n",
       "128  Liberal Arts & Sciences         Statistics   81001.00      M  \n",
       "129  Liberal Arts & Sciences         Statistics   87582.80      M  \n",
       "130  Liberal Arts & Sciences         Statistics  102000.00      M  \n",
       "131  Liberal Arts & Sciences         Statistics   93219.09      M  \n",
       "132  Liberal Arts & Sciences         Statistics   94849.60      M  \n",
       "\n",
       "[133 rows x 7 columns]"
      ],
      "text/html": [
       "<div>\n",
       "<style scoped>\n",
       "    .dataframe tbody tr th:only-of-type {\n",
       "        vertical-align: middle;\n",
       "    }\n",
       "\n",
       "    .dataframe tbody tr th {\n",
       "        vertical-align: top;\n",
       "    }\n",
       "\n",
       "    .dataframe thead th {\n",
       "        text-align: right;\n",
       "    }\n",
       "</style>\n",
       "<table border=\"1\" class=\"dataframe\">\n",
       "  <thead>\n",
       "    <tr style=\"text-align: right;\">\n",
       "      <th></th>\n",
       "      <th>Employee Name</th>\n",
       "      <th>Academic Title</th>\n",
       "      <th>Primary Job Title</th>\n",
       "      <th>Primary College</th>\n",
       "      <th>Primary Department</th>\n",
       "      <th>Salary</th>\n",
       "      <th>Gender</th>\n",
       "    </tr>\n",
       "  </thead>\n",
       "  <tbody>\n",
       "    <tr>\n",
       "      <th>0</th>\n",
       "      <td>Abdelzaher, Tarek</td>\n",
       "      <td>PROF</td>\n",
       "      <td>PROF</td>\n",
       "      <td>Engineering</td>\n",
       "      <td>Computer Science</td>\n",
       "      <td>164851.00</td>\n",
       "      <td>M</td>\n",
       "    </tr>\n",
       "    <tr>\n",
       "      <th>1</th>\n",
       "      <td>Adve, Sarita V</td>\n",
       "      <td>PROF</td>\n",
       "      <td>PROF</td>\n",
       "      <td>Engineering</td>\n",
       "      <td>Computer Science</td>\n",
       "      <td>180490.00</td>\n",
       "      <td>F</td>\n",
       "    </tr>\n",
       "    <tr>\n",
       "      <th>2</th>\n",
       "      <td>Adve, Vikram Sadanand</td>\n",
       "      <td>PROF</td>\n",
       "      <td>PROF</td>\n",
       "      <td>Engineering</td>\n",
       "      <td>Computer Science</td>\n",
       "      <td>186454.00</td>\n",
       "      <td>M</td>\n",
       "    </tr>\n",
       "    <tr>\n",
       "      <th>3</th>\n",
       "      <td>Agha, Gul A</td>\n",
       "      <td>PROF</td>\n",
       "      <td>PROF</td>\n",
       "      <td>Engineering</td>\n",
       "      <td>Computer Science</td>\n",
       "      <td>181124.38</td>\n",
       "      <td>M</td>\n",
       "    </tr>\n",
       "    <tr>\n",
       "      <th>4</th>\n",
       "      <td>Alawini, Abdussalam Alhadi M</td>\n",
       "      <td>TEACHING ASST PROF</td>\n",
       "      <td>TEACHING ASST PROF</td>\n",
       "      <td>Engineering</td>\n",
       "      <td>Computer Science</td>\n",
       "      <td>90000.00</td>\n",
       "      <td>M</td>\n",
       "    </tr>\n",
       "    <tr>\n",
       "      <th>...</th>\n",
       "      <td>...</td>\n",
       "      <td>...</td>\n",
       "      <td>...</td>\n",
       "      <td>...</td>\n",
       "      <td>...</td>\n",
       "      <td>...</td>\n",
       "      <td>...</td>\n",
       "    </tr>\n",
       "    <tr>\n",
       "      <th>128</th>\n",
       "      <td>Stepanov, Alexey G</td>\n",
       "      <td>SR LECTURER</td>\n",
       "      <td>SR LECTURER</td>\n",
       "      <td>Liberal Arts &amp; Sciences</td>\n",
       "      <td>Statistics</td>\n",
       "      <td>81001.00</td>\n",
       "      <td>M</td>\n",
       "    </tr>\n",
       "    <tr>\n",
       "      <th>129</th>\n",
       "      <td>Unger, David</td>\n",
       "      <td>SR INSTRUCTOR</td>\n",
       "      <td>SR INSTRUCTOR</td>\n",
       "      <td>Liberal Arts &amp; Sciences</td>\n",
       "      <td>Statistics</td>\n",
       "      <td>87582.80</td>\n",
       "      <td>M</td>\n",
       "    </tr>\n",
       "    <tr>\n",
       "      <th>130</th>\n",
       "      <td>Yang, Yun</td>\n",
       "      <td>ASST PROF</td>\n",
       "      <td>ASST PROF</td>\n",
       "      <td>Liberal Arts &amp; Sciences</td>\n",
       "      <td>Statistics</td>\n",
       "      <td>102000.00</td>\n",
       "      <td>M</td>\n",
       "    </tr>\n",
       "    <tr>\n",
       "      <th>131</th>\n",
       "      <td>Zhao, Sihai Dave</td>\n",
       "      <td>ASST PROF</td>\n",
       "      <td>ASST PROF</td>\n",
       "      <td>Liberal Arts &amp; Sciences</td>\n",
       "      <td>Statistics</td>\n",
       "      <td>93219.09</td>\n",
       "      <td>M</td>\n",
       "    </tr>\n",
       "    <tr>\n",
       "      <th>132</th>\n",
       "      <td>Zhu, Ruoqing</td>\n",
       "      <td>ASST PROF</td>\n",
       "      <td>ASST PROF</td>\n",
       "      <td>Liberal Arts &amp; Sciences</td>\n",
       "      <td>Statistics</td>\n",
       "      <td>94849.60</td>\n",
       "      <td>M</td>\n",
       "    </tr>\n",
       "  </tbody>\n",
       "</table>\n",
       "<p>133 rows × 7 columns</p>\n",
       "</div>"
      ]
     },
     "metadata": {},
     "execution_count": 84
    }
   ],
   "metadata": {
    "deletable": false,
    "nbgrader": {
     "cell_type": "code",
     "checksum": "fbf16695acaebfe92f608b5121644035",
     "grade": false,
     "grade_id": "cell-dca5763613817466",
     "locked": false,
     "schema_version": 3,
     "solution": true,
     "task": false
    }
   }
  },
  {
   "cell_type": "markdown",
   "source": [
    "### Puzzle 3.2:\n",
    "\n",
    "Next, calculate the overall mean, median, and SD of the salaries for this data."
   ],
   "metadata": {}
  },
  {
   "cell_type": "code",
   "execution_count": 90,
   "source": [
    "overall_mean = df[\"Salary\"].mean()\n",
    "print(overall_mean)\n",
    "\n",
    "overall_median = df[\"Salary\"].median()\n",
    "print(overall_median)\n",
    "\n",
    "overall_SD = df[\"Salary\"].std()\n",
    "print(overall_SD)"
   ],
   "outputs": [
    {
     "output_type": "stream",
     "name": "stdout",
     "text": [
      "121030.35902255638\n",
      "110992.0\n",
      "49959.50619890204\n"
     ]
    }
   ],
   "metadata": {
    "deletable": false,
    "nbgrader": {
     "cell_type": "code",
     "checksum": "2fdb936f99485f2c4244bfd1a6eb4b08",
     "grade": false,
     "grade_id": "cell-8d360389fd08fc8f",
     "locked": false,
     "schema_version": 3,
     "solution": true,
     "task": false
    }
   }
  },
  {
   "cell_type": "code",
   "execution_count": 91,
   "source": [
    "## == TEST CASES for Puzzle 3.2 ==\n",
    "# - This read-only cell contains test cases for your previous cell.\n",
    "# - If this cell runs with a message (with the emoji showing), you PASSED all test cases!\n",
    "# - If this cell results in any errors, check your previous cell, make changes, and RE-RUN your code and then this cell.\n",
    "x = overall_median + overall_median + overall_SD\n",
    "y = ((overall_mean - overall_median) * overall_SD) / overall_SD\n",
    "\n",
    "assert( abs(x - 271945.50619890203) > 1 ), \"It looks like your calculations are off?\"\n",
    "assert( (y - 10038.359022556397) < 1 ), \"It looks like your calculations are off?\"\n",
    "\n",
    "## == SUCCESS MESSAGE ==\n",
    "# You will only see this message (with the emoji showing) if you passed all test cases:\n",
    "tada = \"\\N{PARTY POPPER}\"\n",
    "print(f\"{tada} All tests passed! {tada}\")"
   ],
   "outputs": [
    {
     "output_type": "stream",
     "name": "stdout",
     "text": [
      "🎉 All tests passed! 🎉\n"
     ]
    }
   ],
   "metadata": {}
  },
  {
   "cell_type": "markdown",
   "source": [
    "## Puzzle 4: Exploring Your Own Interests\n",
    "\n",
    "At this point of the lab, we have investigated a lot of questions, however, these have been questions that we have told you to answer. As a data scientist, it is important to be able to use the data science skills that you learn in the classroom to answer real questions that you have.  \n",
    "\n",
    "### Puzzle 4.1: ❓ Individual Reflection ❓\n",
    "\n",
    "Think about two questions that you have that have not been answered. Record them below.  Then, answer at least one of these questions using Python and either dataset.\n",
    "\n",
    "Double click the cells below to type in your questions."
   ],
   "metadata": {}
  },
  {
   "cell_type": "markdown",
   "source": [
    "***Unanswered Question 1:***\n",
    "\n",
    "Average Male CS and Stat salary "
   ],
   "metadata": {}
  },
  {
   "cell_type": "markdown",
   "source": [
    "***Unanswered Question 2:***\n",
    "\n",
    "Average Female CS and Stat salary "
   ],
   "metadata": {}
  },
  {
   "cell_type": "code",
   "execution_count": 94,
   "source": [
    "# answer a question that you have using Python in this cell- it can be something simple!\n",
    "df[df[\"Gender\"]==\"M\"][\"Salary\"].mean()"
   ],
   "outputs": [
    {
     "output_type": "execute_result",
     "data": {
      "text/plain": [
       "129411.55381443296"
      ]
     },
     "metadata": {},
     "execution_count": 94
    }
   ],
   "metadata": {}
  },
  {
   "cell_type": "markdown",
   "source": [
    "### Puzzle 4.2: ❓ Individual Reflection ❓\n",
    "\n",
    "Describe which question you answered and how you answered it. "
   ],
   "metadata": {}
  },
  {
   "cell_type": "markdown",
   "source": [
    "I answered question 1 and I created a dataframe of the Males Salaries and then took the mean"
   ],
   "metadata": {}
  },
  {
   "cell_type": "markdown",
   "source": [
    "### ❓ Group Discussion ❓\n",
    "\n",
    "Share your question and results with your group. "
   ],
   "metadata": {}
  },
  {
   "cell_type": "markdown",
   "source": [
    "## Puzzle 5: Final Reflection\n",
    "\n",
    "As a data scientist, it is important to think about the implications of collecting and not collecting certain data.  Data that is not collected in an analysis is called *counter data*.  \n",
    "\n",
    "Many times, data is collected to make a profit.  Data has even been referred to as “the new oil” because it is oftentimes seen as an uncapped natural resource and if you can figure out how to capture and refine it, it can lead to a massive profit.\n",
    "\n",
    "It’s also important to think about who data analysis can benefit and who it can harm.  It’s also important to think about why the data is collected and why counter data is not collected.  \n",
    "\n",
    "\n",
    "## ❓ Individual Reflection ❓\n",
    "Write a paragraph style response (at least 5 sentences) summarizing what you learned from working with the salary data. We have listed a few questions below to give you some ideas on what to write about if you need them.\n",
    "\n",
    "- What is some counter data that you’d like to collect in regard to salaries? Why do you think it’s important to collect this data?  \n",
    "- Who benefits from collecting this salary data?  Who does this data harm?\n",
    "- Why do you think this salary data is public? Can you think of any reasons that this could be problematic? \n",
    "- What did you learn from looking at the salaries stratified by gender?\n"
   ],
   "metadata": {}
  },
  {
   "cell_type": "markdown",
   "source": [
    "***Double click this cell and type your answer here.***\n",
    "\n",
    "In this lab I learned how to depict salary data using histograms and boxplots. I would like to learn more about the amount of proffesors of each gender. Using this data could help future employees negotiatiate their salaries to recieve a fair compensation. This salary is public to be transparent about what an average univeristy employee makes at UIUC. This could be promblematic for univeristies that pay less as their professors would leave to a univeristy that pays more."
   ],
   "metadata": {}
  },
  {
   "cell_type": "markdown",
   "source": [
    "## POST-LAB SURVEY\n",
    "\n",
    "Remember, we are doing a pre and post lab survey this week! Please complete this survey AFTER you finish the lab to get +2 additional extra credit points! This will also help us make the labs better and should take about 10 minutes :) Click the link below to access the survey.\n",
    "\n",
    "[Click Here for the Post Lab Survey](https://docs.google.com/forms/d/1wdCVlHJ27JTQxoIXQPN1gle7WpgRcnDd9bXyvkxeKO0/edit?usp=sharing)\n",
    "\n",
    "## Submit Your Work\n",
    "\n",
    "You're almost done -- congratulations! 🎉\n",
    "\n",
    "You need to do two more things:\n",
    "\n",
    "1.  Save your work. To do this, go to File -> Save All\n",
    "\n",
    "2.  After you have saved, exit this notebook and follow the webpage instructions to commit this lab to your Git repository!"
   ],
   "metadata": {}
  }
 ],
 "metadata": {
  "kernelspec": {
   "name": "python3",
   "display_name": "Python 3.8.5 64-bit ('base': conda)"
  },
  "language_info": {
   "codemirror_mode": {
    "name": "ipython",
    "version": 3
   },
   "file_extension": ".py",
   "mimetype": "text/x-python",
   "name": "python",
   "nbconvert_exporter": "python",
   "pygments_lexer": "ipython3",
   "version": "3.8.5"
  },
  "interpreter": {
   "hash": "c0b4b332f31a7ee7ec5b55d27ae6e5e906d5b533d204d9e51c2cddbfabeeb3e3"
  }
 },
 "nbformat": 4,
 "nbformat_minor": 4
}