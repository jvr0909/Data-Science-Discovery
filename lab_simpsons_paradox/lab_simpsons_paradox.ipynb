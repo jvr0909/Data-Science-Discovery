{
 "cells": [
  {
   "cell_type": "markdown",
   "source": [
    "# Lab: Simpson's Paradox\n",
    "\n",
    "Hi Data Scientists,\n",
    "\n",
    "Welcome to the fourth lab!  In this lab, you will look for confounding variables and find Simpson's paradox in several datasets using Python. Along the way, you'll also get more practice writing conditionals for pandas dataframes. As you go through the lab:\n",
    "\n",
    "- Make sure to run every cell with Python code and observe the output\n",
    "- Complete all puzzles and submit this lab before Monday evening at 11:59 PM\n",
    "\n",
    "## Table of Contents <a id='toc'></a>\n",
    "\n",
    "**Note: the table of content seems to be broken after VS code Update 1.64.1. Use the Outline view (View > Command Palette > Type \"outline\") instead for navigation.**\n",
    "\n",
    "- [Group](#p0)\n",
    "- [Puzzle 1.1](#p11)\n",
    "- [Puzzle 1.2](#p12)\n",
    "- [Puzzle 1.3](#p13)\n",
    "- [Puzzle 2.1](#p21)\n",
    "- [Puzzle 2.2](#p22)\n",
    "- [Puzzle 3.1](#p31)\n",
    "- [Puzzle 3.2](#p32)\n",
    "- [Puzzle 4.1](#p41)\n",
    "- [Puzzle 4.2](#p42)\n",
    "- [Puzzle 4.3](#p43)\n",
    "- [Puzzle 4.4](#p44)\n",
    "\n",
    "### Group <a id='p0'></a> ([back to toc](#toc))\n",
    "\n",
    "Edit the next Python cell to add information about who you're working with in your lab section:"
   ],
   "metadata": {}
  },
  {
   "cell_type": "code",
   "execution_count": 4,
   "source": [
    "# First, meet your CAs and TA if you haven't already!\n",
    "# ...first name is enough, we'll know who they are! :)\n",
    "ta_name = \"Heman\"\n",
    "ca1_name = \"Justin\"\n",
    "ca2_name = \"Jessica\"\n",
    "ca3_name = \"\"\n",
    "\n",
    "# Also, make sure to meet your team for this lab! Find out their name, what major they're in,\n",
    "# and learn something new about them that you never knew before!\n",
    "partner1_name = \"Azeem\"\n",
    "partner1_netid = \"ANewaz2\"\n",
    "partner1_major = \"Information Systems\"\n",
    "\n",
    "partner2_name = \"\"\n",
    "partner2_netid = \"\"\n",
    "partner2_major = \"\"\n",
    "\n",
    "partner3_name = \"\"\n",
    "partner3_netid = \"\"\n",
    "partner3_major = \"\""
   ],
   "outputs": [],
   "metadata": {}
  },
  {
   "cell_type": "markdown",
   "source": [
    "## Getting Help\n",
    "Remember, there are a lot of ways to get help if you find yourself stuck:\n",
    "\n",
    "1. In your lab section, you can ask your TA or CAs.\n",
    "2. Post your question in the course Discord.\n",
    "3. Office Hours:\n",
    "  - In-person office hours **every Monday, Wednesday, Thursday, and Friday** from 4:00 PM - 6:00 PM in Siebel Center for Design (SCD) Rm. 0060\n",
    "  - Zoom office hours **every Tuesday** from 5:00 PM - 6:30 PM (see the course website for links).\n",
    "\n",
    "  ## Puzzle 1: The Setup\n",
    "\n",
    "Follow the usual steps for setting up labs. You will need to:\n",
    "\n",
    "1. Make sure the dataset(s) you need are in your **working directory**.  \n",
    "*We will need `DiscoveryPizza.csv` and `PythonPizza.csv` for the first part of the lab. We will need `hello.csv` for the second part of the lab!*\n",
    "2. Import any libraries you will need and give them an abbreviation so they are easy to refer to.   \n",
    "*We will just need `pandas`, typically abbreviated as `pd`.*\n",
    "3. Read your datasets into dataframes. The dataframes should have useful names so you can easily identify which one is which.   \n",
    "*We will use `df_python`, `df_discovery`, and `df_hello`.*\n",
    "\n",
    "### Puzzle 1.1: Setup For The Lab <a id='p11'></a> ([back to toc](#toc))\n",
    "Follow the steps above to get set up for today's lab."
   ],
   "metadata": {}
  },
  {
   "cell_type": "code",
   "execution_count": 2,
   "source": [
    "# Import the pandas library as pd\n",
    "import pandas as pd\n",
    "\n",
    "# Read our two pizza datasets into dataframes\n",
    "df_python = pd.read_csv(\"PythonPizza.csv\")\n",
    "df_discovery = pd.read_csv(\"DiscoveryPizza.csv\")"
   ],
   "outputs": [],
   "metadata": {}
  },
  {
   "cell_type": "code",
   "execution_count": 3,
   "source": [
    "## == TEST CASES for Puzzle 1.1 ==\n",
    "# - This read-only cell contains test cases for your previous cell.\n",
    "# - If this cell runs without any errors, you PASSED all test cases!\n",
    "# - If this cell results in any errors, check your previous cell, make changes, and RE-RUN your code and then this cell.\n",
    "\n",
    "assert(len(df_discovery) == 40), \"This is not the Discovery Pizza dataset you're looking for\"\n",
    "assert(len(df_python) == 46), \"This is not the Python Pizza dataset you're looking for\"\n",
    "## == SUCCESS MESSAGE ==\n",
    "# You will only see this message (with the emoji showing) if you passed all test cases:\n",
    "tada = \"\\N{PARTY POPPER}\"\n",
    "print(f\"{tada} All tests passed! {tada}\")"
   ],
   "outputs": [
    {
     "output_type": "stream",
     "name": "stdout",
     "text": [
      "🎉 All tests passed! 🎉\n"
     ]
    }
   ],
   "metadata": {}
  },
  {
   "cell_type": "markdown",
   "source": [
    "### The Scenario\n",
    "\n",
    "You and your friends are visiting a city and want to find the best pizza place to eat nearby. Neither of you know much about the food scene, but your friend (and maybe you!) are particular about making the best of your time and trying the best food possible. What to do but turn to the answer to all life's questions: *online reviews*.\n",
    "\n",
    "You discover that there are only two pizza places in town and you have to decide which one is better! The two pizza places are called \"Discovery Pizza\" and \"Python Pizza\" (LOL!). The dataset `DiscoveryPizza.csv` contains data for all people who reviewed Discovery Pizza, specifically showing whether or not they recommend it and their gender. The dataset `PythonPizza.csv` contains the same information for Python Pizza.\n",
    "\n",
    "### Cleaning the Data\n",
    "\n",
    "Sometimes, the data you get for analysis can be a bit messy. For example, run the code below to see how gender has been listed in the `DiscoveryPizza.csv` dataset. From `pandas`, we can first use `concat` to temporarily combine our two datasets together, then  use the `unique()` function to see all the different ways people wrote their gender.\n",
    "\n",
    "***Quick Tip***: Remember, if you want to figure out something to do with pandas, the pandas cheat sheet can help!"
   ],
   "metadata": {}
  },
  {
   "cell_type": "code",
   "execution_count": 5,
   "source": [
    "print(pd.unique(\n",
    "    pd.concat([df_discovery[\"Gender\"],\n",
    "               df_python[\"Gender\"]])))"
   ],
   "outputs": [
    {
     "output_type": "stream",
     "name": "stdout",
     "text": [
      "['Male' 'Man' 'male' 'Men' 'Female' 'Woman' 'female' 'woman' 'girl' 'man']\n"
     ]
    }
   ],
   "metadata": {}
  },
  {
   "cell_type": "markdown",
   "source": [
    "As we can see, the reviewers all identified as either male or female, but wrote their gender in different ways. We will need to change all the different ways of identifying as male or female into two gender categories: `Male` ane `Female`. \n",
    "\n",
    "### The List Type\n",
    "\n",
    "So far in Python, we have encountered **string**, **number**, and **DataFrame** types. In order to list our multiple ways of identifying as male or female, we can use a fourth data type: **Lists**. These are native to Python, so we do not need to import a library to use them.  \n",
    "\n",
    "### Puzzle 1.2: Lists of words for male and female <a id='p12'></a> ([back to toc](#toc))\n",
    "\n",
    "The list of words used for male has been put into a Python **List** below. Try the same with the words for female using the list printed in the previous code cell."
   ],
   "metadata": {}
  },
  {
   "cell_type": "code",
   "execution_count": 11,
   "source": [
    "male = [\"Male\", \"Man\", \"male\", \"Men\", \"man\"]\n",
    "female = ['Female', 'Woman', 'female', 'woman', 'girl']"
   ],
   "outputs": [],
   "metadata": {}
  },
  {
   "cell_type": "code",
   "execution_count": 12,
   "source": [
    "## == TEST CASES for Puzzle 1.2 ==\n",
    "# - This read-only cell contains test cases for your previous cell.\n",
    "# - If this cell runs without any errors, you PASSED all test cases!\n",
    "# - If this cell results in any errors, check your previous cell, make changes, and RE-RUN your code and then this cell.\n",
    "\n",
    "assert(set(female) == {'Female', 'Woman', 'female', 'woman', 'girl'}), \"The list does not match the list of all words used for female\"\n",
    "## == SUCCESS MESSAGE ==\n",
    "# You will only see this message (with the emoji showing) if you passed all test cases:\n",
    "tada = \"\\N{PARTY POPPER}\"\n",
    "print(f\"{tada} All tests passed! {tada}\")"
   ],
   "outputs": [
    {
     "output_type": "stream",
     "name": "stdout",
     "text": [
      "🎉 All tests passed! 🎉\n"
     ]
    }
   ],
   "metadata": {}
  },
  {
   "cell_type": "markdown",
   "source": [
    "### Conditionals with Multiple Acceptable Values\n",
    "\n",
    "Now that we have our lists of words, we can use them in conditionals for our dataframes where multiple values are acceptable. We can use the `isin()` function and our list `male` to select all the Discovery Pizza data for males regardless of how the gender is written."
   ],
   "metadata": {}
  },
  {
   "cell_type": "code",
   "execution_count": 13,
   "source": [
    "df_discovery[df_discovery[\"Gender\"].isin(male)]"
   ],
   "outputs": [
    {
     "output_type": "execute_result",
     "data": {
      "text/plain": [
       "   Gender Recommend\n",
       "0    Male       Yes\n",
       "1    Male       Yes\n",
       "2    Male       Yes\n",
       "3    Male       Yes\n",
       "4    Male       Yes\n",
       "5    Male        No\n",
       "6     Man        No\n",
       "7    Male        No\n",
       "8    Male        No\n",
       "9    male        No\n",
       "10   Male        No\n",
       "11   Male        No\n",
       "12    Men        No\n",
       "13   Male        No\n",
       "14   Male        No"
      ],
      "text/html": [
       "<div>\n",
       "<style scoped>\n",
       "    .dataframe tbody tr th:only-of-type {\n",
       "        vertical-align: middle;\n",
       "    }\n",
       "\n",
       "    .dataframe tbody tr th {\n",
       "        vertical-align: top;\n",
       "    }\n",
       "\n",
       "    .dataframe thead th {\n",
       "        text-align: right;\n",
       "    }\n",
       "</style>\n",
       "<table border=\"1\" class=\"dataframe\">\n",
       "  <thead>\n",
       "    <tr style=\"text-align: right;\">\n",
       "      <th></th>\n",
       "      <th>Gender</th>\n",
       "      <th>Recommend</th>\n",
       "    </tr>\n",
       "  </thead>\n",
       "  <tbody>\n",
       "    <tr>\n",
       "      <th>0</th>\n",
       "      <td>Male</td>\n",
       "      <td>Yes</td>\n",
       "    </tr>\n",
       "    <tr>\n",
       "      <th>1</th>\n",
       "      <td>Male</td>\n",
       "      <td>Yes</td>\n",
       "    </tr>\n",
       "    <tr>\n",
       "      <th>2</th>\n",
       "      <td>Male</td>\n",
       "      <td>Yes</td>\n",
       "    </tr>\n",
       "    <tr>\n",
       "      <th>3</th>\n",
       "      <td>Male</td>\n",
       "      <td>Yes</td>\n",
       "    </tr>\n",
       "    <tr>\n",
       "      <th>4</th>\n",
       "      <td>Male</td>\n",
       "      <td>Yes</td>\n",
       "    </tr>\n",
       "    <tr>\n",
       "      <th>5</th>\n",
       "      <td>Male</td>\n",
       "      <td>No</td>\n",
       "    </tr>\n",
       "    <tr>\n",
       "      <th>6</th>\n",
       "      <td>Man</td>\n",
       "      <td>No</td>\n",
       "    </tr>\n",
       "    <tr>\n",
       "      <th>7</th>\n",
       "      <td>Male</td>\n",
       "      <td>No</td>\n",
       "    </tr>\n",
       "    <tr>\n",
       "      <th>8</th>\n",
       "      <td>Male</td>\n",
       "      <td>No</td>\n",
       "    </tr>\n",
       "    <tr>\n",
       "      <th>9</th>\n",
       "      <td>male</td>\n",
       "      <td>No</td>\n",
       "    </tr>\n",
       "    <tr>\n",
       "      <th>10</th>\n",
       "      <td>Male</td>\n",
       "      <td>No</td>\n",
       "    </tr>\n",
       "    <tr>\n",
       "      <th>11</th>\n",
       "      <td>Male</td>\n",
       "      <td>No</td>\n",
       "    </tr>\n",
       "    <tr>\n",
       "      <th>12</th>\n",
       "      <td>Men</td>\n",
       "      <td>No</td>\n",
       "    </tr>\n",
       "    <tr>\n",
       "      <th>13</th>\n",
       "      <td>Male</td>\n",
       "      <td>No</td>\n",
       "    </tr>\n",
       "    <tr>\n",
       "      <th>14</th>\n",
       "      <td>Male</td>\n",
       "      <td>No</td>\n",
       "    </tr>\n",
       "  </tbody>\n",
       "</table>\n",
       "</div>"
      ]
     },
     "metadata": {},
     "execution_count": 13
    }
   ],
   "metadata": {}
  },
  {
   "cell_type": "markdown",
   "source": [
    "### Puzzle 1.3  <a id='p13'></a> ([back to toc](#toc))\n",
    "\n",
    "Now you try it. Show all the Python Pizza recommendation data from females."
   ],
   "metadata": {}
  },
  {
   "cell_type": "code",
   "execution_count": 14,
   "source": [
    "df_discovery[df_discovery[\"Gender\"].isin(female)]"
   ],
   "outputs": [
    {
     "output_type": "execute_result",
     "data": {
      "text/plain": [
       "    Gender Recommend\n",
       "15  Female       Yes\n",
       "16  Female       Yes\n",
       "17  Female       Yes\n",
       "18  Female       Yes\n",
       "19   Woman       Yes\n",
       "20  Female       Yes\n",
       "21  female       Yes\n",
       "22  Female       Yes\n",
       "23  Female       Yes\n",
       "24  Female       Yes\n",
       "25  female       Yes\n",
       "26  Female       Yes\n",
       "27  Female       Yes\n",
       "28   woman       Yes\n",
       "29  Female       Yes\n",
       "30  Female       Yes\n",
       "31  Female       Yes\n",
       "32  Female       Yes\n",
       "33  Female       Yes\n",
       "34  Female       Yes\n",
       "35  Female        No\n",
       "36  Female        No\n",
       "37    girl        No\n",
       "38  Female        No\n",
       "39  Female        No"
      ],
      "text/html": [
       "<div>\n",
       "<style scoped>\n",
       "    .dataframe tbody tr th:only-of-type {\n",
       "        vertical-align: middle;\n",
       "    }\n",
       "\n",
       "    .dataframe tbody tr th {\n",
       "        vertical-align: top;\n",
       "    }\n",
       "\n",
       "    .dataframe thead th {\n",
       "        text-align: right;\n",
       "    }\n",
       "</style>\n",
       "<table border=\"1\" class=\"dataframe\">\n",
       "  <thead>\n",
       "    <tr style=\"text-align: right;\">\n",
       "      <th></th>\n",
       "      <th>Gender</th>\n",
       "      <th>Recommend</th>\n",
       "    </tr>\n",
       "  </thead>\n",
       "  <tbody>\n",
       "    <tr>\n",
       "      <th>15</th>\n",
       "      <td>Female</td>\n",
       "      <td>Yes</td>\n",
       "    </tr>\n",
       "    <tr>\n",
       "      <th>16</th>\n",
       "      <td>Female</td>\n",
       "      <td>Yes</td>\n",
       "    </tr>\n",
       "    <tr>\n",
       "      <th>17</th>\n",
       "      <td>Female</td>\n",
       "      <td>Yes</td>\n",
       "    </tr>\n",
       "    <tr>\n",
       "      <th>18</th>\n",
       "      <td>Female</td>\n",
       "      <td>Yes</td>\n",
       "    </tr>\n",
       "    <tr>\n",
       "      <th>19</th>\n",
       "      <td>Woman</td>\n",
       "      <td>Yes</td>\n",
       "    </tr>\n",
       "    <tr>\n",
       "      <th>20</th>\n",
       "      <td>Female</td>\n",
       "      <td>Yes</td>\n",
       "    </tr>\n",
       "    <tr>\n",
       "      <th>21</th>\n",
       "      <td>female</td>\n",
       "      <td>Yes</td>\n",
       "    </tr>\n",
       "    <tr>\n",
       "      <th>22</th>\n",
       "      <td>Female</td>\n",
       "      <td>Yes</td>\n",
       "    </tr>\n",
       "    <tr>\n",
       "      <th>23</th>\n",
       "      <td>Female</td>\n",
       "      <td>Yes</td>\n",
       "    </tr>\n",
       "    <tr>\n",
       "      <th>24</th>\n",
       "      <td>Female</td>\n",
       "      <td>Yes</td>\n",
       "    </tr>\n",
       "    <tr>\n",
       "      <th>25</th>\n",
       "      <td>female</td>\n",
       "      <td>Yes</td>\n",
       "    </tr>\n",
       "    <tr>\n",
       "      <th>26</th>\n",
       "      <td>Female</td>\n",
       "      <td>Yes</td>\n",
       "    </tr>\n",
       "    <tr>\n",
       "      <th>27</th>\n",
       "      <td>Female</td>\n",
       "      <td>Yes</td>\n",
       "    </tr>\n",
       "    <tr>\n",
       "      <th>28</th>\n",
       "      <td>woman</td>\n",
       "      <td>Yes</td>\n",
       "    </tr>\n",
       "    <tr>\n",
       "      <th>29</th>\n",
       "      <td>Female</td>\n",
       "      <td>Yes</td>\n",
       "    </tr>\n",
       "    <tr>\n",
       "      <th>30</th>\n",
       "      <td>Female</td>\n",
       "      <td>Yes</td>\n",
       "    </tr>\n",
       "    <tr>\n",
       "      <th>31</th>\n",
       "      <td>Female</td>\n",
       "      <td>Yes</td>\n",
       "    </tr>\n",
       "    <tr>\n",
       "      <th>32</th>\n",
       "      <td>Female</td>\n",
       "      <td>Yes</td>\n",
       "    </tr>\n",
       "    <tr>\n",
       "      <th>33</th>\n",
       "      <td>Female</td>\n",
       "      <td>Yes</td>\n",
       "    </tr>\n",
       "    <tr>\n",
       "      <th>34</th>\n",
       "      <td>Female</td>\n",
       "      <td>Yes</td>\n",
       "    </tr>\n",
       "    <tr>\n",
       "      <th>35</th>\n",
       "      <td>Female</td>\n",
       "      <td>No</td>\n",
       "    </tr>\n",
       "    <tr>\n",
       "      <th>36</th>\n",
       "      <td>Female</td>\n",
       "      <td>No</td>\n",
       "    </tr>\n",
       "    <tr>\n",
       "      <th>37</th>\n",
       "      <td>girl</td>\n",
       "      <td>No</td>\n",
       "    </tr>\n",
       "    <tr>\n",
       "      <th>38</th>\n",
       "      <td>Female</td>\n",
       "      <td>No</td>\n",
       "    </tr>\n",
       "    <tr>\n",
       "      <th>39</th>\n",
       "      <td>Female</td>\n",
       "      <td>No</td>\n",
       "    </tr>\n",
       "  </tbody>\n",
       "</table>\n",
       "</div>"
      ]
     },
     "metadata": {},
     "execution_count": 14
    }
   ],
   "metadata": {}
  },
  {
   "cell_type": "markdown",
   "source": [
    "## Puzzle 2: Initial Analysis\n",
    "\n",
    "Now that we've made sense of our slightly messy data, we can use it to figure out where to go for dinner. \"That's easy,\" your friend says, \"We'll just see which restaurant has a greater percent of recommendations.\"\n",
    "\n",
    "### Puzzle 2.1: Comparing Overall Percentages <a id='p21'></a> ([back to toc](#toc))\n",
    "\n",
    "Try out your friend's suggestion. Calculate the percent of people who recommend Discovery Pizza and the percent of people who recommend Python Pizza. Your answer should be a decimal between 0 and 1. Remember, if you multiply the numbers by 100, you would have the rating recommendation percentages.\n",
    "\n",
    "**Hint:** There are many ways to do this. One way is to use `len(df)` to give you the length of a dataframe. You can also find the length of a dataframe with certain conditionals. "
   ],
   "metadata": {}
  },
  {
   "cell_type": "code",
   "execution_count": 16,
   "source": [
    "discovery_recpercent = sum(df_discovery[\"Recommend\"] == \"Yes\") / len(df_discovery)\n",
    "python_recpercent = sum(df_python[\"Recommend\"] == \"Yes\")/len(df_python)\n",
    "print(\"discovery_recpercent =\", discovery_recpercent,\n",
    "      \"\\npython_recpercent =\", python_recpercent)"
   ],
   "outputs": [
    {
     "output_type": "stream",
     "name": "stdout",
     "text": [
      "discovery_recpercent = 0.625 \n",
      "python_recpercent = 0.5869565217391305\n"
     ]
    }
   ],
   "metadata": {}
  },
  {
   "cell_type": "code",
   "execution_count": 17,
   "source": [
    "## == TEST CASES for Puzzle 2.1 ==\n",
    "# - This read-only cell contains test cases for your previous cell.\n",
    "# - If this cell runs without any errors, you PASSED all test cases!\n",
    "# - If this cell results in any errors, check your previous cell, make changes, and RE-RUN your code and then this cell.\n",
    "import math\n",
    "assert(math.isclose(discovery_recpercent, 0.625)), \"The overall percentage of people who recommended Discovery Pizza does not appear to have been correctly calculated\"\n",
    "assert(math.isclose(python_recpercent, 27/46)), \"The overall percentage of people who recommended Python Pizza does not appear to have been correctly calculated\"\n",
    "## == SUCCESS MESSAGE ==\n",
    "# You will only see this message (with the emoji showing) if you passed all test cases:\n",
    "tada = \"\\N{PARTY POPPER}\"\n",
    "print(f\"{tada} All tests passed! {tada}\")"
   ],
   "outputs": [
    {
     "output_type": "stream",
     "name": "stdout",
     "text": [
      "🎉 All tests passed! 🎉\n"
     ]
    }
   ],
   "metadata": {
    "nbgrader": {
     "grade": true,
     "grade_id": "cell-e9f12398cfd30bd5",
     "locked": true,
     "points": 1,
     "schema_version": 3,
     "solution": false
    }
   }
  },
  {
   "cell_type": "markdown",
   "source": [
    "### Puzzle 2.2: ❓Individual Reflection❓ <a id='p22'></a> ([back to toc](#toc))\n",
    "\n",
    "Given what you've learned about experimental design, what are some reasons (specific to this dataset) you may not trust this result when making your decision? If you would trust it, explain why."
   ],
   "metadata": {}
  },
  {
   "cell_type": "markdown",
   "source": [
    "I would not trust it because it is an observational study and could lead to simpson's paradox"
   ],
   "metadata": {}
  },
  {
   "cell_type": "markdown",
   "source": [
    "## Puzzle 3:  Observational Studies and Stratification\n",
    "\n",
    "Since this is an observational study, we have no guarantee that the two groups we are comparing are similar. But since we have information on the reviewers' genders, we can at least control for gender differences by comparing across people of the same gender.\n",
    "\n",
    "### Puzzle 3.1: Calculating separate percentages <a id='p31'></a> ([back to toc](#toc))\n",
    "\n",
    "Use conditionals to calculate the following percentages. There are multiple ways to do this, however, you can choose the way that makes the most sense to you. Your answer should be a decimal between 0 and 1. Remember, if you multiply the numbers by 100, you would have the rating recommendation percentages. Make sure you include all people in the dataset in your calculations.\n",
    "\n",
    "**Hint:** Think about all of the different ways to write gender that we looked at previously."
   ],
   "metadata": {}
  },
  {
   "cell_type": "code",
   "execution_count": 31,
   "source": [
    "# Percentage of male who recommend Discovery Pizza\n",
    "discovery_mpercent = sum((df_discovery[\"Recommend\"]== \"Yes\")&(df_discovery[\"Gender\"].isin(male))) / sum(df_discovery[\"Gender\"].isin(male))\n",
    "discovery_mpercent"
   ],
   "outputs": [
    {
     "output_type": "execute_result",
     "data": {
      "text/plain": [
       "0.3333333333333333"
      ]
     },
     "metadata": {},
     "execution_count": 31
    }
   ],
   "metadata": {
    "nbgrader": {
     "grade": false,
     "grade_id": "cell-e8a1c3c40402d8e6",
     "locked": false,
     "schema_version": 3,
     "solution": true
    }
   }
  },
  {
   "cell_type": "code",
   "execution_count": 32,
   "source": [
    "# Percentage of male who recommend Python Pizza\n",
    "python_mpercent = sum((df_python[\"Recommend\"]== \"Yes\")&(df_python[\"Gender\"].isin(male))) / sum(df_python[\"Gender\"].isin(male))\n",
    "python_mpercent"
   ],
   "outputs": [
    {
     "output_type": "execute_result",
     "data": {
      "text/plain": [
       "0.5"
      ]
     },
     "metadata": {},
     "execution_count": 32
    }
   ],
   "metadata": {}
  },
  {
   "cell_type": "code",
   "execution_count": 34,
   "source": [
    "# Percentage of female who recommend Discovery Pizza\n",
    "discovery_fpercent = sum((df_discovery[\"Recommend\"]== \"Yes\")&(df_discovery[\"Gender\"].isin(female))) / sum(df_discovery[\"Gender\"].isin(female))\n",
    "discovery_fpercent"
   ],
   "outputs": [
    {
     "output_type": "execute_result",
     "data": {
      "text/plain": [
       "0.8"
      ]
     },
     "metadata": {},
     "execution_count": 34
    }
   ],
   "metadata": {}
  },
  {
   "cell_type": "code",
   "execution_count": 35,
   "source": [
    "# Percentage of female who recommend Python Pizza\n",
    "python_fpercent = sum((df_python[\"Recommend\"]== \"Yes\")&(df_python[\"Gender\"].isin(female))) / sum(df_python[\"Gender\"].isin(female))\n",
    "python_fpercent"
   ],
   "outputs": [
    {
     "output_type": "execute_result",
     "data": {
      "text/plain": [
       "0.9"
      ]
     },
     "metadata": {},
     "execution_count": 35
    }
   ],
   "metadata": {}
  },
  {
   "cell_type": "code",
   "execution_count": 36,
   "source": [
    "print(\"discovery_mpercent =\", discovery_mpercent,\n",
    "      \"\\npython_mpercent =\", python_mpercent,\n",
    "      \"\\ndiscovery_fpercent =\", discovery_fpercent,\n",
    "      \"\\npython_fpercent =\", python_fpercent)"
   ],
   "outputs": [
    {
     "output_type": "stream",
     "name": "stdout",
     "text": [
      "discovery_mpercent = 0.3333333333333333 \n",
      "python_mpercent = 0.5 \n",
      "discovery_fpercent = 0.8 \n",
      "python_fpercent = 0.9\n"
     ]
    }
   ],
   "metadata": {}
  },
  {
   "cell_type": "code",
   "execution_count": 37,
   "source": [
    "## == TEST CASES for Puzzle 3.1 ==\n",
    "# - This read-only cell contains test cases for your previous cell.\n",
    "# - If this cell runs without any errors, you PASSED all test cases!\n",
    "# - If this cell results in any errors, check your previous cell, make changes, and RE-RUN your code and then this cell.\n",
    "import math\n",
    "assert(math.isclose(discovery_mpercent, 1/3)), \"The percentage of men who recommended Discovery Pizza does not appear to have been correctly calculated\"\n",
    "assert(math.isclose(python_mpercent, 1/2)), \"The percentage of men who recommended Python Pizza does not appear to have been correctly calculated\"\n",
    "assert(math.isclose(discovery_fpercent, 0.8)), \"The percentage of women who recommended Discovery Pizza does not appear to have been correctly calculated\"\n",
    "assert(math.isclose(python_fpercent, 0.9)), \"The percentage of women who recommended Python Pizza does not appear to have correctly calculated\"\n",
    "\n",
    "## == SUCCESS MESSAGE ==\n",
    "# You will only see this message (with the emoji showing) if you passed all test cases:\n",
    "tada = \"\\N{PARTY POPPER}\"\n",
    "print(f\"{tada} All tests passed! {tada}\")"
   ],
   "outputs": [
    {
     "output_type": "stream",
     "name": "stdout",
     "text": [
      "🎉 All tests passed! 🎉\n"
     ]
    }
   ],
   "metadata": {
    "nbgrader": {
     "grade": true,
     "grade_id": "cell-fbdef0d3e0843326",
     "locked": true,
     "points": 1,
     "schema_version": 3,
     "solution": false
    }
   }
  },
  {
   "cell_type": "markdown",
   "source": [
    "### Observe the Results\n",
    "\n",
    "Run the following cell to format all of your answers as a DataFrame:"
   ],
   "metadata": {}
  },
  {
   "cell_type": "code",
   "execution_count": 38,
   "source": [
    "pd.DataFrame( [\n",
    "    {'Female': discovery_fpercent, 'Male': discovery_mpercent, 'Overall': discovery_recpercent },\n",
    "    {'Female': python_fpercent, 'Male': python_mpercent, 'Overall': python_recpercent },\n",
    "], index=['Discovery Pizza', 'Python Pizza'] )"
   ],
   "outputs": [
    {
     "output_type": "execute_result",
     "data": {
      "text/plain": [
       "                 Female      Male   Overall\n",
       "Discovery Pizza     0.8  0.333333  0.625000\n",
       "Python Pizza        0.9  0.500000  0.586957"
      ],
      "text/html": [
       "<div>\n",
       "<style scoped>\n",
       "    .dataframe tbody tr th:only-of-type {\n",
       "        vertical-align: middle;\n",
       "    }\n",
       "\n",
       "    .dataframe tbody tr th {\n",
       "        vertical-align: top;\n",
       "    }\n",
       "\n",
       "    .dataframe thead th {\n",
       "        text-align: right;\n",
       "    }\n",
       "</style>\n",
       "<table border=\"1\" class=\"dataframe\">\n",
       "  <thead>\n",
       "    <tr style=\"text-align: right;\">\n",
       "      <th></th>\n",
       "      <th>Female</th>\n",
       "      <th>Male</th>\n",
       "      <th>Overall</th>\n",
       "    </tr>\n",
       "  </thead>\n",
       "  <tbody>\n",
       "    <tr>\n",
       "      <th>Discovery Pizza</th>\n",
       "      <td>0.8</td>\n",
       "      <td>0.333333</td>\n",
       "      <td>0.625000</td>\n",
       "    </tr>\n",
       "    <tr>\n",
       "      <th>Python Pizza</th>\n",
       "      <td>0.9</td>\n",
       "      <td>0.500000</td>\n",
       "      <td>0.586957</td>\n",
       "    </tr>\n",
       "  </tbody>\n",
       "</table>\n",
       "</div>"
      ]
     },
     "metadata": {},
     "execution_count": 38
    }
   ],
   "metadata": {}
  },
  {
   "cell_type": "markdown",
   "source": [
    "You should see the pattern reverse when you look at the overall recommendation percentage vs. the percentage stratified by gender. This is called **Simpson's Paradox**: a pattern within a population can appear, disappear, or reverse when you look at subpopulations.\n",
    "\n",
    "### Puzzle 3.2: ❓Individual Reflection❓ <a id='p32'></a> ([back to toc](#toc))\n",
    "\n",
    "Should you enjoy your dinner at Discovery Pizza OR Python Pizza? In other words, which comparison of the reviews should you trust and Why?"
   ],
   "metadata": {}
  },
  {
   "cell_type": "markdown",
   "source": [
    "I will enjoy my dinner at python pizza because the individual percentages are higher for python pizza. I should not trust the overall comparison because of simpson's paradox"
   ],
   "metadata": {}
  },
  {
   "cell_type": "markdown",
   "source": [
    "## Puzzle 4: Shoe Size vs Shoes Owned\n",
    "\n",
    "Let's look at some characteristics of another dataset. You recently had the opportunity to complete a \"Hello Survey.\"  We compiled the results into a dataset and we are going to explore the following two questions from that survey: \n",
    "\n",
    "- What is your shoe size? which is stored in a variable called \"Shoe Size.\"\n",
    "- How many pairs of shoes do you have? which is stored in a variable called \"Shoe Number.\"\n",
    "\n",
    "### Puzzle 4.1: Load the Dataset <a id='p41'></a> ([back to toc](#toc))\n",
    "\n",
    "Read the hello dataset into a DataFrame. It is in the lab_simpsons_paradox folder and is called `hello.csv`."
   ],
   "metadata": {}
  },
  {
   "cell_type": "code",
   "execution_count": 44,
   "source": [
    "df_hello = pd.read_csv(\"hello.csv\")\n",
    "df_hello"
   ],
   "outputs": [
    {
     "output_type": "execute_result",
     "data": {
      "text/plain": [
       "           Name                         Major       Year    Phone  \\\n",
       "0      Mathilde  Community Health & Chemistry     Senior   iPhone   \n",
       "1          Luke                    Stats & CS  Sophomore  Android   \n",
       "2        Johnny                         ETMAS     Junior   iPhone   \n",
       "3        miller             stat/data science   Freshman   iPhone   \n",
       "4           Tri                       CS+Math     Junior  Android   \n",
       "..          ...                           ...        ...      ...   \n",
       "187      Carson          Information Sciences   Freshman   iPhone   \n",
       "188  Sri Nithya          Information Sciences   Freshman   iPhone   \n",
       "189     brandon          information sciences     Senior   iPhone   \n",
       "190       Yujie                           MCB   Freshman   iPhone   \n",
       "191      Shiuli                    Psychology  Sophomore  Android   \n",
       "\n",
       "                    Computer Straw  Shoe Size Pets Hot Dog  \\\n",
       "0     Windows-based computer     1        9.0    0     Yes   \n",
       "1     Windows-based computer     1        9.5    0      No   \n",
       "2    Mac OS X-based computer     1       10.0    2      No   \n",
       "3    Mac OS X-based computer     1       10.0    2      No   \n",
       "4     Windows-based computer     2       10.0    0     Yes   \n",
       "..                       ...   ...        ...  ...     ...   \n",
       "187   Windows-based computer     1        7.5    0     Yes   \n",
       "188   Windows-based computer     1        5.0    0      No   \n",
       "189  Mac OS X-based computer     1       12.0    0      No   \n",
       "190   Windows-based computer     2        9.0    0      No   \n",
       "191   Windows-based computer     2        9.5    7      No   \n",
       "\n",
       "                                   Streaming  ...  Season Statistics Courses  \\\n",
       "0                                    Netflix  ...    Fall                  3   \n",
       "1                            Twitch, Youtube  ...  Spring                  4   \n",
       "2                           Netflix, Youtube  ...    Fall                  1   \n",
       "3                           Netflix, HBO Max  ...  Summer                  0   \n",
       "4                            Twitch, Youtube  ...    Fall                  3   \n",
       "..                                       ...  ...     ...                ...   \n",
       "187                          Twitch, Youtube  ...    Fall           STAT 200   \n",
       "188  Netflix, HBO Max, Amazon Prime, Youtube  ...    Fall                  0   \n",
       "189                         HBO Max, Youtube  ...    Fall                  2   \n",
       "190                                  Youtube  ...    Fall                  2   \n",
       "191           Netflix, Amazon Prime, Youtube  ...    Fall                  1   \n",
       "\n",
       "    Programming Courses Study Hours Siblings Sleep Shoes  Texts Personality  \\\n",
       "0                     0           3        1     8    10      7   Introvert   \n",
       "1                     2           4        1   6.5     4     15   Introvert   \n",
       "2                     0           2        1     7    10      4   Introvert   \n",
       "3                     2           2        2     6     6     12   Extrovert   \n",
       "4                     6           3        2     6     1      0   Introvert   \n",
       "..                  ...         ...      ...   ...   ...    ...         ...   \n",
       "187  CS 124 and AP CS A           3        0     6     4      0   Introvert   \n",
       "188                   0           5        1     7    20     45   Extrovert   \n",
       "189                   2           0        1     8    12      0   Introvert   \n",
       "190                   0           6        4     7     5      6   Introvert   \n",
       "191                   1           2        0     6     7     12   Introvert   \n",
       "\n",
       "     Zodiac Sign  \n",
       "0    Sagittarius  \n",
       "1         Gemini  \n",
       "2            Leo  \n",
       "3    Sagittarius  \n",
       "4          Libra  \n",
       "..           ...  \n",
       "187        Aries  \n",
       "188        Virgo  \n",
       "189        Virgo  \n",
       "190      Scorpio  \n",
       "191        Virgo  \n",
       "\n",
       "[192 rows x 21 columns]"
      ],
      "text/html": [
       "<div>\n",
       "<style scoped>\n",
       "    .dataframe tbody tr th:only-of-type {\n",
       "        vertical-align: middle;\n",
       "    }\n",
       "\n",
       "    .dataframe tbody tr th {\n",
       "        vertical-align: top;\n",
       "    }\n",
       "\n",
       "    .dataframe thead th {\n",
       "        text-align: right;\n",
       "    }\n",
       "</style>\n",
       "<table border=\"1\" class=\"dataframe\">\n",
       "  <thead>\n",
       "    <tr style=\"text-align: right;\">\n",
       "      <th></th>\n",
       "      <th>Name</th>\n",
       "      <th>Major</th>\n",
       "      <th>Year</th>\n",
       "      <th>Phone</th>\n",
       "      <th>Computer</th>\n",
       "      <th>Straw</th>\n",
       "      <th>Shoe Size</th>\n",
       "      <th>Pets</th>\n",
       "      <th>Hot Dog</th>\n",
       "      <th>Streaming</th>\n",
       "      <th>...</th>\n",
       "      <th>Season</th>\n",
       "      <th>Statistics Courses</th>\n",
       "      <th>Programming Courses</th>\n",
       "      <th>Study Hours</th>\n",
       "      <th>Siblings</th>\n",
       "      <th>Sleep</th>\n",
       "      <th>Shoes</th>\n",
       "      <th>Texts</th>\n",
       "      <th>Personality</th>\n",
       "      <th>Zodiac Sign</th>\n",
       "    </tr>\n",
       "  </thead>\n",
       "  <tbody>\n",
       "    <tr>\n",
       "      <th>0</th>\n",
       "      <td>Mathilde</td>\n",
       "      <td>Community Health &amp; Chemistry</td>\n",
       "      <td>Senior</td>\n",
       "      <td>iPhone</td>\n",
       "      <td>Windows-based computer</td>\n",
       "      <td>1</td>\n",
       "      <td>9.0</td>\n",
       "      <td>0</td>\n",
       "      <td>Yes</td>\n",
       "      <td>Netflix</td>\n",
       "      <td>...</td>\n",
       "      <td>Fall</td>\n",
       "      <td>3</td>\n",
       "      <td>0</td>\n",
       "      <td>3</td>\n",
       "      <td>1</td>\n",
       "      <td>8</td>\n",
       "      <td>10</td>\n",
       "      <td>7</td>\n",
       "      <td>Introvert</td>\n",
       "      <td>Sagittarius</td>\n",
       "    </tr>\n",
       "    <tr>\n",
       "      <th>1</th>\n",
       "      <td>Luke</td>\n",
       "      <td>Stats &amp; CS</td>\n",
       "      <td>Sophomore</td>\n",
       "      <td>Android</td>\n",
       "      <td>Windows-based computer</td>\n",
       "      <td>1</td>\n",
       "      <td>9.5</td>\n",
       "      <td>0</td>\n",
       "      <td>No</td>\n",
       "      <td>Twitch, Youtube</td>\n",
       "      <td>...</td>\n",
       "      <td>Spring</td>\n",
       "      <td>4</td>\n",
       "      <td>2</td>\n",
       "      <td>4</td>\n",
       "      <td>1</td>\n",
       "      <td>6.5</td>\n",
       "      <td>4</td>\n",
       "      <td>15</td>\n",
       "      <td>Introvert</td>\n",
       "      <td>Gemini</td>\n",
       "    </tr>\n",
       "    <tr>\n",
       "      <th>2</th>\n",
       "      <td>Johnny</td>\n",
       "      <td>ETMAS</td>\n",
       "      <td>Junior</td>\n",
       "      <td>iPhone</td>\n",
       "      <td>Mac OS X-based computer</td>\n",
       "      <td>1</td>\n",
       "      <td>10.0</td>\n",
       "      <td>2</td>\n",
       "      <td>No</td>\n",
       "      <td>Netflix, Youtube</td>\n",
       "      <td>...</td>\n",
       "      <td>Fall</td>\n",
       "      <td>1</td>\n",
       "      <td>0</td>\n",
       "      <td>2</td>\n",
       "      <td>1</td>\n",
       "      <td>7</td>\n",
       "      <td>10</td>\n",
       "      <td>4</td>\n",
       "      <td>Introvert</td>\n",
       "      <td>Leo</td>\n",
       "    </tr>\n",
       "    <tr>\n",
       "      <th>3</th>\n",
       "      <td>miller</td>\n",
       "      <td>stat/data science</td>\n",
       "      <td>Freshman</td>\n",
       "      <td>iPhone</td>\n",
       "      <td>Mac OS X-based computer</td>\n",
       "      <td>1</td>\n",
       "      <td>10.0</td>\n",
       "      <td>2</td>\n",
       "      <td>No</td>\n",
       "      <td>Netflix, HBO Max</td>\n",
       "      <td>...</td>\n",
       "      <td>Summer</td>\n",
       "      <td>0</td>\n",
       "      <td>2</td>\n",
       "      <td>2</td>\n",
       "      <td>2</td>\n",
       "      <td>6</td>\n",
       "      <td>6</td>\n",
       "      <td>12</td>\n",
       "      <td>Extrovert</td>\n",
       "      <td>Sagittarius</td>\n",
       "    </tr>\n",
       "    <tr>\n",
       "      <th>4</th>\n",
       "      <td>Tri</td>\n",
       "      <td>CS+Math</td>\n",
       "      <td>Junior</td>\n",
       "      <td>Android</td>\n",
       "      <td>Windows-based computer</td>\n",
       "      <td>2</td>\n",
       "      <td>10.0</td>\n",
       "      <td>0</td>\n",
       "      <td>Yes</td>\n",
       "      <td>Twitch, Youtube</td>\n",
       "      <td>...</td>\n",
       "      <td>Fall</td>\n",
       "      <td>3</td>\n",
       "      <td>6</td>\n",
       "      <td>3</td>\n",
       "      <td>2</td>\n",
       "      <td>6</td>\n",
       "      <td>1</td>\n",
       "      <td>0</td>\n",
       "      <td>Introvert</td>\n",
       "      <td>Libra</td>\n",
       "    </tr>\n",
       "    <tr>\n",
       "      <th>...</th>\n",
       "      <td>...</td>\n",
       "      <td>...</td>\n",
       "      <td>...</td>\n",
       "      <td>...</td>\n",
       "      <td>...</td>\n",
       "      <td>...</td>\n",
       "      <td>...</td>\n",
       "      <td>...</td>\n",
       "      <td>...</td>\n",
       "      <td>...</td>\n",
       "      <td>...</td>\n",
       "      <td>...</td>\n",
       "      <td>...</td>\n",
       "      <td>...</td>\n",
       "      <td>...</td>\n",
       "      <td>...</td>\n",
       "      <td>...</td>\n",
       "      <td>...</td>\n",
       "      <td>...</td>\n",
       "      <td>...</td>\n",
       "      <td>...</td>\n",
       "    </tr>\n",
       "    <tr>\n",
       "      <th>187</th>\n",
       "      <td>Carson</td>\n",
       "      <td>Information Sciences</td>\n",
       "      <td>Freshman</td>\n",
       "      <td>iPhone</td>\n",
       "      <td>Windows-based computer</td>\n",
       "      <td>1</td>\n",
       "      <td>7.5</td>\n",
       "      <td>0</td>\n",
       "      <td>Yes</td>\n",
       "      <td>Twitch, Youtube</td>\n",
       "      <td>...</td>\n",
       "      <td>Fall</td>\n",
       "      <td>STAT 200</td>\n",
       "      <td>CS 124 and AP CS A</td>\n",
       "      <td>3</td>\n",
       "      <td>0</td>\n",
       "      <td>6</td>\n",
       "      <td>4</td>\n",
       "      <td>0</td>\n",
       "      <td>Introvert</td>\n",
       "      <td>Aries</td>\n",
       "    </tr>\n",
       "    <tr>\n",
       "      <th>188</th>\n",
       "      <td>Sri Nithya</td>\n",
       "      <td>Information Sciences</td>\n",
       "      <td>Freshman</td>\n",
       "      <td>iPhone</td>\n",
       "      <td>Windows-based computer</td>\n",
       "      <td>1</td>\n",
       "      <td>5.0</td>\n",
       "      <td>0</td>\n",
       "      <td>No</td>\n",
       "      <td>Netflix, HBO Max, Amazon Prime, Youtube</td>\n",
       "      <td>...</td>\n",
       "      <td>Fall</td>\n",
       "      <td>0</td>\n",
       "      <td>0</td>\n",
       "      <td>5</td>\n",
       "      <td>1</td>\n",
       "      <td>7</td>\n",
       "      <td>20</td>\n",
       "      <td>45</td>\n",
       "      <td>Extrovert</td>\n",
       "      <td>Virgo</td>\n",
       "    </tr>\n",
       "    <tr>\n",
       "      <th>189</th>\n",
       "      <td>brandon</td>\n",
       "      <td>information sciences</td>\n",
       "      <td>Senior</td>\n",
       "      <td>iPhone</td>\n",
       "      <td>Mac OS X-based computer</td>\n",
       "      <td>1</td>\n",
       "      <td>12.0</td>\n",
       "      <td>0</td>\n",
       "      <td>No</td>\n",
       "      <td>HBO Max, Youtube</td>\n",
       "      <td>...</td>\n",
       "      <td>Fall</td>\n",
       "      <td>2</td>\n",
       "      <td>2</td>\n",
       "      <td>0</td>\n",
       "      <td>1</td>\n",
       "      <td>8</td>\n",
       "      <td>12</td>\n",
       "      <td>0</td>\n",
       "      <td>Introvert</td>\n",
       "      <td>Virgo</td>\n",
       "    </tr>\n",
       "    <tr>\n",
       "      <th>190</th>\n",
       "      <td>Yujie</td>\n",
       "      <td>MCB</td>\n",
       "      <td>Freshman</td>\n",
       "      <td>iPhone</td>\n",
       "      <td>Windows-based computer</td>\n",
       "      <td>2</td>\n",
       "      <td>9.0</td>\n",
       "      <td>0</td>\n",
       "      <td>No</td>\n",
       "      <td>Youtube</td>\n",
       "      <td>...</td>\n",
       "      <td>Fall</td>\n",
       "      <td>2</td>\n",
       "      <td>0</td>\n",
       "      <td>6</td>\n",
       "      <td>4</td>\n",
       "      <td>7</td>\n",
       "      <td>5</td>\n",
       "      <td>6</td>\n",
       "      <td>Introvert</td>\n",
       "      <td>Scorpio</td>\n",
       "    </tr>\n",
       "    <tr>\n",
       "      <th>191</th>\n",
       "      <td>Shiuli</td>\n",
       "      <td>Psychology</td>\n",
       "      <td>Sophomore</td>\n",
       "      <td>Android</td>\n",
       "      <td>Windows-based computer</td>\n",
       "      <td>2</td>\n",
       "      <td>9.5</td>\n",
       "      <td>7</td>\n",
       "      <td>No</td>\n",
       "      <td>Netflix, Amazon Prime, Youtube</td>\n",
       "      <td>...</td>\n",
       "      <td>Fall</td>\n",
       "      <td>1</td>\n",
       "      <td>1</td>\n",
       "      <td>2</td>\n",
       "      <td>0</td>\n",
       "      <td>6</td>\n",
       "      <td>7</td>\n",
       "      <td>12</td>\n",
       "      <td>Introvert</td>\n",
       "      <td>Virgo</td>\n",
       "    </tr>\n",
       "  </tbody>\n",
       "</table>\n",
       "<p>192 rows × 21 columns</p>\n",
       "</div>"
      ]
     },
     "metadata": {},
     "execution_count": 44
    }
   ],
   "metadata": {
    "nbgrader": {
     "grade": false,
     "grade_id": "cell-a754c45cb34da497",
     "locked": false,
     "schema_version": 3,
     "solution": true
    }
   }
  },
  {
   "cell_type": "code",
   "execution_count": 45,
   "source": [
    "## == TEST CASES for Puzzle 4.1 ==\n",
    "# - This read-only cell contains test cases for your previous cell.\n",
    "# - If this cell runs without any errors, you PASSED all test cases!\n",
    "# - If this cell results in any errors, check you previous cell, make changes, and RE-RUN your code and then this cell.\n",
    "\n",
    "assert(len(df_hello) == 192), \"This is not the dataset you're looking for\"\n",
    "\n",
    "## == SUCCESS MESSAGE ==\n",
    "# You will only see this message (with the emoji showing) if you passed all test cases:\n",
    "tada = \"\\N{PARTY POPPER}\"\n",
    "print(f\"{tada} All tests passed! {tada}\")"
   ],
   "outputs": [
    {
     "output_type": "stream",
     "name": "stdout",
     "text": [
      "🎉 All tests passed! 🎉\n"
     ]
    }
   ],
   "metadata": {
    "nbgrader": {
     "grade": true,
     "grade_id": "cell-96c94f328cfd0876",
     "locked": true,
     "points": 0,
     "schema_version": 3,
     "solution": false
    }
   }
  },
  {
   "cell_type": "markdown",
   "source": [
    "### Puzzle 4.2: Observation Subsets <a id='p42'></a> ([back to toc](#toc))\n",
    "\n",
    "In this situation, let's define shoes that are strictly greater than size 9 to be \"large\" and shoes that less than or equal to size 9 are defined to be \"small\".\n",
    "\n",
    "Create two DataFrames that contain subsets of our data: one DataFrame that includes everyone who has a \"large\" shoe size and one DataFrame that includes everyone who has a \"small\" shoe size:"
   ],
   "metadata": {}
  },
  {
   "cell_type": "code",
   "execution_count": 53,
   "source": [
    "df_large = df_hello[df_hello[\"Shoe Size\"] > 9.0]\n",
    "df_small = df_hello[df_hello[\"Shoe Size\"] <= 9.0]"
   ],
   "outputs": [],
   "metadata": {
    "nbgrader": {
     "grade": false,
     "grade_id": "cell-8754c8095ea42040",
     "locked": false,
     "schema_version": 3,
     "solution": true
    }
   }
  },
  {
   "cell_type": "code",
   "execution_count": 54,
   "source": [
    "## == TEST CASES for Puzzle 4.2 ==\n",
    "# - This read-only cell contains test cases for your previous cell.\n",
    "# - If this cell runs without any errors, you PASSED all test cases!\n",
    "# - If this cell results in any errors, check you previous cell, make changes, and RE-RUN your code and then this cell.\n",
    "\n",
    "assert(len(df_large) == 97), \"This is not the dataframe subset you're looking for.\"\n",
    "assert(len(df_small) == 95), \"This is not the dataframe subset you're looking for.\"\n",
    "\n",
    "## == SUCCESS MESSAGE ==\n",
    "# You will only see this message (with the emoji showing) if you passed all test cases:\n",
    "tada = \"\\N{PARTY POPPER}\"\n",
    "print(f\"{tada} All tests passed! {tada}\")"
   ],
   "outputs": [
    {
     "output_type": "stream",
     "name": "stdout",
     "text": [
      "🎉 All tests passed! 🎉\n"
     ]
    }
   ],
   "metadata": {
    "nbgrader": {
     "grade": true,
     "grade_id": "cell-729252c9fbc53aed",
     "locked": true,
     "points": 1,
     "schema_version": 3,
     "solution": false
    }
   }
  },
  {
   "cell_type": "markdown",
   "source": [
    "### Puzzle 4.3: Average Number of Pairs of Shoes By Group <a id='p43'></a> ([back to toc](#toc))\n",
    "\n",
    "Find the average number of pairs of shoes of each group (large shoes and small shoes):"
   ],
   "metadata": {}
  },
  {
   "cell_type": "code",
   "execution_count": 56,
   "source": [
    "large_avg_shoes = df_large[\"Shoes\"].mean()\n",
    "small_avg_shoes = df_small[\"Shoes\"].mean()\n",
    "\n",
    "print(\"large_avg_shoes =\", large_avg_shoes,\n",
    "      \"\\nsmall_avg_shoes =\", small_avg_shoes)"
   ],
   "outputs": [
    {
     "output_type": "stream",
     "name": "stdout",
     "text": [
      "large_avg_shoes = 7.938144329896907 \n",
      "small_avg_shoes = 10.021052631578947\n"
     ]
    }
   ],
   "metadata": {
    "nbgrader": {
     "grade": false,
     "grade_id": "cell-e4b369fb53d3613d",
     "locked": false,
     "schema_version": 3,
     "solution": true
    }
   }
  },
  {
   "cell_type": "code",
   "execution_count": 57,
   "source": [
    "## == TEST CASES for Puzzle 4.3 ==\n",
    "# - This read-only cell contains test cases for your previous cell.\n",
    "# - If this cell runs without any errors, you PASSED all test cases!\n",
    "# - If this cell results in any errors, check you previous cell, make changes, and RE-RUN your code and then this cell.\n",
    "\n",
    "assert(large_avg_shoes == 770 / 97),  \"The average number of shoe pairs in among large shoe wearers does not appear correct. Make sure you are taking the mean of the correct variable.\"\n",
    "assert(small_avg_shoes == 952 / 95), \"The average number of shoe pairs in among small shoe wearers does not appear correct. Make sure you are taking the mean of the correct variable.\"\n",
    "\n",
    "## == SUCCESS MESSAGE ==\n",
    "# You will only see this message (with the emoji showing) if you passed all test cases:\n",
    "tada = \"\\N{PARTY POPPER}\"\n",
    "print(f\"{tada} All tests passed! {tada}\")"
   ],
   "outputs": [
    {
     "output_type": "stream",
     "name": "stdout",
     "text": [
      "🎉 All tests passed! 🎉\n"
     ]
    }
   ],
   "metadata": {
    "nbgrader": {
     "grade": true,
     "grade_id": "cell-303a6192d564894f",
     "locked": true,
     "points": 1,
     "schema_version": 3,
     "solution": false
    }
   }
  },
  {
   "cell_type": "markdown",
   "source": [
    "### Puzzle 4.4: ❓Individual Reflection❓ <a id='p44'></a> ([back to toc](#toc))\n",
    "\n",
    "What is the relationship between shoe size and shoe number?  Can you think of a possible confounding variable in the observed relationship (or lack thereof) between shoe size and shoe number?"
   ],
   "metadata": {}
  },
  {
   "cell_type": "markdown",
   "source": [
    "In stat 107 people who have a shoe size of less than or equal 9 tend to have on average 2 more pairs of shoes. A possible confounding variable is Gender because women usually have shoe sizes less than 9 and tend to have more shoes"
   ],
   "metadata": {}
  },
  {
   "cell_type": "markdown",
   "source": [
    "## Submit Your Work!\n",
    "\n",
    "You're almost done -- congratulations!\n",
    "\n",
    "You need to do two more things:\n",
    "\n",
    "1.  Save your work. To do this, go to File -> Save All\n",
    "\n",
    "2.  After you have saved, exit this notebook and follow the webpage instructions to commit this lab to your Git repository!"
   ],
   "metadata": {}
  }
 ],
 "metadata": {
  "celltoolbar": "Create Assignment",
  "interpreter": {
   "hash": "c0b4b332f31a7ee7ec5b55d27ae6e5e906d5b533d204d9e51c2cddbfabeeb3e3"
  },
  "kernelspec": {
   "name": "python3",
   "display_name": "Python 3.8.5 64-bit ('base': conda)"
  },
  "language_info": {
   "codemirror_mode": {
    "name": "ipython",
    "version": 3
   },
   "file_extension": ".py",
   "mimetype": "text/x-python",
   "name": "python",
   "nbconvert_exporter": "python",
   "pygments_lexer": "ipython3",
   "version": "3.8.5"
  }
 },
 "nbformat": 4,
 "nbformat_minor": 4
}