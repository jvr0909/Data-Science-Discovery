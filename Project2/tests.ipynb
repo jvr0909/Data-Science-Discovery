{
 "cells": [
  {
   "cell_type": "markdown",
   "metadata": {},
   "source": [
    "<font size=\"10\">**The Complete Pokémon Dataset** </font>\n",
    "\n",
    "This dataset contains information on all 802 pokémon from all seven generations. The information contained in this dataset includes base stats, performances against other types, heights, weights, classifications, egg steps, experience points, abilities, etc. The information was scraped from serebii.\n",
    "\n",
    "<font size=\"5\">Features: </font>\n",
    "\n",
    "\n",
    "abilities: A stringified list of abilities that the pokémon is capable of having.\n",
    "\n",
    "against_?: Eighteen features that denote the amount of damage taken against an attack of a particular type of pokémon.\n",
    "\n",
    "attack: The base attack of the pokémon.\n",
    "\n",
    "base_egg_steps: The number of steps required to hatch an egg of the pokémon.\n",
    "\n",
    "base_happiness: Base happiness of the pokémon.\n",
    "\n",
    "base_total: Sum of hp, attack, defense, sp_attack, sp_defense and speed.\n",
    "\n",
    "capture_rate: Capture rate of the pokémon.\n",
    "\n",
    "classification: The classification of the pokémon as described by the Sun and Moon pokédex.\n",
    "\n",
    "defense: The base defense of the pokémon.\n",
    "\n",
    "experience_growth: The experience growth of the pokémon.\n",
    "\n",
    "height_m: Height of the pokémon in metres.\n",
    "\n",
    "hp: The base HP of the pokemon. It is short for Hit Point, which determines how much damage a pokémon can receive before fainting.\n",
    "\n",
    "japanese_name: The original Japanese name of the pokémon.\n",
    "\n",
    "name: The English name of the pokémon.\n",
    "\n",
    "percentage_male: The percentage of the species that are male. Blank if the pokémon is genderless.\n",
    "\n",
    "pokedex_number: The entry number of the pokémon in the National Pokédex.\n",
    "\n",
    "sp_attack: The base special attack of the pokémon.\n",
    "\n",
    "sp_defense: The base special defense of the pokémon.\n",
    "\n",
    "speed: The base speed of the pokémon.\n",
    "\n",
    "type1: The primary type of the pokémon.\n",
    "\n",
    "type2: The secondary type of the pokémon.\n",
    "\n",
    "weight_kg: The weight of the pokémon in kilograms.\n",
    "\n",
    "generation: The numbered generation which the pokémon was first introduced.\n",
    "\n",
    "is_legendary: Denotes if the pokémon is legendary."
   ]
  },
  {
   "cell_type": "code",
   "execution_count": 51,
   "metadata": {},
   "outputs": [],
   "source": [
    "import pandas as pd\n",
    "import seaborn as sns\n"
   ]
  },
  {
   "cell_type": "code",
   "execution_count": 52,
   "metadata": {},
   "outputs": [
    {
     "data": {
      "text/plain": [
       "0    grass\n",
       "1    grass\n",
       "2    grass\n",
       "3     fire\n",
       "4     fire\n",
       "Name: type1, dtype: object"
      ]
     },
     "execution_count": 52,
     "metadata": {},
     "output_type": "execute_result"
    }
   ],
   "source": [
    "pokemon_df = pd.read_csv(\"pokemon.csv\")\n",
    "pokemon_df[\"type1\"].head()"
   ]
  },
  {
   "cell_type": "code",
   "execution_count": 1,
   "metadata": {},
   "outputs": [
    {
     "ename": "NameError",
     "evalue": "name 'pokemon_df' is not defined",
     "output_type": "error",
     "traceback": [
      "\u001b[0;31m---------------------------------------------------------------------------\u001b[0m",
      "\u001b[0;31mNameError\u001b[0m                                 Traceback (most recent call last)",
      "\u001b[1;32m/Users/vishalrajpal/Desktop/STAT107/jrajpal2/Project2/tests.ipynb Cell 4\u001b[0m in \u001b[0;36m<module>\u001b[0;34m\u001b[0m\n\u001b[0;32m----> <a href='vscode-notebook-cell:/Users/vishalrajpal/Desktop/STAT107/jrajpal2/Project2/tests.ipynb#W3sZmlsZQ%3D%3D?line=0'>1</a>\u001b[0m pokemon_df\u001b[39m.\u001b[39mcolumns\n",
      "\u001b[0;31mNameError\u001b[0m: name 'pokemon_df' is not defined"
     ]
    }
   ],
   "source": [
    "pokemon_df.columns"
   ]
  },
  {
   "cell_type": "code",
   "execution_count": null,
   "metadata": {},
   "outputs": [],
   "source": [
    "pokemon_df.drop(\"abilities\", axis = 1, inplace=True)\n",
    "pokemon_df.drop(\"against_bug\", axis = 1, inplace=True)\n",
    "pokemon_df.drop(\"against_dark\", axis = 1, inplace=True)\n",
    "pokemon_df.drop(\"against_dragon\", axis = 1, inplace=True)\n",
    "pokemon_df.drop(\"against_electric\", axis = 1, inplace=True)\n",
    "pokemon_df.drop(\"against_fairy\", axis = 1, inplace=True)\n",
    "pokemon_df.drop(\"against_fight\", axis = 1, inplace=True)\n",
    "pokemon_df.drop(\"against_fire\", axis = 1, inplace=True)\n",
    "pokemon_df.drop(\"against_flying\", axis = 1, inplace=True)\n",
    "pokemon_df.drop(\"against_ghost\", axis = 1, inplace=True)\n",
    "pokemon_df.drop(\"against_grass\", axis = 1, inplace=True)\n",
    "pokemon_df.drop(\"against_ground\", axis = 1, inplace=True)\n",
    "pokemon_df.drop(\"against_ice\", axis = 1, inplace=True)\n",
    "pokemon_df.drop(\"against_normal\", axis = 1, inplace=True)\n",
    "pokemon_df.drop(\"against_poison\", axis = 1, inplace=True)\n",
    "pokemon_df.drop(\"against_psychic\", axis = 1, inplace=True)\n",
    "pokemon_df.drop(\"against_rock\", axis = 1, inplace=True)\n",
    "pokemon_df.drop(\"against_steel\", axis = 1, inplace=True)\n",
    "pokemon_df.drop(\"against_water\", axis = 1, inplace=True)\n",
    "pokemon_df.drop(\"base_egg_steps\", axis = 1, inplace=True)\n",
    "pokemon_df.drop(\"base_happiness\", axis = 1, inplace=True)\n",
    "pokemon_df.drop(\"base_total\", axis = 1, inplace=True)\n",
    "pokemon_df.drop(\"capture_rate\", axis = 1, inplace=True)\n",
    "pokemon_df.drop(\"japanese_name\", axis = 1, inplace=True)\n",
    "pokemon_df.drop(\"percentage_male\", axis = 1, inplace=True)\n",
    "pokemon_df.drop(\"pokedex_number\", axis = 1, inplace=True)\n",
    "pokemon_df.drop(\"experience_growth\", axis = 1, inplace=True)\n",
    "pokemon_df.drop(\"height_m\", axis = 1, inplace=True)\n",
    "pokemon_df.drop(\"sp_attack\", axis = 1, inplace=True)\n",
    "pokemon_df.drop(\"sp_defense\", axis = 1, inplace=True)\n",
    "pokemon_df.drop(\"weight_kg\", axis = 1, inplace=True)\n",
    "pokemon_df.drop(\"is_legendary\", axis = 1, inplace=True)\n",
    "pokemon_df.drop(\"classfication\", axis = 1, inplace=True)\n",
    "\n"
   ]
  },
  {
   "cell_type": "code",
   "execution_count": null,
   "metadata": {},
   "outputs": [
    {
     "data": {
      "text/html": [
       "<div>\n",
       "<style scoped>\n",
       "    .dataframe tbody tr th:only-of-type {\n",
       "        vertical-align: middle;\n",
       "    }\n",
       "\n",
       "    .dataframe tbody tr th {\n",
       "        vertical-align: top;\n",
       "    }\n",
       "\n",
       "    .dataframe thead th {\n",
       "        text-align: right;\n",
       "    }\n",
       "</style>\n",
       "<table border=\"1\" class=\"dataframe\">\n",
       "  <thead>\n",
       "    <tr style=\"text-align: right;\">\n",
       "      <th></th>\n",
       "      <th>attack</th>\n",
       "      <th>defense</th>\n",
       "      <th>hp</th>\n",
       "      <th>name</th>\n",
       "      <th>speed</th>\n",
       "      <th>type1</th>\n",
       "      <th>type2</th>\n",
       "      <th>generation</th>\n",
       "    </tr>\n",
       "  </thead>\n",
       "  <tbody>\n",
       "    <tr>\n",
       "      <th>0</th>\n",
       "      <td>49</td>\n",
       "      <td>49</td>\n",
       "      <td>45</td>\n",
       "      <td>Bulbasaur</td>\n",
       "      <td>45</td>\n",
       "      <td>grass</td>\n",
       "      <td>poison</td>\n",
       "      <td>1</td>\n",
       "    </tr>\n",
       "    <tr>\n",
       "      <th>1</th>\n",
       "      <td>62</td>\n",
       "      <td>63</td>\n",
       "      <td>60</td>\n",
       "      <td>Ivysaur</td>\n",
       "      <td>60</td>\n",
       "      <td>grass</td>\n",
       "      <td>poison</td>\n",
       "      <td>1</td>\n",
       "    </tr>\n",
       "    <tr>\n",
       "      <th>2</th>\n",
       "      <td>100</td>\n",
       "      <td>123</td>\n",
       "      <td>80</td>\n",
       "      <td>Venusaur</td>\n",
       "      <td>80</td>\n",
       "      <td>grass</td>\n",
       "      <td>poison</td>\n",
       "      <td>1</td>\n",
       "    </tr>\n",
       "    <tr>\n",
       "      <th>3</th>\n",
       "      <td>52</td>\n",
       "      <td>43</td>\n",
       "      <td>39</td>\n",
       "      <td>Charmander</td>\n",
       "      <td>65</td>\n",
       "      <td>fire</td>\n",
       "      <td>NaN</td>\n",
       "      <td>1</td>\n",
       "    </tr>\n",
       "    <tr>\n",
       "      <th>4</th>\n",
       "      <td>64</td>\n",
       "      <td>58</td>\n",
       "      <td>58</td>\n",
       "      <td>Charmeleon</td>\n",
       "      <td>80</td>\n",
       "      <td>fire</td>\n",
       "      <td>NaN</td>\n",
       "      <td>1</td>\n",
       "    </tr>\n",
       "  </tbody>\n",
       "</table>\n",
       "</div>"
      ],
      "text/plain": [
       "   attack  defense  hp        name  speed  type1   type2  generation\n",
       "0      49       49  45   Bulbasaur     45  grass  poison           1\n",
       "1      62       63  60     Ivysaur     60  grass  poison           1\n",
       "2     100      123  80    Venusaur     80  grass  poison           1\n",
       "3      52       43  39  Charmander     65   fire     NaN           1\n",
       "4      64       58  58  Charmeleon     80   fire     NaN           1"
      ]
     },
     "execution_count": 55,
     "metadata": {},
     "output_type": "execute_result"
    }
   ],
   "source": [
    "pokemon_df.head()"
   ]
  },
  {
   "cell_type": "code",
   "execution_count": null,
   "metadata": {},
   "outputs": [
    {
     "data": {
      "text/html": [
       "<div>\n",
       "<style scoped>\n",
       "    .dataframe tbody tr th:only-of-type {\n",
       "        vertical-align: middle;\n",
       "    }\n",
       "\n",
       "    .dataframe tbody tr th {\n",
       "        vertical-align: top;\n",
       "    }\n",
       "\n",
       "    .dataframe thead th {\n",
       "        text-align: right;\n",
       "    }\n",
       "</style>\n",
       "<table border=\"1\" class=\"dataframe\">\n",
       "  <thead>\n",
       "    <tr style=\"text-align: right;\">\n",
       "      <th></th>\n",
       "      <th>attack</th>\n",
       "      <th>defense</th>\n",
       "      <th>hp</th>\n",
       "      <th>speed</th>\n",
       "      <th>generation</th>\n",
       "    </tr>\n",
       "  </thead>\n",
       "  <tbody>\n",
       "    <tr>\n",
       "      <th>count</th>\n",
       "      <td>801.000000</td>\n",
       "      <td>801.000000</td>\n",
       "      <td>801.000000</td>\n",
       "      <td>801.000000</td>\n",
       "      <td>801.000000</td>\n",
       "    </tr>\n",
       "    <tr>\n",
       "      <th>mean</th>\n",
       "      <td>77.857678</td>\n",
       "      <td>73.008739</td>\n",
       "      <td>68.958801</td>\n",
       "      <td>66.334582</td>\n",
       "      <td>3.690387</td>\n",
       "    </tr>\n",
       "    <tr>\n",
       "      <th>std</th>\n",
       "      <td>32.158820</td>\n",
       "      <td>30.769159</td>\n",
       "      <td>26.576015</td>\n",
       "      <td>28.907662</td>\n",
       "      <td>1.930420</td>\n",
       "    </tr>\n",
       "    <tr>\n",
       "      <th>min</th>\n",
       "      <td>5.000000</td>\n",
       "      <td>5.000000</td>\n",
       "      <td>1.000000</td>\n",
       "      <td>5.000000</td>\n",
       "      <td>1.000000</td>\n",
       "    </tr>\n",
       "    <tr>\n",
       "      <th>25%</th>\n",
       "      <td>55.000000</td>\n",
       "      <td>50.000000</td>\n",
       "      <td>50.000000</td>\n",
       "      <td>45.000000</td>\n",
       "      <td>2.000000</td>\n",
       "    </tr>\n",
       "    <tr>\n",
       "      <th>50%</th>\n",
       "      <td>75.000000</td>\n",
       "      <td>70.000000</td>\n",
       "      <td>65.000000</td>\n",
       "      <td>65.000000</td>\n",
       "      <td>4.000000</td>\n",
       "    </tr>\n",
       "    <tr>\n",
       "      <th>75%</th>\n",
       "      <td>100.000000</td>\n",
       "      <td>90.000000</td>\n",
       "      <td>80.000000</td>\n",
       "      <td>85.000000</td>\n",
       "      <td>5.000000</td>\n",
       "    </tr>\n",
       "    <tr>\n",
       "      <th>max</th>\n",
       "      <td>185.000000</td>\n",
       "      <td>230.000000</td>\n",
       "      <td>255.000000</td>\n",
       "      <td>180.000000</td>\n",
       "      <td>7.000000</td>\n",
       "    </tr>\n",
       "  </tbody>\n",
       "</table>\n",
       "</div>"
      ],
      "text/plain": [
       "           attack     defense          hp       speed  generation\n",
       "count  801.000000  801.000000  801.000000  801.000000  801.000000\n",
       "mean    77.857678   73.008739   68.958801   66.334582    3.690387\n",
       "std     32.158820   30.769159   26.576015   28.907662    1.930420\n",
       "min      5.000000    5.000000    1.000000    5.000000    1.000000\n",
       "25%     55.000000   50.000000   50.000000   45.000000    2.000000\n",
       "50%     75.000000   70.000000   65.000000   65.000000    4.000000\n",
       "75%    100.000000   90.000000   80.000000   85.000000    5.000000\n",
       "max    185.000000  230.000000  255.000000  180.000000    7.000000"
      ]
     },
     "execution_count": 56,
     "metadata": {},
     "output_type": "execute_result"
    }
   ],
   "source": [
    "pd.set_option('display.max_columns', None)\n",
    "pokemon_df.describe()"
   ]
  },
  {
   "cell_type": "code",
   "execution_count": null,
   "metadata": {},
   "outputs": [
    {
     "data": {
      "text/plain": [
       "array(['grass', 'fire', 'water', 'bug', 'normal', 'poison', 'electric',\n",
       "       'ground', 'fairy', 'fighting', 'psychic', 'rock', 'ghost', 'ice',\n",
       "       'dragon', 'dark', 'steel', 'flying'], dtype=object)"
      ]
     },
     "execution_count": 57,
     "metadata": {},
     "output_type": "execute_result"
    }
   ],
   "source": [
    "pokemon_df[\"type1\"].unique()\n"
   ]
  },
  {
   "cell_type": "code",
   "execution_count": null,
   "metadata": {},
   "outputs": [
    {
     "data": {
      "text/plain": [
       "<AxesSubplot:>"
      ]
     },
     "execution_count": 58,
     "metadata": {},
     "output_type": "execute_result"
    },
    {
     "data": {
      "image/png": "[encoded data removed]",
      "text/plain": [
       "<Figure size 432x288 with 1 Axes>"
      ]
     },
     "metadata": {
      "needs_background": "light"
     },
     "output_type": "display_data"
    }
   ],
   "source": [
    "pokemon_df['type1'].value_counts().plot.bar()\n",
    "\n"
   ]
  },
  {
   "cell_type": "code",
   "execution_count": null,
   "metadata": {},
   "outputs": [],
   "source": [
    "hp_df = pokemon_df.loc[:,('hp','type1')]\n",
    "attack_df = pokemon_df.loc[:,('attack','type1')]\n",
    "defense_df = pokemon_df.loc[:,('defense','type1')]\n",
    "speed_df = pokemon_df.loc[:,('speed','type1')]\n",
    "\n",
    "hp_df['attribute'] = 'hp'\n",
    "hp_df.rename(columns={'hp': 'value'}, inplace=True)\n",
    "\n",
    "attack_df['attribute'] = 'attack'\n",
    "attack_df.rename(columns={'attack': 'value'}, inplace=True)\n",
    "\n",
    "defense_df['attribute'] = 'defense'\n",
    "defense_df.rename(columns={'defense': 'value'}, inplace=True)\n",
    "\n",
    "speed_df['attribute'] = 'speed'\n",
    "speed_df.rename(columns={'speed': 'value'}, inplace=True)"
   ]
  },
  {
   "cell_type": "code",
   "execution_count": null,
   "metadata": {},
   "outputs": [
    {
     "data": {
      "text/plain": [
       "<seaborn.axisgrid.FacetGrid at 0x7f857985b7f0>"
      ]
     },
     "execution_count": 60,
     "metadata": {},
     "output_type": "execute_result"
    },
    {
     "data": {
      "image/png": "[encoded data removed]",
      "text/plain": [
       "<Figure size 650.75x360 with 1 Axes>"
      ]
     },
     "metadata": {
      "needs_background": "light"
     },
     "output_type": "display_data"
    },
    {
     "data": {
      "image/png": "[encoded data removed]",
      "text/plain": [
       "<Figure size 650.75x360 with 1 Axes>"
      ]
     },
     "metadata": {
      "needs_background": "light"
     },
     "output_type": "display_data"
    },
    {
     "data": {
      "image/png": "[encoded data removed]",
      "text/plain": [
       "<Figure size 650.75x360 with 1 Axes>"
      ]
     },
     "metadata": {
      "needs_background": "light"
     },
     "output_type": "display_data"
    },
    {
     "data": {
      "image/png": "[encoded data removed]",
      "text/plain": [
       "<Figure size 650.75x360 with 1 Axes>"
      ]
     },
     "metadata": {
      "needs_background": "light"
     },
     "output_type": "display_data"
    }
   ],
   "source": [
    "sns.catplot(kind='box',        \n",
    "               y='value',         \n",
    "               x='attribute',     \n",
    "               hue='type1',  \n",
    "               data=hp_df,       \n",
    "               height=5,           \n",
    "               aspect=1.6,       \n",
    "               legend_out=True) \n",
    "\n",
    "\n",
    "sns.catplot(kind='box',        \n",
    "               y='value',         \n",
    "               x='attribute',     \n",
    "               hue='type1',  \n",
    "               data=attack_df,       \n",
    "               height=5,           \n",
    "               aspect=1.6,       \n",
    "               legend_out=True) \n",
    "\n",
    "               \n",
    "sns.catplot(kind='box',        \n",
    "               y='value',         \n",
    "               x='attribute',     \n",
    "               hue='type1',  \n",
    "               data=defense_df,       \n",
    "               height=5,           \n",
    "               aspect=1.6,       \n",
    "               legend_out=True) \n",
    "\n",
    "\n",
    "\n",
    "sns.catplot(kind='box',        \n",
    "               y='value',         \n",
    "               x='attribute',     \n",
    "               hue='type1',  \n",
    "               data=speed_df,       \n",
    "               height=5,           \n",
    "               aspect=1.6,       \n",
    "               legend_out=True)                              \n",
    "\n"
   ]
  },
  {
   "cell_type": "code",
   "execution_count": null,
   "metadata": {},
   "outputs": [
    {
     "data": {
      "text/html": [
       "<div>\n",
       "<style scoped>\n",
       "    .dataframe tbody tr th:only-of-type {\n",
       "        vertical-align: middle;\n",
       "    }\n",
       "\n",
       "    .dataframe tbody tr th {\n",
       "        vertical-align: top;\n",
       "    }\n",
       "\n",
       "    .dataframe thead th {\n",
       "        text-align: right;\n",
       "    }\n",
       "</style>\n",
       "<table border=\"1\" class=\"dataframe\">\n",
       "  <thead>\n",
       "    <tr style=\"text-align: right;\">\n",
       "      <th></th>\n",
       "      <th>attack</th>\n",
       "      <th>defense</th>\n",
       "      <th>hp</th>\n",
       "      <th>name</th>\n",
       "      <th>speed</th>\n",
       "      <th>type1</th>\n",
       "      <th>type2</th>\n",
       "      <th>generation</th>\n",
       "    </tr>\n",
       "  </thead>\n",
       "  <tbody>\n",
       "    <tr>\n",
       "      <th>213</th>\n",
       "      <td>185</td>\n",
       "      <td>115</td>\n",
       "      <td>80</td>\n",
       "      <td>Heracross</td>\n",
       "      <td>75</td>\n",
       "      <td>bug</td>\n",
       "      <td>fighting</td>\n",
       "      <td>2</td>\n",
       "    </tr>\n",
       "    <tr>\n",
       "      <th>797</th>\n",
       "      <td>181</td>\n",
       "      <td>131</td>\n",
       "      <td>59</td>\n",
       "      <td>Kartana</td>\n",
       "      <td>109</td>\n",
       "      <td>grass</td>\n",
       "      <td>steel</td>\n",
       "      <td>7</td>\n",
       "    </tr>\n",
       "  </tbody>\n",
       "</table>\n",
       "</div>"
      ],
      "text/plain": [
       "     attack  defense  hp       name  speed  type1     type2  generation\n",
       "213     185      115  80  Heracross     75    bug  fighting           2\n",
       "797     181      131  59    Kartana    109  grass     steel           7"
      ]
     },
     "execution_count": 61,
     "metadata": {},
     "output_type": "execute_result"
    }
   ],
   "source": [
    "pokemon_df.nlargest(2, \"attack\")"
   ]
  },
  {
   "cell_type": "code",
   "execution_count": null,
   "metadata": {},
   "outputs": [
    {
     "data": {
      "text/html": [
       "<div>\n",
       "<style scoped>\n",
       "    .dataframe tbody tr th:only-of-type {\n",
       "        vertical-align: middle;\n",
       "    }\n",
       "\n",
       "    .dataframe tbody tr th {\n",
       "        vertical-align: top;\n",
       "    }\n",
       "\n",
       "    .dataframe thead th {\n",
       "        text-align: right;\n",
       "    }\n",
       "</style>\n",
       "<table border=\"1\" class=\"dataframe\">\n",
       "  <thead>\n",
       "    <tr style=\"text-align: right;\">\n",
       "      <th></th>\n",
       "      <th>attack</th>\n",
       "      <th>defense</th>\n",
       "      <th>hp</th>\n",
       "      <th>name</th>\n",
       "      <th>speed</th>\n",
       "      <th>type1</th>\n",
       "      <th>type2</th>\n",
       "      <th>generation</th>\n",
       "    </tr>\n",
       "  </thead>\n",
       "  <tbody>\n",
       "    <tr>\n",
       "      <th>241</th>\n",
       "      <td>10</td>\n",
       "      <td>10</td>\n",
       "      <td>255</td>\n",
       "      <td>Blissey</td>\n",
       "      <td>55</td>\n",
       "      <td>normal</td>\n",
       "      <td>NaN</td>\n",
       "      <td>2</td>\n",
       "    </tr>\n",
       "    <tr>\n",
       "      <th>112</th>\n",
       "      <td>5</td>\n",
       "      <td>5</td>\n",
       "      <td>250</td>\n",
       "      <td>Chansey</td>\n",
       "      <td>50</td>\n",
       "      <td>normal</td>\n",
       "      <td>NaN</td>\n",
       "      <td>1</td>\n",
       "    </tr>\n",
       "  </tbody>\n",
       "</table>\n",
       "</div>"
      ],
      "text/plain": [
       "     attack  defense   hp     name  speed   type1 type2  generation\n",
       "241      10       10  255  Blissey     55  normal   NaN           2\n",
       "112       5        5  250  Chansey     50  normal   NaN           1"
      ]
     },
     "execution_count": 62,
     "metadata": {},
     "output_type": "execute_result"
    }
   ],
   "source": [
    "pokemon_df.nlargest(2, \"hp\")"
   ]
  },
  {
   "cell_type": "code",
   "execution_count": null,
   "metadata": {},
   "outputs": [
    {
     "data": {
      "text/html": [
       "<div>\n",
       "<style scoped>\n",
       "    .dataframe tbody tr th:only-of-type {\n",
       "        vertical-align: middle;\n",
       "    }\n",
       "\n",
       "    .dataframe tbody tr th {\n",
       "        vertical-align: top;\n",
       "    }\n",
       "\n",
       "    .dataframe thead th {\n",
       "        text-align: right;\n",
       "    }\n",
       "</style>\n",
       "<table border=\"1\" class=\"dataframe\">\n",
       "  <thead>\n",
       "    <tr style=\"text-align: right;\">\n",
       "      <th></th>\n",
       "      <th>attack</th>\n",
       "      <th>defense</th>\n",
       "      <th>hp</th>\n",
       "      <th>name</th>\n",
       "      <th>speed</th>\n",
       "      <th>type1</th>\n",
       "      <th>type2</th>\n",
       "      <th>generation</th>\n",
       "    </tr>\n",
       "  </thead>\n",
       "  <tbody>\n",
       "    <tr>\n",
       "      <th>291</th>\n",
       "      <td>90</td>\n",
       "      <td>45</td>\n",
       "      <td>1</td>\n",
       "      <td>Shedinja</td>\n",
       "      <td>40</td>\n",
       "      <td>bug</td>\n",
       "      <td>ghost</td>\n",
       "      <td>3</td>\n",
       "    </tr>\n",
       "  </tbody>\n",
       "</table>\n",
       "</div>"
      ],
      "text/plain": [
       "     attack  defense  hp      name  speed type1  type2  generation\n",
       "291      90       45   1  Shedinja     40   bug  ghost           3"
      ]
     },
     "execution_count": 63,
     "metadata": {},
     "output_type": "execute_result"
    }
   ],
   "source": [
    "pokemon_df.nsmallest(1, \"hp\")"
   ]
  },
  {
   "cell_type": "code",
   "execution_count": null,
   "metadata": {},
   "outputs": [
    {
     "data": {
      "text/html": [
       "<div>\n",
       "<style scoped>\n",
       "    .dataframe tbody tr th:only-of-type {\n",
       "        vertical-align: middle;\n",
       "    }\n",
       "\n",
       "    .dataframe tbody tr th {\n",
       "        vertical-align: top;\n",
       "    }\n",
       "\n",
       "    .dataframe thead th {\n",
       "        text-align: right;\n",
       "    }\n",
       "</style>\n",
       "<table border=\"1\" class=\"dataframe\">\n",
       "  <thead>\n",
       "    <tr style=\"text-align: right;\">\n",
       "      <th></th>\n",
       "      <th>attack</th>\n",
       "      <th>defense</th>\n",
       "      <th>hp</th>\n",
       "      <th>name</th>\n",
       "      <th>speed</th>\n",
       "      <th>type1</th>\n",
       "      <th>type2</th>\n",
       "      <th>generation</th>\n",
       "    </tr>\n",
       "  </thead>\n",
       "  <tbody>\n",
       "    <tr>\n",
       "      <th>207</th>\n",
       "      <td>125</td>\n",
       "      <td>230</td>\n",
       "      <td>75</td>\n",
       "      <td>Steelix</td>\n",
       "      <td>30</td>\n",
       "      <td>steel</td>\n",
       "      <td>ground</td>\n",
       "      <td>2</td>\n",
       "    </tr>\n",
       "    <tr>\n",
       "      <th>212</th>\n",
       "      <td>10</td>\n",
       "      <td>230</td>\n",
       "      <td>20</td>\n",
       "      <td>Shuckle</td>\n",
       "      <td>5</td>\n",
       "      <td>bug</td>\n",
       "      <td>rock</td>\n",
       "      <td>2</td>\n",
       "    </tr>\n",
       "  </tbody>\n",
       "</table>\n",
       "</div>"
      ],
      "text/plain": [
       "     attack  defense  hp     name  speed  type1   type2  generation\n",
       "207     125      230  75  Steelix     30  steel  ground           2\n",
       "212      10      230  20  Shuckle      5    bug    rock           2"
      ]
     },
     "execution_count": 64,
     "metadata": {},
     "output_type": "execute_result"
    }
   ],
   "source": [
    "pokemon_df.nlargest(2, \"defense\")"
   ]
  },
  {
   "cell_type": "code",
   "execution_count": null,
   "metadata": {},
   "outputs": [],
   "source": []
  },
  {
   "cell_type": "code",
   "execution_count": null,
   "metadata": {},
   "outputs": [],
   "source": []
  },
  {
   "cell_type": "code",
   "execution_count": null,
   "metadata": {},
   "outputs": [],
   "source": []
  }
 ],
 "metadata": {
  "kernelspec": {
   "display_name": "Python 3.9.1 64-bit",
   "language": "python",
   "name": "python3"
  },
  "language_info": {
   "codemirror_mode": {
    "name": "ipython",
    "version": 3
   },
   "file_extension": ".py",
   "mimetype": "text/x-python",
   "name": "python",
   "nbconvert_exporter": "python",
   "pygments_lexer": "ipython3",
   "version": "3.9.1"
  },
  "orig_nbformat": 4,
  "vscode": {
   "interpreter": {
    "hash": "aee8b7b246df8f9039afb4144a1f6fd8d2ca17a180786b69acc140d282b71a49"
   }
  }
 },
 "nbformat": 4,
 "nbformat_minor": 2
}
