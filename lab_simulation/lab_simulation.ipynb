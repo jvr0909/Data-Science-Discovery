{
 "cells": [
  {
   "cell_type": "markdown",
   "source": [
    "# Lab: Simulation, 1/14,000,605\n",
    "\n",
    "As you learned in the lecture, **simulation** is an extremely powerful tool to estimate probabilities by replicating the reality and determining the successful observations.\n",
    "\n",
    "In this lab, we will try some increasingly interesting simulations and explore the possibilities with this tool.\n",
    "\n",
    "(Wonder why the title is 1/14,000,605? See Avengers: Infinity War at [https://www.youtube.com/watch?v=eGKPfZTXHsc](https://www.youtube.com/watch?v=eGKPfZTXHsc))\n",
    "\n",
    "## Group\n",
    "\n",
    "Edit the next Python cell to add information about who you're working within your lab section:"
   ],
   "metadata": {}
  },
  {
   "cell_type": "code",
   "execution_count": 2,
   "source": [
    "# First, meet your CAs and TA if you haven't already!\n",
    "# ...first name is enough, we'll know who they are! :)\n",
    "ta_name = \"Heman\"\n",
    "ca1_name = \"Justin\"\n",
    "ca2_name = \"Jessica\"\n",
    "ca3_name = \"\"\n",
    "\n",
    "\n",
    "# Also, make sure to meet your team for this lab! Find out their name, what major they're in,\n",
    "# and learn something new about them that you never knew before!\n",
    "partner1_name = \"Azeem\"\n",
    "partner1_netid = \"ANawez2\"\n",
    "partner1_major = \"Information System\"\n",
    "\n",
    "partner2_name = \"\"\n",
    "partner2_netid = \"\"\n",
    "partner2_major = \"\"\n",
    "\n",
    "partner3_name = \"\"\n",
    "partner3_netid = \"\"\n",
    "partner3_major = \"\""
   ],
   "outputs": [],
   "metadata": {}
  },
  {
   "cell_type": "markdown",
   "source": [
    "## Table of Contents <a id='toc'></a>\n",
    "\n",
    "**Use the Outline view (View > Command Palette > Type \"outline\") for navigation.**\n",
    "\n",
    "* Examples\n",
    "* Puzzle 1\n",
    "    * Puzzle 1.1\n",
    "    * Puzzle 1.2\n",
    "* Puzzle 2\n",
    "    * Puzzle 2.1\n",
    "    * Puzzle 2.2\n",
    "    * Puzzle 2.3 \n",
    "* Puzzle 3\n",
    "    * Puzzle 3.1\n",
    "    * Puzzle 3.2\n",
    "    * Puzzle 3.3\n",
    "    * Puzzle 3.4\n",
    "* Puzzle 4\n",
    "    * Puzzle 4.1\n",
    "    * Puzzle 4.2\n",
    "    * Puzzle 4.3\n",
    "* Extra Credit\n",
    "* Finale"
   ],
   "metadata": {}
  },
  {
   "cell_type": "markdown",
   "source": [
    "## Example 1: Random Seed **(IMPORTANT: PLEASE READ AND RUN THIS EXAMPLE)**\n",
    "\n",
    "A random seed is a number used to initialize a pseudorandom number generator. If we use the same seed, we will get the same random number sequence.\n",
    "\n",
    "In this lab, we will use the random seed to help you check the simulations' output. \n",
    "\n",
    "**Do NOT delete the line that set the seed to 107 in any puzzles.**\n",
    "\n",
    "You will get a different random number sequence and will lose points as a result."
   ],
   "metadata": {}
  },
  {
   "cell_type": "code",
   "execution_count": 3,
   "source": [
    "import pandas as pd\n",
    "import random as rd\n",
    "rd.seed(107)\n",
    "print(rd.random())\n",
    "print(rd.random())\n",
    "print(rd.random())\n",
    "rd.seed(107)\n",
    "print(rd.random())\n",
    "print(rd.random())"
   ],
   "outputs": [
    {
     "output_type": "stream",
     "name": "stdout",
     "text": [
      "0.24648195966935815\n",
      "0.5812899303907797\n",
      "0.9722810069256511\n",
      "0.24648195966935815\n",
      "0.5812899303907797\n"
     ]
    }
   ],
   "metadata": {}
  },
  {
   "cell_type": "markdown",
   "source": [
    "## Example 2: Simulation of Two Dice (You can go to part 1 directly if you are confident.)\n",
    "\n",
    "Suppose we roll two different **fair six-sided dice** at the same time.  One die is colored **blue** while the other is colored **red**.\n",
    "\n",
    "Simulate the above situation **1,000** times and store the observations of the value of the blue die and the red die in `df0`."
   ],
   "metadata": {}
  },
  {
   "cell_type": "code",
   "execution_count": 4,
   "source": [
    "# Step 0: Set the random seed for replicability\n",
    "rd.seed(107)\n",
    "# Step 1: Start with an empty list to store the simulated data\n",
    "data = []\n",
    "# Step 2: Implement the simulation with a for-loop\n",
    "for i in range(1000):\n",
    "    blue = rd.randint(1, 6)\n",
    "    red = rd.randint(1, 6)\n",
    "    d = {\"blue\": blue, \"red\": red}\n",
    "    data.append(d)    \n",
    "# Step 3: Convert the list of simulated data to a dataframe\n",
    "df0 = pd.DataFrame(data)\n",
    "# Sanity check: Show a few random rows\n",
    "df0.sample(5)"
   ],
   "outputs": [
    {
     "output_type": "execute_result",
     "data": {
      "text/plain": [
       "     blue  red\n",
       "784     5    3\n",
       "941     3    2\n",
       "802     2    4\n",
       "181     2    3\n",
       "395     5    3"
      ],
      "text/html": [
       "<div>\n",
       "<style scoped>\n",
       "    .dataframe tbody tr th:only-of-type {\n",
       "        vertical-align: middle;\n",
       "    }\n",
       "\n",
       "    .dataframe tbody tr th {\n",
       "        vertical-align: top;\n",
       "    }\n",
       "\n",
       "    .dataframe thead th {\n",
       "        text-align: right;\n",
       "    }\n",
       "</style>\n",
       "<table border=\"1\" class=\"dataframe\">\n",
       "  <thead>\n",
       "    <tr style=\"text-align: right;\">\n",
       "      <th></th>\n",
       "      <th>blue</th>\n",
       "      <th>red</th>\n",
       "    </tr>\n",
       "  </thead>\n",
       "  <tbody>\n",
       "    <tr>\n",
       "      <th>784</th>\n",
       "      <td>5</td>\n",
       "      <td>3</td>\n",
       "    </tr>\n",
       "    <tr>\n",
       "      <th>941</th>\n",
       "      <td>3</td>\n",
       "      <td>2</td>\n",
       "    </tr>\n",
       "    <tr>\n",
       "      <th>802</th>\n",
       "      <td>2</td>\n",
       "      <td>4</td>\n",
       "    </tr>\n",
       "    <tr>\n",
       "      <th>181</th>\n",
       "      <td>2</td>\n",
       "      <td>3</td>\n",
       "    </tr>\n",
       "    <tr>\n",
       "      <th>395</th>\n",
       "      <td>5</td>\n",
       "      <td>3</td>\n",
       "    </tr>\n",
       "  </tbody>\n",
       "</table>\n",
       "</div>"
      ]
     },
     "metadata": {},
     "execution_count": 4
    }
   ],
   "metadata": {
    "nbgrader": {
     "grade": false,
     "grade_id": "cell-c93866d5164aa8aa",
     "locked": false,
     "schema_version": 3,
     "solution": true,
     "task": false
    }
   }
  },
  {
   "cell_type": "markdown",
   "source": [
    "## Example 3: Probability Estimation of a Two-Dice Event\n",
    "\n",
    "Using the above simulated data, we can estimate the probability that **the blue die lands on 4 or the red die lands on 2**."
   ],
   "metadata": {}
  },
  {
   "cell_type": "code",
   "execution_count": 5,
   "source": [
    "# Numerator:    sum only counts the number of TRUEs.\n",
    "# Denominator:  len counts both TRUEs and FALSEs.\n",
    "#               You can try len((df0['blue'] == 4) | (df0['red'] == 2)).\n",
    "p03 = sum((df0['blue'] == 4) | (df0['red'] == 2))/len(df0)\n",
    "print(p03)\n",
    "# An alternative approach is to subset the success dataframe and find its length.\n",
    "df0_success = df0[(df0['blue'] == 4) | (df0['red'] == 2)]\n",
    "p03_alt = len(df0_success)/len(df0)\n",
    "print(p03_alt)"
   ],
   "outputs": [
    {
     "output_type": "stream",
     "name": "stdout",
     "text": [
      "0.318\n",
      "0.318\n"
     ]
    }
   ],
   "metadata": {
    "nbgrader": {
     "grade": false,
     "grade_id": "cell-5144eadebe059446",
     "locked": false,
     "schema_version": 3,
     "solution": true,
     "task": false
    }
   }
  },
  {
   "cell_type": "markdown",
   "source": [
    "## Example 4: Exact Probability of a Two-Dice Event\n",
    "\n",
    "We can also calculate the exact probability that **the blue die lands on 4 or the red die lands on 2**, which is not far from our estimate in Example 3."
   ],
   "metadata": {}
  },
  {
   "cell_type": "code",
   "execution_count": 6,
   "source": [
    "p03_exact = 1/6 + 1/6 - 1/36\n",
    "p03_exact"
   ],
   "outputs": [
    {
     "output_type": "execute_result",
     "data": {
      "text/plain": [
       "0.3055555555555555"
      ]
     },
     "metadata": {},
     "execution_count": 6
    }
   ],
   "metadata": {
    "nbgrader": {
     "grade": false,
     "grade_id": "cell-a28ce929e8600774",
     "locked": false,
     "schema_version": 3,
     "solution": true,
     "task": false
    }
   }
  },
  {
   "cell_type": "markdown",
   "source": [
    "# Puzzle 1: Rolling Three Dice\n",
    "\n",
    "## Puzzle 1.1: Simulation of Three Dice\n",
    "\n",
    "Suppose we roll three different **fair six-sided dice**: a **white**, a **red**, and a **blue**.\n",
    "\n",
    "Simulate the above situation **1,000** times and store the observations in `df1`.\n",
    "\n",
    "Hint (double-click this cell to see it): <span style=\"color:#ffffff00\">see Example 2. Try not to copy and paste so that you can learn line by line.</span>"
   ],
   "metadata": {}
  },
  {
   "cell_type": "code",
   "execution_count": 9,
   "source": [
    "rd.seed(107)\n",
    "# Step 1: Start with an empty list to store the simulated data\n",
    "data1 = []\n",
    "# Step 2: Implement the simulation with a for-loop\n",
    "for i in range(1000):\n",
    "    blue = rd.randint(1, 6)\n",
    "    red = rd.randint(1, 6)\n",
    "    white = rd.randint(1,6)\n",
    "    d = {\"blue\": blue, \"red\": red, \"white\": white}\n",
    "    data1.append(d)    \n",
    "# Step 3: Convert the list of simulated data to a dataframe \n",
    "df1 = pd.DataFrame(data1)\n",
    "df1.sample(5)"
   ],
   "outputs": [
    {
     "output_type": "execute_result",
     "data": {
      "text/plain": [
       "     blue  red  white\n",
       "942     3    6      6\n",
       "86      5    4      1\n",
       "162     5    1      4\n",
       "885     2    4      4\n",
       "799     3    3      5"
      ],
      "text/html": [
       "<div>\n",
       "<style scoped>\n",
       "    .dataframe tbody tr th:only-of-type {\n",
       "        vertical-align: middle;\n",
       "    }\n",
       "\n",
       "    .dataframe tbody tr th {\n",
       "        vertical-align: top;\n",
       "    }\n",
       "\n",
       "    .dataframe thead th {\n",
       "        text-align: right;\n",
       "    }\n",
       "</style>\n",
       "<table border=\"1\" class=\"dataframe\">\n",
       "  <thead>\n",
       "    <tr style=\"text-align: right;\">\n",
       "      <th></th>\n",
       "      <th>blue</th>\n",
       "      <th>red</th>\n",
       "      <th>white</th>\n",
       "    </tr>\n",
       "  </thead>\n",
       "  <tbody>\n",
       "    <tr>\n",
       "      <th>942</th>\n",
       "      <td>3</td>\n",
       "      <td>6</td>\n",
       "      <td>6</td>\n",
       "    </tr>\n",
       "    <tr>\n",
       "      <th>86</th>\n",
       "      <td>5</td>\n",
       "      <td>4</td>\n",
       "      <td>1</td>\n",
       "    </tr>\n",
       "    <tr>\n",
       "      <th>162</th>\n",
       "      <td>5</td>\n",
       "      <td>1</td>\n",
       "      <td>4</td>\n",
       "    </tr>\n",
       "    <tr>\n",
       "      <th>885</th>\n",
       "      <td>2</td>\n",
       "      <td>4</td>\n",
       "      <td>4</td>\n",
       "    </tr>\n",
       "    <tr>\n",
       "      <th>799</th>\n",
       "      <td>3</td>\n",
       "      <td>3</td>\n",
       "      <td>5</td>\n",
       "    </tr>\n",
       "  </tbody>\n",
       "</table>\n",
       "</div>"
      ]
     },
     "metadata": {},
     "execution_count": 9
    }
   ],
   "metadata": {
    "nbgrader": {
     "grade": false,
     "grade_id": "cell-c42efbf1ba47dcab",
     "locked": false,
     "schema_version": 3,
     "solution": true,
     "task": false
    }
   }
  },
  {
   "cell_type": "markdown",
   "source": [
    "## Puzzle 1.2: Probability Estimation of a Three-Dice Event\n",
    "\n",
    "Estimate the probability that the **sum of all three dice is exactly 9**. Store the result in `p12`.\n",
    "\n",
    "Hint (double-click this cell to see it): <span style=\"color:#ffffff00\">see Example 3. You can use .sum(axis=1) to obtain the sum of all three dice row by row.</span>"
   ],
   "metadata": {}
  },
  {
   "cell_type": "code",
   "execution_count": 10,
   "source": [
    "p12 = sum(((df1['blue'] +df1[\"white\"] + df1[\"red\"])==9))/len(df0)\n",
    "\n",
    "# Numerator:    sum only counts the number of TRUEs.\n",
    "# Denominator:  len counts both TRUEs and FALSEs.\n",
    "#               You can try len((df0['blue'] == 4) | (df0['red'] == 2)).\n",
    "\n",
    "\n",
    "p12"
   ],
   "outputs": [
    {
     "output_type": "execute_result",
     "data": {
      "text/plain": [
       "0.127"
      ]
     },
     "metadata": {},
     "execution_count": 10
    }
   ],
   "metadata": {
    "nbgrader": {
     "grade": false,
     "grade_id": "cell-b16fd8d9c98834ef",
     "locked": false,
     "schema_version": 3,
     "solution": true,
     "task": false
    }
   }
  },
  {
   "cell_type": "code",
   "execution_count": 11,
   "source": [
    "## == TEST CASES for Part 1 ==\n",
    "# - This read-only cell contains test cases for your previous cell(s).\n",
    "# - If this cell runs without any error, you PASSED all test cases!\n",
    "# - If this cell results in any errors, check your previous cell(s), make changes, and RE-RUN your code and then this cell.\n",
    "import math\n",
    "assert(len(df1) == 1000), \"Make sure your df1 has exactly 1,000 observations\"\n",
    "assert(math.isclose(p12, 127/1000)), \"Make sure you set the seed to 107 and estimate the correct probability in p12\"\n",
    "\n",
    "## == SUCCESS MESSAGE ==\n",
    "# You will only see this message (with the emoji showing) if you passed all test cases:\n",
    "tada = \"\\N{PARTY POPPER}\"\n",
    "print(f\"{tada} All tests passed! {tada}\")"
   ],
   "outputs": [
    {
     "output_type": "stream",
     "name": "stdout",
     "text": [
      "🎉 All tests passed! 🎉\n"
     ]
    }
   ],
   "metadata": {
    "nbgrader": {
     "grade": true,
     "grade_id": "cell-571231fcdfa9de08",
     "locked": true,
     "points": 1,
     "schema_version": 3,
     "solution": false,
     "task": false
    }
   }
  },
  {
   "cell_type": "markdown",
   "source": [
    "# Puzzle 2: Fliping Four Coins\n",
    "\n",
    "## Puzzle 2.1: Simulation of Four Coins\n",
    "\n",
    "Suppose we flip **four fair coins**, one coin at a time and one after another. Each coin has two sides: **\"head\" (defined as `1`)** and **\"tail\" (defined as `0`)**.\n",
    "\n",
    "Simulate the above situation **50,000** times and store the observations in `df2`.\n",
    "\n",
    "Hint (double-click this cell to see it): <span style=\"color:#ffffff00\">see Example 2. Try not to copy and paste so that you can learn line by line.</span>"
   ],
   "metadata": {}
  },
  {
   "cell_type": "code",
   "execution_count": 35,
   "source": [
    "rd.seed(107)\n",
    "# Step 1: Start with an empty list to store the simulated data\n",
    "data2 = []\n",
    "# Step 2: Implement the simulation with a for-loop\n",
    "for i in range(50000):\n",
    "    coin1 = rd.randint(0, 1)\n",
    "    coin2 = rd.randint(0, 1)\n",
    "    coin3 = rd.randint(0, 1)\n",
    "    coin4 = rd.randint(0, 1)\n",
    "    d = {\"coin1\": coin1, \"coin2\": coin2, \"coin3\":coin3, \"coin4\": coin4}\n",
    "    data2.append(d)    \n",
    "# Step 3: Convert the list of simulated data to a dataframe \n",
    "df2 = pd.DataFrame(data2)\n",
    "df2.sample(5)"
   ],
   "outputs": [
    {
     "output_type": "execute_result",
     "data": {
      "text/plain": [
       "       coin1  coin2  coin3  coin4\n",
       "36908      0      0      0      0\n",
       "26003      1      0      1      1\n",
       "7092       1      1      0      1\n",
       "19670      0      1      0      1\n",
       "5731       1      0      1      0"
      ],
      "text/html": [
       "<div>\n",
       "<style scoped>\n",
       "    .dataframe tbody tr th:only-of-type {\n",
       "        vertical-align: middle;\n",
       "    }\n",
       "\n",
       "    .dataframe tbody tr th {\n",
       "        vertical-align: top;\n",
       "    }\n",
       "\n",
       "    .dataframe thead th {\n",
       "        text-align: right;\n",
       "    }\n",
       "</style>\n",
       "<table border=\"1\" class=\"dataframe\">\n",
       "  <thead>\n",
       "    <tr style=\"text-align: right;\">\n",
       "      <th></th>\n",
       "      <th>coin1</th>\n",
       "      <th>coin2</th>\n",
       "      <th>coin3</th>\n",
       "      <th>coin4</th>\n",
       "    </tr>\n",
       "  </thead>\n",
       "  <tbody>\n",
       "    <tr>\n",
       "      <th>36908</th>\n",
       "      <td>0</td>\n",
       "      <td>0</td>\n",
       "      <td>0</td>\n",
       "      <td>0</td>\n",
       "    </tr>\n",
       "    <tr>\n",
       "      <th>26003</th>\n",
       "      <td>1</td>\n",
       "      <td>0</td>\n",
       "      <td>1</td>\n",
       "      <td>1</td>\n",
       "    </tr>\n",
       "    <tr>\n",
       "      <th>7092</th>\n",
       "      <td>1</td>\n",
       "      <td>1</td>\n",
       "      <td>0</td>\n",
       "      <td>1</td>\n",
       "    </tr>\n",
       "    <tr>\n",
       "      <th>19670</th>\n",
       "      <td>0</td>\n",
       "      <td>1</td>\n",
       "      <td>0</td>\n",
       "      <td>1</td>\n",
       "    </tr>\n",
       "    <tr>\n",
       "      <th>5731</th>\n",
       "      <td>1</td>\n",
       "      <td>0</td>\n",
       "      <td>1</td>\n",
       "      <td>0</td>\n",
       "    </tr>\n",
       "  </tbody>\n",
       "</table>\n",
       "</div>"
      ]
     },
     "metadata": {},
     "execution_count": 35
    }
   ],
   "metadata": {
    "nbgrader": {
     "grade": false,
     "grade_id": "cell-da32a7ecb4863a7f",
     "locked": false,
     "schema_version": 3,
     "solution": true,
     "task": false
    }
   }
  },
  {
   "cell_type": "markdown",
   "source": [
    "## Puzzle 2.2: Probability Estimation of a Four-Coins Event\n",
    "\n",
    "Estimate the probability that **the first two coin flips are both heads and last two coin flips are both tails**. Store the result in `p22`.\n",
    "\n",
    "Hint (double-click this cell to see it): <span style=\"color:#ffffff00\">see Example 3.</span>"
   ],
   "metadata": {}
  },
  {
   "cell_type": "code",
   "execution_count": 36,
   "source": [
    "\n",
    "# Numerator:    sum only counts the number of TRUEs.\n",
    "# Denominator:  len counts both TRUEs and FALSEs.\n",
    "#               You can try len((df0['blue'] == 4) | (df0['red'] == 2)).\n",
    "\n",
    "\n",
    "p22 = sum((df2[\"coin1\"] == 1)&(df2[\"coin2\"] == 1)&(df2[\"coin3\"] == 0)&(df2[\"coin4\"] == 0))/len(df2)\n",
    "p22"
   ],
   "outputs": [
    {
     "output_type": "execute_result",
     "data": {
      "text/plain": [
       "0.06382"
      ]
     },
     "metadata": {},
     "execution_count": 36
    }
   ],
   "metadata": {
    "nbgrader": {
     "grade": false,
     "grade_id": "cell-500cf95087dcb6db",
     "locked": false,
     "schema_version": 3,
     "solution": true,
     "task": false
    }
   }
  },
  {
   "cell_type": "markdown",
   "source": [
    "## Puzzle 2.3: Probability Estimation of Another Four-Coins Event\n",
    "\n",
    "Estimate the probability that **at most two coin flips are heads**. Store the result in `p23`.\n",
    "\n",
    "Hint (double-click this cell to see it): <span style=\"color:#ffffff00\">see Example 3. You can use .sum(axis=1) to obtain the \"sum\" of four coins row by row.</span>"
   ],
   "metadata": {}
  },
  {
   "cell_type": "code",
   "execution_count": 37,
   "source": [
    "p23 = sum(df2.sum(axis=1) <= 2) / len(df2)\n",
    "p23"
   ],
   "outputs": [
    {
     "output_type": "execute_result",
     "data": {
      "text/plain": [
       "0.68536"
      ]
     },
     "metadata": {},
     "execution_count": 37
    }
   ],
   "metadata": {
    "nbgrader": {
     "grade": false,
     "grade_id": "cell-500cf95087dcb6db",
     "locked": false,
     "schema_version": 3,
     "solution": true,
     "task": false
    }
   }
  },
  {
   "cell_type": "code",
   "execution_count": 38,
   "source": [
    "## == TEST CASES for Part 2 ==\n",
    "# - This read-only cell contains test cases for your previous cell(s).\n",
    "# - If this cell runs without any error, you PASSED all test cases!\n",
    "# - If this cell results in any errors, check your previous cell(s), make changes, and RE-RUN your code and then this cell.\n",
    "import math\n",
    "assert(len(df2) == 50000), \"Make sure your df2 has exactly 50,000 observations\"\n",
    "assert(math.isclose(p22, 3191/50000)), \"Make sure you set the seed to 107 and estimate the correct probability in p22\"\n",
    "assert(math.isclose(p23, 34268/50000)), \"Make sure you set the seed to 107 and estimate the correct probability in p23\"\n",
    "\n",
    "## == SUCCESS MESSAGE ==\n",
    "# You will only see this message (with the emoji showing) if you passed all test cases:\n",
    "tada = \"\\N{PARTY POPPER}\"\n",
    "print(f\"{tada} All tests passed! {tada}\")"
   ],
   "outputs": [
    {
     "output_type": "stream",
     "name": "stdout",
     "text": [
      "🎉 All tests passed! 🎉\n"
     ]
    }
   ],
   "metadata": {
    "nbgrader": {
     "grade": true,
     "grade_id": "cell-ee8226d0066bb603",
     "locked": true,
     "points": 1,
     "schema_version": 3,
     "solution": false,
     "task": false
    }
   }
  },
  {
   "cell_type": "markdown",
   "source": [
    "# Puzzle 3: Avengers: Infinity War\n",
    "\n",
    "## Puzzle 3.1: Simulation of the Battle on Titan\n",
    "\n",
    "Suppose the **power level** of the characters engaged in the battle on Titan can be modelled as follows:\n",
    "\n",
    "1. Thanos:  a random integer between 80 to 120.\n",
    "2. Strange: a random integer between 10 to 20.\n",
    "3. Stark:   a random integer between 10 to 16.\n",
    "4. Parker:  a random integer between 6 to 12.\n",
    "5. Mantis:  a random real number between 0.8 to 1 (inclusive). The code for Mantis is given.\n",
    "6. Drax:    a random integer between 8 to 16.\n",
    "7. Nebula:  a random integer between 8 to 16.\n",
    "8. Quill:   a random integer between -10 to 10.\n",
    "\n",
    "Simulate the power levels **100,000** times **in the order listed above** and store the observations in `df3`.\n",
    "\n",
    "Hint (double-click this cell to see it): <span style=\"color:#ffffff00\">see Example 2. Try not to copy and paste so that you can learn line by line.</span>"
   ],
   "metadata": {}
  },
  {
   "cell_type": "code",
   "execution_count": 58,
   "source": [
    "rd.seed(107)\n",
    "data3 = []\n",
    "for i in range(100000):\n",
    "    thanos = rd.randint(80, 120)\n",
    "    strange = rd.randint(10, 20)\n",
    "    stark = rd.randint(10, 16)\n",
    "    parker = rd.randint(6, 12)\n",
    "    mantis = rd.uniform(0.8, 1)\n",
    "    drax = rd.randint(8, 16)\n",
    "    nebula = rd.randint(8, 16)\n",
    "    quill = rd.randint(-10, 10)\n",
    "    d = {\"thanos\": thanos, \"strange\": strange, \"stark\":stark, \"parker\": parker, \"mantis\": mantis, \"drax\": drax, \"nebula\": nebula, \"quill\": quill}\n",
    "    data3.append(d)\n",
    "df3 = pd.DataFrame(data3)\n",
    "df3.sample(5)"
   ],
   "outputs": [
    {
     "output_type": "execute_result",
     "data": {
      "text/plain": [
       "       thanos  strange  stark  parker    mantis  drax  nebula  quill\n",
       "44450      83       14     14      10  0.828656    14      11     -1\n",
       "33961      88       14     10      10  0.929737    12      11     -8\n",
       "84273     100       17     12       7  0.926796    11      15      8\n",
       "71279     113       11     12      12  0.910070    14      16     -6\n",
       "66893     103       10     16      10  0.851886     9      10     -1"
      ],
      "text/html": [
       "<div>\n",
       "<style scoped>\n",
       "    .dataframe tbody tr th:only-of-type {\n",
       "        vertical-align: middle;\n",
       "    }\n",
       "\n",
       "    .dataframe tbody tr th {\n",
       "        vertical-align: top;\n",
       "    }\n",
       "\n",
       "    .dataframe thead th {\n",
       "        text-align: right;\n",
       "    }\n",
       "</style>\n",
       "<table border=\"1\" class=\"dataframe\">\n",
       "  <thead>\n",
       "    <tr style=\"text-align: right;\">\n",
       "      <th></th>\n",
       "      <th>thanos</th>\n",
       "      <th>strange</th>\n",
       "      <th>stark</th>\n",
       "      <th>parker</th>\n",
       "      <th>mantis</th>\n",
       "      <th>drax</th>\n",
       "      <th>nebula</th>\n",
       "      <th>quill</th>\n",
       "    </tr>\n",
       "  </thead>\n",
       "  <tbody>\n",
       "    <tr>\n",
       "      <th>44450</th>\n",
       "      <td>83</td>\n",
       "      <td>14</td>\n",
       "      <td>14</td>\n",
       "      <td>10</td>\n",
       "      <td>0.828656</td>\n",
       "      <td>14</td>\n",
       "      <td>11</td>\n",
       "      <td>-1</td>\n",
       "    </tr>\n",
       "    <tr>\n",
       "      <th>33961</th>\n",
       "      <td>88</td>\n",
       "      <td>14</td>\n",
       "      <td>10</td>\n",
       "      <td>10</td>\n",
       "      <td>0.929737</td>\n",
       "      <td>12</td>\n",
       "      <td>11</td>\n",
       "      <td>-8</td>\n",
       "    </tr>\n",
       "    <tr>\n",
       "      <th>84273</th>\n",
       "      <td>100</td>\n",
       "      <td>17</td>\n",
       "      <td>12</td>\n",
       "      <td>7</td>\n",
       "      <td>0.926796</td>\n",
       "      <td>11</td>\n",
       "      <td>15</td>\n",
       "      <td>8</td>\n",
       "    </tr>\n",
       "    <tr>\n",
       "      <th>71279</th>\n",
       "      <td>113</td>\n",
       "      <td>11</td>\n",
       "      <td>12</td>\n",
       "      <td>12</td>\n",
       "      <td>0.910070</td>\n",
       "      <td>14</td>\n",
       "      <td>16</td>\n",
       "      <td>-6</td>\n",
       "    </tr>\n",
       "    <tr>\n",
       "      <th>66893</th>\n",
       "      <td>103</td>\n",
       "      <td>10</td>\n",
       "      <td>16</td>\n",
       "      <td>10</td>\n",
       "      <td>0.851886</td>\n",
       "      <td>9</td>\n",
       "      <td>10</td>\n",
       "      <td>-1</td>\n",
       "    </tr>\n",
       "  </tbody>\n",
       "</table>\n",
       "</div>"
      ]
     },
     "metadata": {},
     "execution_count": 58
    }
   ],
   "metadata": {
    "nbgrader": {
     "grade": false,
     "grade_id": "cell-da32a7ecb4863a7f",
     "locked": false,
     "schema_version": 3,
     "solution": true,
     "task": false
    }
   }
  },
  {
   "cell_type": "markdown",
   "source": [
    "## Puzzle 3.2: Probability Estimation of Winning the Battle\n",
    "\n",
    "Suppose the superheroes win when\n",
    "$$\n",
    "\\mathrm{Strange} +\\mathrm{Stark} +\\mathrm{Parker} +\\mathrm{Drax} +\\mathrm{Nebula} +\\mathrm{Quill} \\ge \\mathrm{Mantis} \\times \\mathrm{Thanos}.\n",
    "$$\n",
    "Estimate the probability that **the superheroes win**. Store the result in `p32`.\n",
    "\n",
    "Hint (double-click this cell to see it): <span style=\"color:#ffffff00\">see Example 3. You can use df[list].sum(axis=1) to obtain the row sum of columns with name in list.</span>"
   ],
   "metadata": {}
  },
  {
   "cell_type": "code",
   "execution_count": 59,
   "source": [
    "hero = [\"strange\", \"stark\", \"parker\", \"drax\", \"nebula\", \"quill\"]\n",
    "\n",
    "p32 = sum((df3[hero].sum(axis=1)) >= (df3[\"mantis\"]*df3[\"thanos\"])) /  len(df3)\n",
    "p32"
   ],
   "outputs": [
    {
     "output_type": "execute_result",
     "data": {
      "text/plain": [
       "0.01717"
      ]
     },
     "metadata": {},
     "execution_count": 59
    }
   ],
   "metadata": {
    "nbgrader": {
     "grade": false,
     "grade_id": "cell-500cf95087dcb6db",
     "locked": false,
     "schema_version": 3,
     "solution": true,
     "task": false
    }
   }
  },
  {
   "cell_type": "markdown",
   "source": [
    "## Puzzle 3.3: Conditional Probability Estimation of Winning the Battle\n",
    "\n",
    "Recall the superheroes win when\n",
    "$$\n",
    "\\mathrm{Strange} +\\mathrm{Stark} +\\mathrm{Parker} +\\mathrm{Drax} +\\mathrm{Nebula} +\\mathrm{Quill} \\ge \\mathrm{Mantis} \\times \\mathrm{Thanos}.\n",
    "$$\n",
    "Estimate the probability that **the superheroes win given that $\\mathrm{Mantis} < 0.9$**. Store the result in `p33`.\n",
    "\n",
    "Hint (double-click this cell to see it): <span style=\"color:#ffffff00\">use Bayes' rule (or definition of conditional probability) on top of the code in Puzzle 3.2.</span>"
   ],
   "metadata": {}
  },
  {
   "cell_type": "code",
   "execution_count": 67,
   "source": [
    "df_90 = df3[df3[\"mantis\"] < .9]\n",
    "\n",
    "p33 = sum((df_90[hero].sum(axis=1)) >= (df_90[\"mantis\"]*df_90[\"thanos\"])) /  len(df_90)\n",
    "p33"
   ],
   "outputs": [
    {
     "output_type": "execute_result",
     "data": {
      "text/plain": [
       "0.03127697588982796"
      ]
     },
     "metadata": {},
     "execution_count": 67
    }
   ],
   "metadata": {
    "nbgrader": {
     "grade": false,
     "grade_id": "cell-500cf95087dcb6db",
     "locked": false,
     "schema_version": 3,
     "solution": true,
     "task": false
    }
   }
  },
  {
   "cell_type": "code",
   "execution_count": 68,
   "source": [
    "## == TEST CASES for Part 3 ==\n",
    "# - This read-only cell contains test cases for your previous cell(s).\n",
    "# - If this cell runs without any error, you PASSED all test cases!\n",
    "# - If this cell results in any errors, check your previous cell(s), make changes, and RE-RUN your code and then this cell.\n",
    "import math\n",
    "assert(len(df3) == 100000), \"Make sure your df3 has exactly 100,000 observations\"\n",
    "assert(math.isclose(p32, 1717/100000)), \"Make sure you follow the instruction in Puzzle 3.1 and estimate the correct probability in p32\"\n",
    "assert(math.isclose(p33, 1558/49813)), \"Make sure you follow the instruction in Puzzle 3.1 and estimate the correct probability in p33\"\n",
    "\n",
    "## == SUCCESS MESSAGE ==\n",
    "# You will only see this message (with the emoji showing) if you passed all test cases:\n",
    "tada = \"\\N{PARTY POPPER}\"\n",
    "print(f\"{tada} All tests passed! {tada}\")"
   ],
   "outputs": [
    {
     "output_type": "stream",
     "name": "stdout",
     "text": [
      "🎉 All tests passed! 🎉\n"
     ]
    }
   ],
   "metadata": {
    "nbgrader": {
     "grade": true,
     "grade_id": "cell-ee8226d0066bb603",
     "locked": true,
     "points": 1,
     "schema_version": 3,
     "solution": false,
     "task": false
    }
   }
  },
  {
   "cell_type": "markdown",
   "source": [
    "## Puzzle 3.4: ❓ Usefulness of Simulation ❓ \n",
    "\n",
    "Can you find the exact probabilities in Puzzle 3.2/3.3? What are the advantage(s) of simulation?"
   ],
   "metadata": {}
  },
  {
   "cell_type": "markdown",
   "source": [
    "Yes you can find the exact probalities with complex transformation theories. The advantages of simulation are that they help you estimate the exact probabilities. "
   ],
   "metadata": {}
  },
  {
   "cell_type": "markdown",
   "source": [
    "# Puzzle 4: Beyond Probability Estimation\n",
    "\n",
    "## Puzzle 4.1: Simulation of Points on a Unit Square\n",
    "\n",
    "Imagine we have a **unit square** with the corners at $(0,0)$, $(0,1)$, $(1,1)$ and $(1,0)$, respectively.\n",
    "\n",
    "Simulate **100,000** random points on this square and store the observations in `df4`.\n",
    "\n",
    "Hint (double-click this cell to see it): <span style=\"color:#ffffff00\">see Example 2. The x-coordinate and y-coordiante of a random point can be generated by rd.random().</span>"
   ],
   "metadata": {}
  },
  {
   "cell_type": "code",
   "execution_count": 71,
   "source": [
    "rd.seed(107)\n",
    "data4 = []\n",
    "for i in range(100000):\n",
    "    pointx = rd.uniform(0, 1)\n",
    "    pointy = rd.uniform(0, 1)\n",
    "    d = {\"pointx\": pointx, \"pointy\": pointy}\n",
    "    data4.append(d)   \n",
    "    \n",
    "df4 = pd.DataFrame(data4)\n",
    "df4.sample(5)"
   ],
   "outputs": [
    {
     "output_type": "execute_result",
     "data": {
      "text/plain": [
       "         pointx    pointy\n",
       "22822  0.158752  0.418709\n",
       "73437  0.140438  0.557706\n",
       "46428  0.582448  0.673891\n",
       "16024  0.841299  0.876958\n",
       "30595  0.037893  0.894923"
      ],
      "text/html": [
       "<div>\n",
       "<style scoped>\n",
       "    .dataframe tbody tr th:only-of-type {\n",
       "        vertical-align: middle;\n",
       "    }\n",
       "\n",
       "    .dataframe tbody tr th {\n",
       "        vertical-align: top;\n",
       "    }\n",
       "\n",
       "    .dataframe thead th {\n",
       "        text-align: right;\n",
       "    }\n",
       "</style>\n",
       "<table border=\"1\" class=\"dataframe\">\n",
       "  <thead>\n",
       "    <tr style=\"text-align: right;\">\n",
       "      <th></th>\n",
       "      <th>pointx</th>\n",
       "      <th>pointy</th>\n",
       "    </tr>\n",
       "  </thead>\n",
       "  <tbody>\n",
       "    <tr>\n",
       "      <th>22822</th>\n",
       "      <td>0.158752</td>\n",
       "      <td>0.418709</td>\n",
       "    </tr>\n",
       "    <tr>\n",
       "      <th>73437</th>\n",
       "      <td>0.140438</td>\n",
       "      <td>0.557706</td>\n",
       "    </tr>\n",
       "    <tr>\n",
       "      <th>46428</th>\n",
       "      <td>0.582448</td>\n",
       "      <td>0.673891</td>\n",
       "    </tr>\n",
       "    <tr>\n",
       "      <th>16024</th>\n",
       "      <td>0.841299</td>\n",
       "      <td>0.876958</td>\n",
       "    </tr>\n",
       "    <tr>\n",
       "      <th>30595</th>\n",
       "      <td>0.037893</td>\n",
       "      <td>0.894923</td>\n",
       "    </tr>\n",
       "  </tbody>\n",
       "</table>\n",
       "</div>"
      ]
     },
     "metadata": {},
     "execution_count": 71
    }
   ],
   "metadata": {
    "nbgrader": {
     "grade": false,
     "grade_id": "cell-da32a7ecb4863a7f",
     "locked": false,
     "schema_version": 3,
     "solution": true,
     "task": false
    }
   }
  },
  {
   "cell_type": "markdown",
   "source": [
    "## Puzzle 4.2: Estimation of $\\pi$\n",
    "\n",
    "Now, we incribe a **circle** (with radius $0.5$) in the previous square. The circumcenter is $(0.5, 0.5)$. Clearly, a point would fall inside the circle if\n",
    "$$\n",
    "(x-0.5)^2 +(y-0.5)^2 \\le 0.5^2.\n",
    "$$\n",
    "On the other hand, we have the following relationship:\n",
    "$$\n",
    "\\frac{\\text{no. of pts inside the circle}}{\\text{no. of pts inside the square}}\n",
    "\\approx \\frac{\\text{area of the circle}}{\\text{area of the square}}\n",
    "= \\frac{0.5^2 \\pi}{1} = \\frac{\\pi}{4}.\n",
    "$$\n",
    "Rearranging the equation, we can estimate $\\pi$ by\n",
    "$$\n",
    "\\pi \\approx \\frac{4 \\times \\text{no. of pts inside the circle}}{\\text{no. of pts inside the square}}.\n",
    "$$\n",
    "\n",
    "Estimate $\\pi$ using the above relationship. Store the result in `pie`.\n",
    "\n",
    "Hint (double-click this cell to see it): <span style=\"color:#ffffff00\">see Example 3. \n",
    "The number of points inside the circle can be found by checking the equation (x-0.5)^2 +(y-0.5)^2 <= 0.5^2.</span>"
   ],
   "metadata": {}
  },
  {
   "cell_type": "code",
   "execution_count": 76,
   "source": [
    "df_circle = df4[((df4[\"pointx\"] - .5)**2) + ((df4[\"pointy\"] - .5)**2) <= (.5**2)]\n",
    "\n",
    "pie = 4*len(df_circle)/len(df4)\n",
    "pie"
   ],
   "outputs": [
    {
     "output_type": "execute_result",
     "data": {
      "text/plain": [
       "3.14192"
      ]
     },
     "metadata": {},
     "execution_count": 76
    }
   ],
   "metadata": {
    "nbgrader": {
     "grade": false,
     "grade_id": "cell-500cf95087dcb6db",
     "locked": false,
     "schema_version": 3,
     "solution": true,
     "task": false
    }
   }
  },
  {
   "cell_type": "code",
   "execution_count": 77,
   "source": [
    "## == TEST CASES for Part 4 ==\n",
    "# - This read-only cell contains test cases for your previous cell(s).\n",
    "# - If this cell runs without any error, you PASSED all test cases!\n",
    "# - If this cell results in any errors, check your previous cell(s), make changes, and RE-RUN your code and then this cell.\n",
    "import math\n",
    "assert(len(df4) == 100000), \"Make sure your df4 has exactly 100,000 observations\"\n",
    "assert(math.isclose(pie, 314192/100000)), \"Make sure you use the correct equation(s) in Puzzle 4.2\"\n",
    "\n",
    "## == SUCCESS MESSAGE ==\n",
    "# You will only see this message (with the emoji showing) if you passed all test cases:\n",
    "tada = \"\\N{PARTY POPPER}\"\n",
    "print(f\"{tada} All tests passed! {tada}\")"
   ],
   "outputs": [
    {
     "output_type": "stream",
     "name": "stdout",
     "text": [
      "🎉 All tests passed! 🎉\n"
     ]
    }
   ],
   "metadata": {
    "nbgrader": {
     "grade": true,
     "grade_id": "cell-ee8226d0066bb603",
     "locked": true,
     "points": 1,
     "schema_version": 3,
     "solution": false,
     "task": false
    }
   }
  },
  {
   "cell_type": "markdown",
   "source": [
    "## Puzzle 4.3: ❓ Beyond Probability Estimation ❓\n",
    "\n",
    " Puzzle 4.2 presents an example where we use simulation for estimating quantity other than probability. Can you name other application(s) of simulation?\n",
    "\n",
    "Hint (double-click this cell to see it): <span style=\"color:#ffffff00\">check https://en.wikipedia.org/wiki/Monte_Carlo_method#Applications if you have no clues at all.</span>"
   ],
   "metadata": {}
  },
  {
   "cell_type": "markdown",
   "source": [
    "To calculate financial derivities and risk managemnet"
   ],
   "metadata": {}
  },
  {
   "cell_type": "markdown",
   "source": [
    "## Extra Credit: Animation of the Estimation of $\\pi$\n",
    "\n",
    "Try to replicate simulation_pi.gif in the directory! A working example can be found at https://commons.wikimedia.org/wiki/File:Pi_30K.gif. Here are a few things you may want to change in the working example:\n",
    "\n",
    "1. Delete the lines with `rcParams` and `ani.save()`. Saving the animation needs extra software, which is not required for extra credit.\n",
    "2. Add an extra argument `repeat=False` to `animation.FuncAnimation()`. This avoids infinite loop of your animation when you debug;  \n",
    "see https://matplotlib.org/3.5.1/api/_as_gen/matplotlib.animation.FuncAnimation.html.\n",
    "3. After `animation.FuncAnimation()`, add two lines: `from IPython.display import HTML` and `HTML(ani.to_jshtml())`.  \n",
    "This display your animation when you run the code; see https://stackoverflow.com/questions/25333732/matplotlib-animation-not-working-in-ipython-notebook-blank-plot.\n",
    "4. Change `pts = np.random.uniform(low=0, high=1, size=(2, n))` to `pts = df4.iloc[:n].transpose().to_numpy()`.  \n",
    "It is a bad idea to simulate the points again for every frame in the animation.\n",
    "5. Change the conditions in `circ` and `out_circ`, which correspond to the points inside and outside the circle respectively.  \n",
    "You need to change them because the working example is for 1/4 of a unit circle only.\n",
    "6. Delete `circle = mpatches.Wedge((0, 0), 1, 0, 90,  color=gray)` and `ax.add_artist(circle)`.  \n",
    "We do not require the boundary of the circle for extra credit. However, you may modify them instead if you want.\n",
    "7. Change the argument `markersize` in `plt.plot()` if you want larger dots in the animation.\n",
    "8. Change `nvec`. simulation_pi.gif uses $n=400, 800, \\ldots, 10000$.\n"
   ],
   "metadata": {}
  },
  {
   "cell_type": "code",
   "execution_count": null,
   "source": [],
   "outputs": [],
   "metadata": {}
  },
  {
   "cell_type": "markdown",
   "source": [
    "# Finale!\n",
    "\n",
    "You're almost done -- congratulations!\n",
    "\n",
    "You need to do two more things:\n",
    "\n",
    "1.  Save your work. To do this, go to File -> Save All\n",
    "\n",
    "2.  After you have saved, exit this notebook and follow the webpage instructions to commit this lab to your Git repository!"
   ],
   "metadata": {}
  }
 ],
 "metadata": {
  "celltoolbar": "Create Assignment",
  "interpreter": {
   "hash": "c0b4b332f31a7ee7ec5b55d27ae6e5e906d5b533d204d9e51c2cddbfabeeb3e3"
  },
  "kernelspec": {
   "name": "python3",
   "display_name": "Python 3.8.5 64-bit ('base': conda)"
  },
  "language_info": {
   "codemirror_mode": {
    "name": "ipython",
    "version": 3
   },
   "file_extension": ".py",
   "mimetype": "text/x-python",
   "name": "python",
   "nbconvert_exporter": "python",
   "pygments_lexer": "ipython3",
   "version": "3.8.5"
  }
 },
 "nbformat": 4,
 "nbformat_minor": 4
}